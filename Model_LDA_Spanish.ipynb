{
  "nbformat": 4,
  "nbformat_minor": 0,
  "metadata": {
    "colab": {
      "name": "Model LDA Spanish.ipynb",
      "provenance": [],
      "collapsed_sections": [],
      "authorship_tag": "ABX9TyPxMm/AIfOs7kvOGJqumMR1",
      "include_colab_link": true
    },
    "kernelspec": {
      "name": "python3",
      "display_name": "Python 3"
    },
    "accelerator": "GPU"
  },
  "cells": [
    {
      "cell_type": "markdown",
      "metadata": {
        "id": "view-in-github",
        "colab_type": "text"
      },
      "source": [
        "<a href=\"https://colab.research.google.com/github/dincker/PLN/blob/master/Model_LDA_Spanish.ipynb\" target=\"_parent\"><img src=\"https://colab.research.google.com/assets/colab-badge.svg\" alt=\"Open In Colab\"/></a>"
      ]
    },
    {
      "cell_type": "code",
      "metadata": {
        "id": "nqAhOHb9PA0p",
        "colab_type": "code",
        "colab": {}
      },
      "source": [
        "import pandas as pd\n",
        "import numpy as np"
      ],
      "execution_count": 0,
      "outputs": []
    },
    {
      "cell_type": "code",
      "metadata": {
        "id": "q8cIGjIDPG9R",
        "colab_type": "code",
        "outputId": "e47b7c3f-0fa5-410a-c85b-6f67bf97e703",
        "colab": {
          "resources": {
            "http://localhost:8080/nbextensions/google.colab/files.js": {
              "data": "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",
              "ok": true,
              "headers": [
                [
                  "content-type",
                  "application/javascript"
                ]
              ],
              "status": 200,
              "status_text": ""
            }
          },
          "base_uri": "https://localhost:8080/",
          "height": 74
        }
      },
      "source": [
        "from google.colab import files\n",
        "uploaded = files.upload()"
      ],
      "execution_count": 4,
      "outputs": [
        {
          "output_type": "display_data",
          "data": {
            "text/html": [
              "\n",
              "     <input type=\"file\" id=\"files-c8ad55c6-76c8-4ae5-855f-49fa60949573\" name=\"files[]\" multiple disabled />\n",
              "     <output id=\"result-c8ad55c6-76c8-4ae5-855f-49fa60949573\">\n",
              "      Upload widget is only available when the cell has been executed in the\n",
              "      current browser session. Please rerun this cell to enable.\n",
              "      </output>\n",
              "      <script src=\"/nbextensions/google.colab/files.js\"></script> "
            ],
            "text/plain": [
              "<IPython.core.display.HTML object>"
            ]
          },
          "metadata": {
            "tags": []
          }
        },
        {
          "output_type": "stream",
          "text": [
            "Saving ds1.zip to ds1 (1).zip\n"
          ],
          "name": "stdout"
        }
      ]
    },
    {
      "cell_type": "code",
      "metadata": {
        "id": "1_yTXtAGc959",
        "colab_type": "code",
        "colab": {}
      },
      "source": [
        "import io\n",
        "import json\n",
        "from zipfile import ZipFile\n",
        "lista = []\n",
        "\n",
        "with ZipFile(io.BytesIO(uploaded['ds1.zip']), 'r') as zipObj:\n",
        "   # Get a list of all archived file names from the zip\n",
        "   listOfFileNames = zipObj.namelist()\n",
        "   # Iterate over the file names\n",
        "   for fileName in listOfFileNames:\n",
        "     # Check filename endswith csv\n",
        "     #print(fileName)\n",
        "     if fileName.endswith('.json'):\n",
        "       with zipObj.open(fileName) as file_text:\n",
        "         #zipObj.extract(fileName, 'temp_csv')\n",
        "         d = file_text.read()\n",
        "         d = json.loads(d)\n",
        "         #print(d['text'])\n",
        "         lista.append(d['text'])  \n",
        "         # Extract a single file from zip"
      ],
      "execution_count": 0,
      "outputs": []
    },
    {
      "cell_type": "code",
      "metadata": {
        "id": "WpIaKiLfPfrd",
        "colab_type": "code",
        "colab": {}
      },
      "source": [
        "df = pd.DataFrame(lista,columns=['News'])"
      ],
      "execution_count": 0,
      "outputs": []
    },
    {
      "cell_type": "code",
      "metadata": {
        "id": "-8w74c28QDaP",
        "colab_type": "code",
        "outputId": "80093233-fc1e-4b74-dfff-746bd15dc2b3",
        "colab": {
          "base_uri": "https://localhost:8080/",
          "height": 204
        }
      },
      "source": [
        "df.head()"
      ],
      "execution_count": 25,
      "outputs": [
        {
          "output_type": "execute_result",
          "data": {
            "text/html": [
              "<div>\n",
              "<style scoped>\n",
              "    .dataframe tbody tr th:only-of-type {\n",
              "        vertical-align: middle;\n",
              "    }\n",
              "\n",
              "    .dataframe tbody tr th {\n",
              "        vertical-align: top;\n",
              "    }\n",
              "\n",
              "    .dataframe thead th {\n",
              "        text-align: right;\n",
              "    }\n",
              "</style>\n",
              "<table border=\"1\" class=\"dataframe\">\n",
              "  <thead>\n",
              "    <tr style=\"text-align: right;\">\n",
              "      <th></th>\n",
              "      <th>News</th>\n",
              "    </tr>\n",
              "  </thead>\n",
              "  <tbody>\n",
              "    <tr>\n",
              "      <th>0</th>\n",
              "      <td>Garantía 12 meses (1 año) Comentarios del anun...</td>\n",
              "    </tr>\n",
              "    <tr>\n",
              "      <th>1</th>\n",
              "      <td>Cinco militares mexicanos murieron y 10 result...</td>\n",
              "    </tr>\n",
              "    <tr>\n",
              "      <th>2</th>\n",
              "      <td>EL NACIONAL WEB 1 de octubre 2016 - 03:58 pm L...</td>\n",
              "    </tr>\n",
              "    <tr>\n",
              "      <th>3</th>\n",
              "      <td>ACTUALIZA 3-Clinton busca mantener a Trump a l...</td>\n",
              "    </tr>\n",
              "    <tr>\n",
              "      <th>4</th>\n",
              "      <td>La pregunta no puede contener URLs Tu nombre T...</td>\n",
              "    </tr>\n",
              "  </tbody>\n",
              "</table>\n",
              "</div>"
            ],
            "text/plain": [
              "                                                News\n",
              "0  Garantía 12 meses (1 año) Comentarios del anun...\n",
              "1  Cinco militares mexicanos murieron y 10 result...\n",
              "2  EL NACIONAL WEB 1 de octubre 2016 - 03:58 pm L...\n",
              "3  ACTUALIZA 3-Clinton busca mantener a Trump a l...\n",
              "4  La pregunta no puede contener URLs Tu nombre T..."
            ]
          },
          "metadata": {
            "tags": []
          },
          "execution_count": 25
        }
      ]
    },
    {
      "cell_type": "markdown",
      "metadata": {
        "id": "flUOFNaLy83m",
        "colab_type": "text"
      },
      "source": [
        "Tokenizacion (lemma + tokenize + non_words - spacy, stemmer nltk)"
      ]
    },
    {
      "cell_type": "code",
      "metadata": {
        "id": "lNYsSk9YQP5J",
        "colab_type": "code",
        "colab": {
          "base_uri": "https://localhost:8080/",
          "height": 51
        },
        "outputId": "3e98888d-2564-48e7-d012-4d8c90cec65d"
      },
      "source": [
        "#Cargando modelo en español de spacy\n",
        "import spacy\n",
        "spacy.cli.download('es_core_news_md')\n",
        "nlp = spacy.load('es_core_news_md')"
      ],
      "execution_count": 27,
      "outputs": [
        {
          "output_type": "stream",
          "text": [
            "\u001b[38;5;2m✔ Download and installation successful\u001b[0m\n",
            "You can now load the model via spacy.load('es_core_news_md')\n"
          ],
          "name": "stdout"
        }
      ]
    },
    {
      "cell_type": "code",
      "metadata": {
        "id": "PgJ-3B9zjoy7",
        "colab_type": "code",
        "colab": {}
      },
      "source": [
        "from nltk import SnowballStemmer\n",
        "def normalize(text):\n",
        "  #Tokenice spacy\n",
        "  doc = nlp(text)\n",
        "  #Lemmatizacion spacy, normalice\n",
        "  words = [t.lemma_ for t in doc if not t.is_punct | t.is_stop]\n",
        "  #Normalice\n",
        "  lexical_tokens = [t.lower() for t in words if len(t) > 3 and t.isalpha()]\n",
        "  #Stemmer\n",
        "  spanishstemmer = SnowballStemmer('spanish')\n",
        "  stema = [spanishstemmer.stem(token) for token in lexical_tokens]\n",
        "  return stema\n"
      ],
      "execution_count": 0,
      "outputs": []
    },
    {
      "cell_type": "markdown",
      "metadata": {
        "id": "reudB5LJ0HPY",
        "colab_type": "text"
      },
      "source": [
        "Tokenizacion (lemma + tokenize - nltk , non_words - string, stemmer nltk)\n",
        "\n",
        "---\n",
        "\n"
      ]
    },
    {
      "cell_type": "code",
      "metadata": {
        "id": "uqOEEeu0orQv",
        "colab_type": "code",
        "colab": {
          "base_uri": "https://localhost:8080/",
          "height": 102
        },
        "outputId": "60cd651c-3194-4b29-953a-1a08cea7a8de"
      },
      "source": [
        "import nltk\n",
        "nltk.download('stopwords')\n",
        "import nltk\n",
        "nltk.download('punkt')"
      ],
      "execution_count": 40,
      "outputs": [
        {
          "output_type": "stream",
          "text": [
            "[nltk_data] Downloading package stopwords to /root/nltk_data...\n",
            "[nltk_data]   Package stopwords is already up-to-date!\n",
            "[nltk_data] Downloading package punkt to /root/nltk_data...\n",
            "[nltk_data]   Unzipping tokenizers/punkt.zip.\n"
          ],
          "name": "stdout"
        },
        {
          "output_type": "execute_result",
          "data": {
            "text/plain": [
              "True"
            ]
          },
          "metadata": {
            "tags": []
          },
          "execution_count": 40
        }
      ]
    },
    {
      "cell_type": "code",
      "metadata": {
        "id": "sAAr8B0dt7YM",
        "colab_type": "code",
        "colab": {
          "base_uri": "https://localhost:8080/",
          "height": 34
        },
        "outputId": "bbaa524c-1761-4c9b-acbc-e88410803abb"
      },
      "source": [
        "punctuation"
      ],
      "execution_count": 47,
      "outputs": [
        {
          "output_type": "execute_result",
          "data": {
            "text/plain": [
              "'!\"#$%&\\'()*+,-./:;<=>?@[\\\\]^_`{|}~'"
            ]
          },
          "metadata": {
            "tags": []
          },
          "execution_count": 47
        }
      ]
    },
    {
      "cell_type": "code",
      "metadata": {
        "id": "55ACx2MXmKQH",
        "colab_type": "code",
        "colab": {}
      },
      "source": [
        "from sklearn.feature_extraction.text import CountVectorizer\n",
        "from string import punctuation\n",
        "from nltk import word_tokenize\n",
        "stemmer = SnowballStemmer('spanish')\n",
        "#normalice\n",
        "non_words = list(punctuation)\n",
        "non_words.extend(['¿','¡'])\n",
        "non_words.extend(map(str,range(10)))\n",
        "def stem_tokens(tokens, stemmer):\n",
        "    stemmed = []\n",
        "    #Stemmer\n",
        "    for item in tokens:\n",
        "        stemmed.append(stemmer.stem(item))\n",
        "    return stemmed\n",
        "def tokenize(text):\n",
        "  #Tokenice and normalice\n",
        "    text = ''.join([c for c in text if c not in non_words])\n",
        "    tokens =  word_tokenize(text)\n",
        "    # stem\n",
        "    try:\n",
        "        stems = stem_tokens(tokens, stemmer)\n",
        "    except Exception as e:\n",
        "        print(e)\n",
        "        print(text)\n",
        "        stems = ['']\n",
        "    return stems\n"
      ],
      "execution_count": 0,
      "outputs": []
    },
    {
      "cell_type": "code",
      "metadata": {
        "id": "c0KaP-TOmT0P",
        "colab_type": "code",
        "colab": {
          "base_uri": "https://localhost:8080/",
          "height": 71
        },
        "outputId": "505934ee-622c-457f-ec01-69b12d54be4a"
      },
      "source": [
        "print(tokenize(df['News'][0]))\n",
        "print(normalize(df['News'][0]))"
      ],
      "execution_count": 53,
      "outputs": [
        {
          "output_type": "stream",
          "text": [
            "['garant', 'mes', 'año', 'comentari', 'del', 'anunci', 'vehicul', 'en', 'buen', 'estad', 'manten', 'al', 'dia', 'libr', 'de', 'revision', 'motor', 'di', 'cv', 'plaz', 'lun', 'tint', 'bol', 'de', 'remolqu', 'estrib', 'lateral', 'defens', 'delanter', 'tod', 'homolog', 'kilometr', 'demostr', 'garanti', 'un', 'año', 'se', 'acept', 'vehicul', 'com', 'part', 'de', 'pag', 'iruri', 'motor', 'desd', 'especial', 'en', 'x', 'gran', 'varied', 'de', 'vehicul', 'compr', 'su', 'x', 'equip', 'extra']\n",
            "['garant', 'mes', 'comentari', 'anunci', 'vehicul', 'manten', 'libr', 'revision', 'motor', 'plaz', 'lun', 'tint', 'bol', 'remolc', 'estrib', 'lateral', 'defens', 'delanter', 'homolog', 'kilometr', 'demostr', 'garanti', 'acept', 'vehicul', 'pag', 'iruri', 'motor', 'especial', 'varied', 'vehicul', 'compr', 'equip', 'extra']\n"
          ],
          "name": "stdout"
        }
      ]
    },
    {
      "cell_type": "markdown",
      "metadata": {
        "id": "4_C0BwPl0gxD",
        "colab_type": "text"
      },
      "source": [
        "Stop Words"
      ]
    },
    {
      "cell_type": "code",
      "metadata": {
        "id": "Yo7WZkON0fgF",
        "colab_type": "code",
        "colab": {
          "base_uri": "https://localhost:8080/",
          "height": 34
        },
        "outputId": "cd6a6504-797a-4d15-d05c-899762e976b6"
      },
      "source": [
        "from nltk.corpus import stopwords\n",
        "spanish_stopwords = stopwords.words('spanish')\n",
        "len(spanish_stopwords)"
      ],
      "execution_count": 87,
      "outputs": [
        {
          "output_type": "execute_result",
          "data": {
            "text/plain": [
              "313"
            ]
          },
          "metadata": {
            "tags": []
          },
          "execution_count": 87
        }
      ]
    },
    {
      "cell_type": "code",
      "metadata": {
        "id": "4YM-kIHC1Xt3",
        "colab_type": "code",
        "colab": {
          "base_uri": "https://localhost:8080/",
          "height": 190
        },
        "outputId": "1df56177-8f30-4c79-83df-20499f9daee9"
      },
      "source": [
        "!pip install stop-words"
      ],
      "execution_count": 59,
      "outputs": [
        {
          "output_type": "stream",
          "text": [
            "Collecting stop-words\n",
            "  Downloading https://files.pythonhosted.org/packages/1c/cb/d58290804b7a4c5daa42abbbe2a93c477ae53e45541b1825e86f0dfaaf63/stop-words-2018.7.23.tar.gz\n",
            "Building wheels for collected packages: stop-words\n",
            "  Building wheel for stop-words (setup.py) ... \u001b[?25l\u001b[?25hdone\n",
            "  Created wheel for stop-words: filename=stop_words-2018.7.23-cp36-none-any.whl size=32917 sha256=5dc8523e011288e0a9b98fbb25473bd37fcac55b3374c6ad62b8a187e2e04d7c\n",
            "  Stored in directory: /root/.cache/pip/wheels/75/37/6a/2b295e03bd07290f0da95c3adb9a74ba95fbc333aa8b0c7c78\n",
            "Successfully built stop-words\n",
            "Installing collected packages: stop-words\n",
            "Successfully installed stop-words-2018.7.23\n"
          ],
          "name": "stdout"
        }
      ]
    },
    {
      "cell_type": "code",
      "metadata": {
        "id": "4AXWdO-N05ux",
        "colab_type": "code",
        "colab": {
          "base_uri": "https://localhost:8080/",
          "height": 34
        },
        "outputId": "54df0273-b488-432b-a722-d720bfa67bf0"
      },
      "source": [
        "from stop_words import get_stop_words\n",
        "stop_words_sw = get_stop_words('spanish')\n",
        "len(stop_words_sw)"
      ],
      "execution_count": 85,
      "outputs": [
        {
          "output_type": "execute_result",
          "data": {
            "text/plain": [
              "308"
            ]
          },
          "metadata": {
            "tags": []
          },
          "execution_count": 85
        }
      ]
    },
    {
      "cell_type": "code",
      "metadata": {
        "id": "1lcppRRE13Jt",
        "colab_type": "code",
        "colab": {
          "base_uri": "https://localhost:8080/",
          "height": 34
        },
        "outputId": "5b2105ea-c68c-4f74-e995-1b399f38d0c2"
      },
      "source": [
        "from spacy.lang.es.stop_words import STOP_WORDS\n",
        "len(STOP_WORDS)"
      ],
      "execution_count": 86,
      "outputs": [
        {
          "output_type": "execute_result",
          "data": {
            "text/plain": [
              "551"
            ]
          },
          "metadata": {
            "tags": []
          },
          "execution_count": 86
        }
      ]
    },
    {
      "cell_type": "code",
      "metadata": {
        "id": "i0B8CeqpuYHV",
        "colab_type": "code",
        "colab": {}
      },
      "source": [
        "vectorizer = CountVectorizer(\n",
        "                analyzer = 'word',\n",
        "                tokenizer = normalize,\n",
        "                lowercase = True,\n",
        "                #stop_words = spanish_stopwords) #NLTK\n",
        "                #stop_words = stop_words_sw) #stop-words\n",
        "                stop_words = STOP_WORDS) #Spacy\n"
      ],
      "execution_count": 0,
      "outputs": []
    },
    {
      "cell_type": "code",
      "metadata": {
        "id": "X4lclE9xrgUX",
        "colab_type": "code",
        "colab": {}
      },
      "source": [
        "res = vectorizer.fit_transform(df['News'])"
      ],
      "execution_count": 0,
      "outputs": []
    },
    {
      "cell_type": "markdown",
      "metadata": {
        "id": "AE8nvJc44Gpj",
        "colab_type": "text"
      },
      "source": [
        "Spacy"
      ]
    },
    {
      "cell_type": "code",
      "metadata": {
        "id": "_EkQd-i8sUWf",
        "colab_type": "code",
        "colab": {
          "base_uri": "https://localhost:8080/",
          "height": 34
        },
        "outputId": "b9956a6b-cbe8-4ab2-820a-1d6d07cd10fb"
      },
      "source": [
        "len(res.get_feature_names())"
      ],
      "execution_count": 71,
      "outputs": [
        {
          "output_type": "execute_result",
          "data": {
            "text/plain": [
              "15136"
            ]
          },
          "metadata": {
            "tags": []
          },
          "execution_count": 71
        }
      ]
    },
    {
      "cell_type": "markdown",
      "metadata": {
        "id": "mZukiBlf4JkV",
        "colab_type": "text"
      },
      "source": [
        "Stop-words"
      ]
    },
    {
      "cell_type": "code",
      "metadata": {
        "id": "TgCl1yvfsjlx",
        "colab_type": "code",
        "colab": {
          "base_uri": "https://localhost:8080/",
          "height": 34
        },
        "outputId": "70513af0-2cd8-4fae-b753-e50a8f734ded"
      },
      "source": [
        "len(res.get_feature_names())"
      ],
      "execution_count": 78,
      "outputs": [
        {
          "output_type": "execute_result",
          "data": {
            "text/plain": [
              "15168"
            ]
          },
          "metadata": {
            "tags": []
          },
          "execution_count": 78
        }
      ]
    },
    {
      "cell_type": "markdown",
      "metadata": {
        "id": "l8D2yyK34W-U",
        "colab_type": "text"
      },
      "source": [
        "NLTK"
      ]
    },
    {
      "cell_type": "code",
      "metadata": {
        "id": "vdk2tDdCs12r",
        "colab_type": "code",
        "colab": {
          "base_uri": "https://localhost:8080/",
          "height": 34
        },
        "outputId": "c2bced9d-1a30-4378-f8d1-e9ee8618acc5"
      },
      "source": [
        "len(res.get_feature_names())"
      ],
      "execution_count": 84,
      "outputs": [
        {
          "output_type": "execute_result",
          "data": {
            "text/plain": [
              "15168"
            ]
          },
          "metadata": {
            "tags": []
          },
          "execution_count": 84
        }
      ]
    },
    {
      "cell_type": "markdown",
      "metadata": {
        "id": "xJbZmkQv8_zs",
        "colab_type": "text"
      },
      "source": [
        "GridSearch"
      ]
    },
    {
      "cell_type": "code",
      "metadata": {
        "id": "2wYq4UY843KO",
        "colab_type": "code",
        "colab": {}
      },
      "source": [
        "#DEFINIENDO LOS PARAMETROS DE BUSQUEDA\n",
        "search_params = {'n_components':[5,10,15],'learning_decay':[.5,.7,.9],'n_jobs':[-1]}"
      ],
      "execution_count": 0,
      "outputs": []
    },
    {
      "cell_type": "code",
      "metadata": {
        "id": "GZjWMH7w9DRl",
        "colab_type": "code",
        "colab": {}
      },
      "source": [
        "#INICIANDO EL MODELO\n",
        "from sklearn.decomposition import LatentDirichletAllocation\n",
        "ldaa= LatentDirichletAllocation()"
      ],
      "execution_count": 0,
      "outputs": []
    },
    {
      "cell_type": "code",
      "metadata": {
        "id": "hVR-mM9R9F5x",
        "colab_type": "code",
        "colab": {}
      },
      "source": [
        "from sklearn.model_selection import GridSearchCV\n",
        "#INICIANDO LA CLASE GRID SEARCH\n",
        "model = GridSearchCV(ldaa,param_grid=search_params)"
      ],
      "execution_count": 0,
      "outputs": []
    },
    {
      "cell_type": "code",
      "metadata": {
        "id": "cAdiPuCx9W30",
        "colab_type": "code",
        "colab": {
          "base_uri": "https://localhost:8080/",
          "height": 374
        },
        "outputId": "820ee833-d8f4-49de-ed57-c223ddf58805"
      },
      "source": [
        "#HACER UNA BUSQUEDA DE CUADRIC\n",
        "model.fit(res)"
      ],
      "execution_count": 97,
      "outputs": [
        {
          "output_type": "execute_result",
          "data": {
            "text/plain": [
              "GridSearchCV(cv=None, error_score=nan,\n",
              "             estimator=LatentDirichletAllocation(batch_size=128,\n",
              "                                                 doc_topic_prior=None,\n",
              "                                                 evaluate_every=-1,\n",
              "                                                 learning_decay=0.7,\n",
              "                                                 learning_method='batch',\n",
              "                                                 learning_offset=10.0,\n",
              "                                                 max_doc_update_iter=100,\n",
              "                                                 max_iter=10,\n",
              "                                                 mean_change_tol=0.001,\n",
              "                                                 n_components=10, n_jobs=None,\n",
              "                                                 perp_tol=0.1,\n",
              "                                                 random_state=None,\n",
              "                                                 topic_word_prior=None,\n",
              "                                                 total_samples=1000000.0,\n",
              "                                                 verbose=0),\n",
              "             iid='deprecated', n_jobs=None,\n",
              "             param_grid={'learning_decay': [0.5, 0.7, 0.9],\n",
              "                         'n_components': [5, 10, 15], 'n_jobs': [-1]},\n",
              "             pre_dispatch='2*n_jobs', refit=True, return_train_score=False,\n",
              "             scoring=None, verbose=0)"
            ]
          },
          "metadata": {
            "tags": []
          },
          "execution_count": 97
        }
      ]
    },
    {
      "cell_type": "code",
      "metadata": {
        "id": "rjC9mFdX9a40",
        "colab_type": "code",
        "colab": {}
      },
      "source": [
        "#Mejor modelo\n",
        "best_lda_model=model.best_estimator_"
      ],
      "execution_count": 0,
      "outputs": []
    },
    {
      "cell_type": "code",
      "metadata": {
        "id": "tFW1ofQZ_G4L",
        "colab_type": "code",
        "colab": {
          "base_uri": "https://localhost:8080/",
          "height": 34
        },
        "outputId": "4b10fd45-aede-44cc-e93e-878b84c0dac5"
      },
      "source": [
        "#Paramtros modelo\n",
        "print(\"Best Model's Params: \",model.best_params_)"
      ],
      "execution_count": 99,
      "outputs": [
        {
          "output_type": "stream",
          "text": [
            "Best Model's Params:  {'learning_decay': 0.5, 'n_components': 5, 'n_jobs': -1}\n"
          ],
          "name": "stdout"
        }
      ]
    },
    {
      "cell_type": "code",
      "metadata": {
        "id": "8HzZ7lFU_KxN",
        "colab_type": "code",
        "colab": {
          "base_uri": "https://localhost:8080/",
          "height": 34
        },
        "outputId": "a0da95da-0cec-4a43-b0cc-4d1aa04d5fbf"
      },
      "source": [
        "#REgistro ed puntaje de probabilidad\n",
        "print(\"Mejor puntaje de probabilidad: \",model.best_score_)"
      ],
      "execution_count": 100,
      "outputs": [
        {
          "output_type": "stream",
          "text": [
            "Mejor puntaje de probabilidad:  -313057.1341263197\n"
          ],
          "name": "stdout"
        }
      ]
    },
    {
      "cell_type": "code",
      "metadata": {
        "id": "DR6BwD_e_OT4",
        "colab_type": "code",
        "colab": {
          "base_uri": "https://localhost:8080/",
          "height": 34
        },
        "outputId": "e03c90b3-fab4-4f1f-d7a3-b1fb48dc9a35"
      },
      "source": [
        "#Perplejidad\n",
        "print(\"Modelo prerplejidad: \", best_lda_model.perplexity(res))"
      ],
      "execution_count": 102,
      "outputs": [
        {
          "output_type": "stream",
          "text": [
            "Modelo prerplejidad:  4548.318621226251\n"
          ],
          "name": "stdout"
        }
      ]
    },
    {
      "cell_type": "code",
      "metadata": {
        "id": "25mWc4dy_TDB",
        "colab_type": "code",
        "colab": {
          "base_uri": "https://localhost:8080/",
          "height": 34
        },
        "outputId": "d024323c-eb55-4b40-c3fc-026c966f4548"
      },
      "source": [
        "#for gscore in model.cv_results_:\n",
        "#    print(gscore)\n",
        "lista=[]\n",
        "gscore = model.cv_results_['mean_test_score']\n",
        "params = model.cv_results_['param_learning_decay']\n",
        "for gscore,params in zip(gscore,params): \n",
        "    if params==0.5:\n",
        "        lista.append(gscore)\n",
        "        \n",
        "print(lista)"
      ],
      "execution_count": 103,
      "outputs": [
        {
          "output_type": "stream",
          "text": [
            "[-313057.1341263197, -348640.29941275826, -376853.67510824837]\n"
          ],
          "name": "stdout"
        }
      ]
    },
    {
      "cell_type": "code",
      "metadata": {
        "id": "ddQ4ftl4_Y84",
        "colab_type": "code",
        "colab": {
          "base_uri": "https://localhost:8080/",
          "height": 513
        },
        "outputId": "3d7e26f7-7ae6-437f-ceda-ef9146e6b325"
      },
      "source": [
        "import matplotlib.pyplot as plt\n",
        "# Obtenga probabilidades de registro de la salida de búsqueda de cuadrícula\n",
        "n_topics=[5,10,15]\n",
        "#model.cv_results_['mean_test_score'],model.cv_results_['param_learning_decay']\n",
        "gscore = model.cv_results_['mean_test_score']\n",
        "params = model.cv_results_['param_learning_decay']\n",
        "Log_likelyoods_5=[]\n",
        "Log_likelyoods_7=[]\n",
        "Log_likelyoods_9=[]\n",
        "for gscore,params in zip(gscore,params):\n",
        "    if params==0.5:\n",
        "        Log_likelyoods_5.append(round(gscore))\n",
        "    if params==0.7:\n",
        "        Log_likelyoods_7.append(round(gscore))\n",
        "    if params==0.9:\n",
        "        Log_likelyoods_9.append(round(gscore))\n",
        "\n",
        "#Log_likelyoods_5 = [round (mean) for mean,param in zip(means,params) if params==0.5]\n",
        "#Log_likelyoods_7 = [round (mean) for mean,param in zip(means,params) if params==0.7]\n",
        "#Log_likelyoods_9 = [round (mean) for mean,param in zip(means,params) if params==0.9]\n",
        "#Log_likelyoods_5 = [for gscore,param in zip(gscore,params): if params==0.5: round(gscore)]\n",
        "#Log_likelyoods_7 = [round(gscore.mean_validation_score) for gscore in model if gscore.parameters['learning_decay']==0.7]\n",
        "#Log_likelyoods_9 = [round(gscore.mean_validation_score) for gscore in model if gscore.parameters['learning_decay']==0.9]\n",
        "\n",
        "# Show graph\n",
        "plt.figure(figsize=(12, 8))\n",
        "plt.plot(n_topics, Log_likelyoods_5, label='0.5')\n",
        "plt.plot(n_topics, Log_likelyoods_7, label='0.7')\n",
        "plt.plot(n_topics, Log_likelyoods_9, label='0.9')\n",
        "plt.title(\"Choosing Optimal LDA Model\")\n",
        "plt.xlabel(\"Num Topics\")\n",
        "plt.ylabel(\"Log Likelyhood Scores\")\n",
        "plt.legend(title='Learning decay', loc='best')\n",
        "plt.show()\n"
      ],
      "execution_count": 104,
      "outputs": [
        {
          "output_type": "display_data",
          "data": {
            "image/png": "[encoded data removed]",
            "text/plain": [
              "<Figure size 864x576 with 1 Axes>"
            ]
          },
          "metadata": {
            "tags": []
          }
        }
      ]
    },
    {
      "cell_type": "code",
      "metadata": {
        "id": "J0gHIDHE_gGh",
        "colab_type": "code",
        "colab": {}
      },
      "source": [
        ""
      ],
      "execution_count": 0,
      "outputs": []
    },
    {
      "cell_type": "markdown",
      "metadata": {
        "id": "Qk9wJdG9_msc",
        "colab_type": "text"
      },
      "source": [
        "Tema dominante en el texto"
      ]
    },
    {
      "cell_type": "code",
      "metadata": {
        "id": "9uMN4oD0_o_C",
        "colab_type": "code",
        "colab": {}
      },
      "source": [
        "#Crear documentos- Matriz de temas\n",
        "lda_output = best_lda_model.transform(res)"
      ],
      "execution_count": 0,
      "outputs": []
    },
    {
      "cell_type": "code",
      "metadata": {
        "id": "dllnJtOL_pq8",
        "colab_type": "code",
        "colab": {
          "base_uri": "https://localhost:8080/",
          "height": 153
        },
        "outputId": "25c4b5ac-cca8-45be-a0d5-0b615ad58da5"
      },
      "source": [
        "best_lda_model"
      ],
      "execution_count": 107,
      "outputs": [
        {
          "output_type": "execute_result",
          "data": {
            "text/plain": [
              "LatentDirichletAllocation(batch_size=128, doc_topic_prior=None,\n",
              "                          evaluate_every=-1, learning_decay=0.5,\n",
              "                          learning_method='batch', learning_offset=10.0,\n",
              "                          max_doc_update_iter=100, max_iter=10,\n",
              "                          mean_change_tol=0.001, n_components=5, n_jobs=-1,\n",
              "                          perp_tol=0.1, random_state=None,\n",
              "                          topic_word_prior=None, total_samples=1000000.0,\n",
              "                          verbose=0)"
            ]
          },
          "metadata": {
            "tags": []
          },
          "execution_count": 107
        }
      ]
    },
    {
      "cell_type": "code",
      "metadata": {
        "id": "_3nVmMCH_zUJ",
        "colab_type": "code",
        "colab": {}
      },
      "source": [
        "#Nombre de columnas\n",
        "topicnames = []\n",
        "for i in range(int(best_lda_model.n_components)):\n",
        "    name='Topic'+str(i)\n",
        "    topicnames.append(name)"
      ],
      "execution_count": 0,
      "outputs": []
    },
    {
      "cell_type": "code",
      "metadata": {
        "id": "aGRvppA0_14O",
        "colab_type": "code",
        "colab": {}
      },
      "source": [
        "#nombre de indices\n",
        "docnames = []\n",
        "#for i in range(len(cv.get_feature_names())):\n",
        "for i in range(1000):\n",
        "    docnames.append('Doc'+str(i))"
      ],
      "execution_count": 0,
      "outputs": []
    },
    {
      "cell_type": "code",
      "metadata": {
        "id": "KmGpHsk4_5yi",
        "colab_type": "code",
        "colab": {}
      },
      "source": [
        "import numpy as np\n",
        "#Creando un dataframe en pandas\n",
        "df_document_topic=pd.DataFrame(np.round(lda_output,2),columns=topicnames,index=docnames)"
      ],
      "execution_count": 0,
      "outputs": []
    },
    {
      "cell_type": "code",
      "metadata": {
        "id": "YgtavNJD_94L",
        "colab_type": "code",
        "colab": {}
      },
      "source": [
        "# Obtener tema dominante para cada documento\n",
        "dominant_topic=np.argmax(df_document_topic.values,axis=1)\n",
        "df_document_topic['dominant_topic']=dominant_topic"
      ],
      "execution_count": 0,
      "outputs": []
    },
    {
      "cell_type": "code",
      "metadata": {
        "id": "zG4fJleLAG0S",
        "colab_type": "code",
        "colab": {}
      },
      "source": [
        "#Estilando\n",
        "def color_green(val):\n",
        "    color = 'green' if val > .1 else 'black'\n",
        "    return 'color: {col}'.format(col=color)\n",
        "\n",
        "def make_bold(val):\n",
        "    weight = 700 if val > .1 else 400\n",
        "    return 'font-weight: {weight}'.format(weight=weight)"
      ],
      "execution_count": 0,
      "outputs": []
    },
    {
      "cell_type": "code",
      "metadata": {
        "id": "nk70vbzpAKKQ",
        "colab_type": "code",
        "colab": {
          "base_uri": "https://localhost:8080/",
          "height": 355
        },
        "outputId": "b0b8a097-3dd7-4a4a-d767-8911604c79a0"
      },
      "source": [
        "#Aplicando estilo\n",
        "df_document_topic=df_document_topic.head(15).style.applymap(color_green).applymap(make_bold)\n",
        "df_document_topic"
      ],
      "execution_count": 115,
      "outputs": [
        {
          "output_type": "execute_result",
          "data": {
            "text/html": [
              "<style  type=\"text/css\" >\n",
              "    #T_e41cb876_4dd2_11ea_a491_0242ac1c0002row0_col0 {\n",
              "            color:  black;\n",
              "            font-weight:  400;\n",
              "        }    #T_e41cb876_4dd2_11ea_a491_0242ac1c0002row0_col1 {\n",
              "            color:  black;\n",
              "            font-weight:  400;\n",
              "        }    #T_e41cb876_4dd2_11ea_a491_0242ac1c0002row0_col2 {\n",
              "            color:  black;\n",
              "            font-weight:  400;\n",
              "        }    #T_e41cb876_4dd2_11ea_a491_0242ac1c0002row0_col3 {\n",
              "            color:  green;\n",
              "            font-weight:  700;\n",
              "        }    #T_e41cb876_4dd2_11ea_a491_0242ac1c0002row0_col4 {\n",
              "            color:  black;\n",
              "            font-weight:  400;\n",
              "        }    #T_e41cb876_4dd2_11ea_a491_0242ac1c0002row0_col5 {\n",
              "            color:  green;\n",
              "            font-weight:  700;\n",
              "        }    #T_e41cb876_4dd2_11ea_a491_0242ac1c0002row1_col0 {\n",
              "            color:  green;\n",
              "            font-weight:  700;\n",
              "        }    #T_e41cb876_4dd2_11ea_a491_0242ac1c0002row1_col1 {\n",
              "            color:  black;\n",
              "            font-weight:  400;\n",
              "        }    #T_e41cb876_4dd2_11ea_a491_0242ac1c0002row1_col2 {\n",
              "            color:  black;\n",
              "            font-weight:  400;\n",
              "        }    #T_e41cb876_4dd2_11ea_a491_0242ac1c0002row1_col3 {\n",
              "            color:  black;\n",
              "            font-weight:  400;\n",
              "        }    #T_e41cb876_4dd2_11ea_a491_0242ac1c0002row1_col4 {\n",
              "            color:  green;\n",
              "            font-weight:  700;\n",
              "        }    #T_e41cb876_4dd2_11ea_a491_0242ac1c0002row1_col5 {\n",
              "            color:  green;\n",
              "            font-weight:  700;\n",
              "        }    #T_e41cb876_4dd2_11ea_a491_0242ac1c0002row2_col0 {\n",
              "            color:  black;\n",
              "            font-weight:  400;\n",
              "        }    #T_e41cb876_4dd2_11ea_a491_0242ac1c0002row2_col1 {\n",
              "            color:  black;\n",
              "            font-weight:  400;\n",
              "        }    #T_e41cb876_4dd2_11ea_a491_0242ac1c0002row2_col2 {\n",
              "            color:  black;\n",
              "            font-weight:  400;\n",
              "        }    #T_e41cb876_4dd2_11ea_a491_0242ac1c0002row2_col3 {\n",
              "            color:  black;\n",
              "            font-weight:  400;\n",
              "        }    #T_e41cb876_4dd2_11ea_a491_0242ac1c0002row2_col4 {\n",
              "            color:  green;\n",
              "            font-weight:  700;\n",
              "        }    #T_e41cb876_4dd2_11ea_a491_0242ac1c0002row2_col5 {\n",
              "            color:  green;\n",
              "            font-weight:  700;\n",
              "        }    #T_e41cb876_4dd2_11ea_a491_0242ac1c0002row3_col0 {\n",
              "            color:  green;\n",
              "            font-weight:  700;\n",
              "        }    #T_e41cb876_4dd2_11ea_a491_0242ac1c0002row3_col1 {\n",
              "            color:  green;\n",
              "            font-weight:  700;\n",
              "        }    #T_e41cb876_4dd2_11ea_a491_0242ac1c0002row3_col2 {\n",
              "            color:  black;\n",
              "            font-weight:  400;\n",
              "        }    #T_e41cb876_4dd2_11ea_a491_0242ac1c0002row3_col3 {\n",
              "            color:  green;\n",
              "            font-weight:  700;\n",
              "        }    #T_e41cb876_4dd2_11ea_a491_0242ac1c0002row3_col4 {\n",
              "            color:  black;\n",
              "            font-weight:  400;\n",
              "        }    #T_e41cb876_4dd2_11ea_a491_0242ac1c0002row3_col5 {\n",
              "            color:  green;\n",
              "            font-weight:  700;\n",
              "        }    #T_e41cb876_4dd2_11ea_a491_0242ac1c0002row4_col0 {\n",
              "            color:  black;\n",
              "            font-weight:  400;\n",
              "        }    #T_e41cb876_4dd2_11ea_a491_0242ac1c0002row4_col1 {\n",
              "            color:  black;\n",
              "            font-weight:  400;\n",
              "        }    #T_e41cb876_4dd2_11ea_a491_0242ac1c0002row4_col2 {\n",
              "            color:  black;\n",
              "            font-weight:  400;\n",
              "        }    #T_e41cb876_4dd2_11ea_a491_0242ac1c0002row4_col3 {\n",
              "            color:  green;\n",
              "            font-weight:  700;\n",
              "        }    #T_e41cb876_4dd2_11ea_a491_0242ac1c0002row4_col4 {\n",
              "            color:  black;\n",
              "            font-weight:  400;\n",
              "        }    #T_e41cb876_4dd2_11ea_a491_0242ac1c0002row4_col5 {\n",
              "            color:  green;\n",
              "            font-weight:  700;\n",
              "        }    #T_e41cb876_4dd2_11ea_a491_0242ac1c0002row5_col0 {\n",
              "            color:  black;\n",
              "            font-weight:  400;\n",
              "        }    #T_e41cb876_4dd2_11ea_a491_0242ac1c0002row5_col1 {\n",
              "            color:  black;\n",
              "            font-weight:  400;\n",
              "        }    #T_e41cb876_4dd2_11ea_a491_0242ac1c0002row5_col2 {\n",
              "            color:  black;\n",
              "            font-weight:  400;\n",
              "        }    #T_e41cb876_4dd2_11ea_a491_0242ac1c0002row5_col3 {\n",
              "            color:  green;\n",
              "            font-weight:  700;\n",
              "        }    #T_e41cb876_4dd2_11ea_a491_0242ac1c0002row5_col4 {\n",
              "            color:  black;\n",
              "            font-weight:  400;\n",
              "        }    #T_e41cb876_4dd2_11ea_a491_0242ac1c0002row5_col5 {\n",
              "            color:  green;\n",
              "            font-weight:  700;\n",
              "        }    #T_e41cb876_4dd2_11ea_a491_0242ac1c0002row6_col0 {\n",
              "            color:  green;\n",
              "            font-weight:  700;\n",
              "        }    #T_e41cb876_4dd2_11ea_a491_0242ac1c0002row6_col1 {\n",
              "            color:  black;\n",
              "            font-weight:  400;\n",
              "        }    #T_e41cb876_4dd2_11ea_a491_0242ac1c0002row6_col2 {\n",
              "            color:  black;\n",
              "            font-weight:  400;\n",
              "        }    #T_e41cb876_4dd2_11ea_a491_0242ac1c0002row6_col3 {\n",
              "            color:  black;\n",
              "            font-weight:  400;\n",
              "        }    #T_e41cb876_4dd2_11ea_a491_0242ac1c0002row6_col4 {\n",
              "            color:  black;\n",
              "            font-weight:  400;\n",
              "        }    #T_e41cb876_4dd2_11ea_a491_0242ac1c0002row6_col5 {\n",
              "            color:  black;\n",
              "            font-weight:  400;\n",
              "        }    #T_e41cb876_4dd2_11ea_a491_0242ac1c0002row7_col0 {\n",
              "            color:  black;\n",
              "            font-weight:  400;\n",
              "        }    #T_e41cb876_4dd2_11ea_a491_0242ac1c0002row7_col1 {\n",
              "            color:  green;\n",
              "            font-weight:  700;\n",
              "        }    #T_e41cb876_4dd2_11ea_a491_0242ac1c0002row7_col2 {\n",
              "            color:  black;\n",
              "            font-weight:  400;\n",
              "        }    #T_e41cb876_4dd2_11ea_a491_0242ac1c0002row7_col3 {\n",
              "            color:  green;\n",
              "            font-weight:  700;\n",
              "        }    #T_e41cb876_4dd2_11ea_a491_0242ac1c0002row7_col4 {\n",
              "            color:  black;\n",
              "            font-weight:  400;\n",
              "        }    #T_e41cb876_4dd2_11ea_a491_0242ac1c0002row7_col5 {\n",
              "            color:  green;\n",
              "            font-weight:  700;\n",
              "        }    #T_e41cb876_4dd2_11ea_a491_0242ac1c0002row8_col0 {\n",
              "            color:  black;\n",
              "            font-weight:  400;\n",
              "        }    #T_e41cb876_4dd2_11ea_a491_0242ac1c0002row8_col1 {\n",
              "            color:  black;\n",
              "            font-weight:  400;\n",
              "        }    #T_e41cb876_4dd2_11ea_a491_0242ac1c0002row8_col2 {\n",
              "            color:  black;\n",
              "            font-weight:  400;\n",
              "        }    #T_e41cb876_4dd2_11ea_a491_0242ac1c0002row8_col3 {\n",
              "            color:  black;\n",
              "            font-weight:  400;\n",
              "        }    #T_e41cb876_4dd2_11ea_a491_0242ac1c0002row8_col4 {\n",
              "            color:  green;\n",
              "            font-weight:  700;\n",
              "        }    #T_e41cb876_4dd2_11ea_a491_0242ac1c0002row8_col5 {\n",
              "            color:  green;\n",
              "            font-weight:  700;\n",
              "        }    #T_e41cb876_4dd2_11ea_a491_0242ac1c0002row9_col0 {\n",
              "            color:  green;\n",
              "            font-weight:  700;\n",
              "        }    #T_e41cb876_4dd2_11ea_a491_0242ac1c0002row9_col1 {\n",
              "            color:  green;\n",
              "            font-weight:  700;\n",
              "        }    #T_e41cb876_4dd2_11ea_a491_0242ac1c0002row9_col2 {\n",
              "            color:  black;\n",
              "            font-weight:  400;\n",
              "        }    #T_e41cb876_4dd2_11ea_a491_0242ac1c0002row9_col3 {\n",
              "            color:  black;\n",
              "            font-weight:  400;\n",
              "        }    #T_e41cb876_4dd2_11ea_a491_0242ac1c0002row9_col4 {\n",
              "            color:  black;\n",
              "            font-weight:  400;\n",
              "        }    #T_e41cb876_4dd2_11ea_a491_0242ac1c0002row9_col5 {\n",
              "            color:  green;\n",
              "            font-weight:  700;\n",
              "        }    #T_e41cb876_4dd2_11ea_a491_0242ac1c0002row10_col0 {\n",
              "            color:  green;\n",
              "            font-weight:  700;\n",
              "        }    #T_e41cb876_4dd2_11ea_a491_0242ac1c0002row10_col1 {\n",
              "            color:  black;\n",
              "            font-weight:  400;\n",
              "        }    #T_e41cb876_4dd2_11ea_a491_0242ac1c0002row10_col2 {\n",
              "            color:  black;\n",
              "            font-weight:  400;\n",
              "        }    #T_e41cb876_4dd2_11ea_a491_0242ac1c0002row10_col3 {\n",
              "            color:  black;\n",
              "            font-weight:  400;\n",
              "        }    #T_e41cb876_4dd2_11ea_a491_0242ac1c0002row10_col4 {\n",
              "            color:  black;\n",
              "            font-weight:  400;\n",
              "        }    #T_e41cb876_4dd2_11ea_a491_0242ac1c0002row10_col5 {\n",
              "            color:  black;\n",
              "            font-weight:  400;\n",
              "        }    #T_e41cb876_4dd2_11ea_a491_0242ac1c0002row11_col0 {\n",
              "            color:  green;\n",
              "            font-weight:  700;\n",
              "        }    #T_e41cb876_4dd2_11ea_a491_0242ac1c0002row11_col1 {\n",
              "            color:  black;\n",
              "            font-weight:  400;\n",
              "        }    #T_e41cb876_4dd2_11ea_a491_0242ac1c0002row11_col2 {\n",
              "            color:  green;\n",
              "            font-weight:  700;\n",
              "        }    #T_e41cb876_4dd2_11ea_a491_0242ac1c0002row11_col3 {\n",
              "            color:  black;\n",
              "            font-weight:  400;\n",
              "        }    #T_e41cb876_4dd2_11ea_a491_0242ac1c0002row11_col4 {\n",
              "            color:  black;\n",
              "            font-weight:  400;\n",
              "        }    #T_e41cb876_4dd2_11ea_a491_0242ac1c0002row11_col5 {\n",
              "            color:  black;\n",
              "            font-weight:  400;\n",
              "        }    #T_e41cb876_4dd2_11ea_a491_0242ac1c0002row12_col0 {\n",
              "            color:  green;\n",
              "            font-weight:  700;\n",
              "        }    #T_e41cb876_4dd2_11ea_a491_0242ac1c0002row12_col1 {\n",
              "            color:  black;\n",
              "            font-weight:  400;\n",
              "        }    #T_e41cb876_4dd2_11ea_a491_0242ac1c0002row12_col2 {\n",
              "            color:  black;\n",
              "            font-weight:  400;\n",
              "        }    #T_e41cb876_4dd2_11ea_a491_0242ac1c0002row12_col3 {\n",
              "            color:  black;\n",
              "            font-weight:  400;\n",
              "        }    #T_e41cb876_4dd2_11ea_a491_0242ac1c0002row12_col4 {\n",
              "            color:  green;\n",
              "            font-weight:  700;\n",
              "        }    #T_e41cb876_4dd2_11ea_a491_0242ac1c0002row12_col5 {\n",
              "            color:  black;\n",
              "            font-weight:  400;\n",
              "        }    #T_e41cb876_4dd2_11ea_a491_0242ac1c0002row13_col0 {\n",
              "            color:  green;\n",
              "            font-weight:  700;\n",
              "        }    #T_e41cb876_4dd2_11ea_a491_0242ac1c0002row13_col1 {\n",
              "            color:  black;\n",
              "            font-weight:  400;\n",
              "        }    #T_e41cb876_4dd2_11ea_a491_0242ac1c0002row13_col2 {\n",
              "            color:  green;\n",
              "            font-weight:  700;\n",
              "        }    #T_e41cb876_4dd2_11ea_a491_0242ac1c0002row13_col3 {\n",
              "            color:  black;\n",
              "            font-weight:  400;\n",
              "        }    #T_e41cb876_4dd2_11ea_a491_0242ac1c0002row13_col4 {\n",
              "            color:  black;\n",
              "            font-weight:  400;\n",
              "        }    #T_e41cb876_4dd2_11ea_a491_0242ac1c0002row13_col5 {\n",
              "            color:  green;\n",
              "            font-weight:  700;\n",
              "        }    #T_e41cb876_4dd2_11ea_a491_0242ac1c0002row14_col0 {\n",
              "            color:  green;\n",
              "            font-weight:  700;\n",
              "        }    #T_e41cb876_4dd2_11ea_a491_0242ac1c0002row14_col1 {\n",
              "            color:  black;\n",
              "            font-weight:  400;\n",
              "        }    #T_e41cb876_4dd2_11ea_a491_0242ac1c0002row14_col2 {\n",
              "            color:  black;\n",
              "            font-weight:  400;\n",
              "        }    #T_e41cb876_4dd2_11ea_a491_0242ac1c0002row14_col3 {\n",
              "            color:  black;\n",
              "            font-weight:  400;\n",
              "        }    #T_e41cb876_4dd2_11ea_a491_0242ac1c0002row14_col4 {\n",
              "            color:  black;\n",
              "            font-weight:  400;\n",
              "        }    #T_e41cb876_4dd2_11ea_a491_0242ac1c0002row14_col5 {\n",
              "            color:  black;\n",
              "            font-weight:  400;\n",
              "        }</style><table id=\"T_e41cb876_4dd2_11ea_a491_0242ac1c0002\" ><thead>    <tr>        <th class=\"blank level0\" ></th>        <th class=\"col_heading level0 col0\" >Topic0</th>        <th class=\"col_heading level0 col1\" >Topic1</th>        <th class=\"col_heading level0 col2\" >Topic2</th>        <th class=\"col_heading level0 col3\" >Topic3</th>        <th class=\"col_heading level0 col4\" >Topic4</th>        <th class=\"col_heading level0 col5\" >dominant_topic</th>    </tr></thead><tbody>\n",
              "                <tr>\n",
              "                        <th id=\"T_e41cb876_4dd2_11ea_a491_0242ac1c0002level0_row0\" class=\"row_heading level0 row0\" >Doc0</th>\n",
              "                        <td id=\"T_e41cb876_4dd2_11ea_a491_0242ac1c0002row0_col0\" class=\"data row0 col0\" >0.01</td>\n",
              "                        <td id=\"T_e41cb876_4dd2_11ea_a491_0242ac1c0002row0_col1\" class=\"data row0 col1\" >0.01</td>\n",
              "                        <td id=\"T_e41cb876_4dd2_11ea_a491_0242ac1c0002row0_col2\" class=\"data row0 col2\" >0.01</td>\n",
              "                        <td id=\"T_e41cb876_4dd2_11ea_a491_0242ac1c0002row0_col3\" class=\"data row0 col3\" >0.98</td>\n",
              "                        <td id=\"T_e41cb876_4dd2_11ea_a491_0242ac1c0002row0_col4\" class=\"data row0 col4\" >0.01</td>\n",
              "                        <td id=\"T_e41cb876_4dd2_11ea_a491_0242ac1c0002row0_col5\" class=\"data row0 col5\" >3</td>\n",
              "            </tr>\n",
              "            <tr>\n",
              "                        <th id=\"T_e41cb876_4dd2_11ea_a491_0242ac1c0002level0_row1\" class=\"row_heading level0 row1\" >Doc1</th>\n",
              "                        <td id=\"T_e41cb876_4dd2_11ea_a491_0242ac1c0002row1_col0\" class=\"data row1 col0\" >0.42</td>\n",
              "                        <td id=\"T_e41cb876_4dd2_11ea_a491_0242ac1c0002row1_col1\" class=\"data row1 col1\" >0</td>\n",
              "                        <td id=\"T_e41cb876_4dd2_11ea_a491_0242ac1c0002row1_col2\" class=\"data row1 col2\" >0</td>\n",
              "                        <td id=\"T_e41cb876_4dd2_11ea_a491_0242ac1c0002row1_col3\" class=\"data row1 col3\" >0</td>\n",
              "                        <td id=\"T_e41cb876_4dd2_11ea_a491_0242ac1c0002row1_col4\" class=\"data row1 col4\" >0.58</td>\n",
              "                        <td id=\"T_e41cb876_4dd2_11ea_a491_0242ac1c0002row1_col5\" class=\"data row1 col5\" >4</td>\n",
              "            </tr>\n",
              "            <tr>\n",
              "                        <th id=\"T_e41cb876_4dd2_11ea_a491_0242ac1c0002level0_row2\" class=\"row_heading level0 row2\" >Doc2</th>\n",
              "                        <td id=\"T_e41cb876_4dd2_11ea_a491_0242ac1c0002row2_col0\" class=\"data row2 col0\" >0</td>\n",
              "                        <td id=\"T_e41cb876_4dd2_11ea_a491_0242ac1c0002row2_col1\" class=\"data row2 col1\" >0</td>\n",
              "                        <td id=\"T_e41cb876_4dd2_11ea_a491_0242ac1c0002row2_col2\" class=\"data row2 col2\" >0.07</td>\n",
              "                        <td id=\"T_e41cb876_4dd2_11ea_a491_0242ac1c0002row2_col3\" class=\"data row2 col3\" >0</td>\n",
              "                        <td id=\"T_e41cb876_4dd2_11ea_a491_0242ac1c0002row2_col4\" class=\"data row2 col4\" >0.93</td>\n",
              "                        <td id=\"T_e41cb876_4dd2_11ea_a491_0242ac1c0002row2_col5\" class=\"data row2 col5\" >4</td>\n",
              "            </tr>\n",
              "            <tr>\n",
              "                        <th id=\"T_e41cb876_4dd2_11ea_a491_0242ac1c0002level0_row3\" class=\"row_heading level0 row3\" >Doc3</th>\n",
              "                        <td id=\"T_e41cb876_4dd2_11ea_a491_0242ac1c0002row3_col0\" class=\"data row3 col0\" >0.37</td>\n",
              "                        <td id=\"T_e41cb876_4dd2_11ea_a491_0242ac1c0002row3_col1\" class=\"data row3 col1\" >0.2</td>\n",
              "                        <td id=\"T_e41cb876_4dd2_11ea_a491_0242ac1c0002row3_col2\" class=\"data row3 col2\" >0</td>\n",
              "                        <td id=\"T_e41cb876_4dd2_11ea_a491_0242ac1c0002row3_col3\" class=\"data row3 col3\" >0.43</td>\n",
              "                        <td id=\"T_e41cb876_4dd2_11ea_a491_0242ac1c0002row3_col4\" class=\"data row3 col4\" >0</td>\n",
              "                        <td id=\"T_e41cb876_4dd2_11ea_a491_0242ac1c0002row3_col5\" class=\"data row3 col5\" >3</td>\n",
              "            </tr>\n",
              "            <tr>\n",
              "                        <th id=\"T_e41cb876_4dd2_11ea_a491_0242ac1c0002level0_row4\" class=\"row_heading level0 row4\" >Doc4</th>\n",
              "                        <td id=\"T_e41cb876_4dd2_11ea_a491_0242ac1c0002row4_col0\" class=\"data row4 col0\" >0.01</td>\n",
              "                        <td id=\"T_e41cb876_4dd2_11ea_a491_0242ac1c0002row4_col1\" class=\"data row4 col1\" >0.01</td>\n",
              "                        <td id=\"T_e41cb876_4dd2_11ea_a491_0242ac1c0002row4_col2\" class=\"data row4 col2\" >0.01</td>\n",
              "                        <td id=\"T_e41cb876_4dd2_11ea_a491_0242ac1c0002row4_col3\" class=\"data row4 col3\" >0.96</td>\n",
              "                        <td id=\"T_e41cb876_4dd2_11ea_a491_0242ac1c0002row4_col4\" class=\"data row4 col4\" >0.01</td>\n",
              "                        <td id=\"T_e41cb876_4dd2_11ea_a491_0242ac1c0002row4_col5\" class=\"data row4 col5\" >3</td>\n",
              "            </tr>\n",
              "            <tr>\n",
              "                        <th id=\"T_e41cb876_4dd2_11ea_a491_0242ac1c0002level0_row5\" class=\"row_heading level0 row5\" >Doc5</th>\n",
              "                        <td id=\"T_e41cb876_4dd2_11ea_a491_0242ac1c0002row5_col0\" class=\"data row5 col0\" >0</td>\n",
              "                        <td id=\"T_e41cb876_4dd2_11ea_a491_0242ac1c0002row5_col1\" class=\"data row5 col1\" >0</td>\n",
              "                        <td id=\"T_e41cb876_4dd2_11ea_a491_0242ac1c0002row5_col2\" class=\"data row5 col2\" >0</td>\n",
              "                        <td id=\"T_e41cb876_4dd2_11ea_a491_0242ac1c0002row5_col3\" class=\"data row5 col3\" >0.99</td>\n",
              "                        <td id=\"T_e41cb876_4dd2_11ea_a491_0242ac1c0002row5_col4\" class=\"data row5 col4\" >0</td>\n",
              "                        <td id=\"T_e41cb876_4dd2_11ea_a491_0242ac1c0002row5_col5\" class=\"data row5 col5\" >3</td>\n",
              "            </tr>\n",
              "            <tr>\n",
              "                        <th id=\"T_e41cb876_4dd2_11ea_a491_0242ac1c0002level0_row6\" class=\"row_heading level0 row6\" >Doc6</th>\n",
              "                        <td id=\"T_e41cb876_4dd2_11ea_a491_0242ac1c0002row6_col0\" class=\"data row6 col0\" >0.97</td>\n",
              "                        <td id=\"T_e41cb876_4dd2_11ea_a491_0242ac1c0002row6_col1\" class=\"data row6 col1\" >0</td>\n",
              "                        <td id=\"T_e41cb876_4dd2_11ea_a491_0242ac1c0002row6_col2\" class=\"data row6 col2\" >0</td>\n",
              "                        <td id=\"T_e41cb876_4dd2_11ea_a491_0242ac1c0002row6_col3\" class=\"data row6 col3\" >0</td>\n",
              "                        <td id=\"T_e41cb876_4dd2_11ea_a491_0242ac1c0002row6_col4\" class=\"data row6 col4\" >0.02</td>\n",
              "                        <td id=\"T_e41cb876_4dd2_11ea_a491_0242ac1c0002row6_col5\" class=\"data row6 col5\" >0</td>\n",
              "            </tr>\n",
              "            <tr>\n",
              "                        <th id=\"T_e41cb876_4dd2_11ea_a491_0242ac1c0002level0_row7\" class=\"row_heading level0 row7\" >Doc7</th>\n",
              "                        <td id=\"T_e41cb876_4dd2_11ea_a491_0242ac1c0002row7_col0\" class=\"data row7 col0\" >0.02</td>\n",
              "                        <td id=\"T_e41cb876_4dd2_11ea_a491_0242ac1c0002row7_col1\" class=\"data row7 col1\" >0.72</td>\n",
              "                        <td id=\"T_e41cb876_4dd2_11ea_a491_0242ac1c0002row7_col2\" class=\"data row7 col2\" >0</td>\n",
              "                        <td id=\"T_e41cb876_4dd2_11ea_a491_0242ac1c0002row7_col3\" class=\"data row7 col3\" >0.25</td>\n",
              "                        <td id=\"T_e41cb876_4dd2_11ea_a491_0242ac1c0002row7_col4\" class=\"data row7 col4\" >0</td>\n",
              "                        <td id=\"T_e41cb876_4dd2_11ea_a491_0242ac1c0002row7_col5\" class=\"data row7 col5\" >1</td>\n",
              "            </tr>\n",
              "            <tr>\n",
              "                        <th id=\"T_e41cb876_4dd2_11ea_a491_0242ac1c0002level0_row8\" class=\"row_heading level0 row8\" >Doc8</th>\n",
              "                        <td id=\"T_e41cb876_4dd2_11ea_a491_0242ac1c0002row8_col0\" class=\"data row8 col0\" >0</td>\n",
              "                        <td id=\"T_e41cb876_4dd2_11ea_a491_0242ac1c0002row8_col1\" class=\"data row8 col1\" >0</td>\n",
              "                        <td id=\"T_e41cb876_4dd2_11ea_a491_0242ac1c0002row8_col2\" class=\"data row8 col2\" >0</td>\n",
              "                        <td id=\"T_e41cb876_4dd2_11ea_a491_0242ac1c0002row8_col3\" class=\"data row8 col3\" >0</td>\n",
              "                        <td id=\"T_e41cb876_4dd2_11ea_a491_0242ac1c0002row8_col4\" class=\"data row8 col4\" >1</td>\n",
              "                        <td id=\"T_e41cb876_4dd2_11ea_a491_0242ac1c0002row8_col5\" class=\"data row8 col5\" >4</td>\n",
              "            </tr>\n",
              "            <tr>\n",
              "                        <th id=\"T_e41cb876_4dd2_11ea_a491_0242ac1c0002level0_row9\" class=\"row_heading level0 row9\" >Doc9</th>\n",
              "                        <td id=\"T_e41cb876_4dd2_11ea_a491_0242ac1c0002row9_col0\" class=\"data row9 col0\" >0.35</td>\n",
              "                        <td id=\"T_e41cb876_4dd2_11ea_a491_0242ac1c0002row9_col1\" class=\"data row9 col1\" >0.65</td>\n",
              "                        <td id=\"T_e41cb876_4dd2_11ea_a491_0242ac1c0002row9_col2\" class=\"data row9 col2\" >0</td>\n",
              "                        <td id=\"T_e41cb876_4dd2_11ea_a491_0242ac1c0002row9_col3\" class=\"data row9 col3\" >0</td>\n",
              "                        <td id=\"T_e41cb876_4dd2_11ea_a491_0242ac1c0002row9_col4\" class=\"data row9 col4\" >0</td>\n",
              "                        <td id=\"T_e41cb876_4dd2_11ea_a491_0242ac1c0002row9_col5\" class=\"data row9 col5\" >1</td>\n",
              "            </tr>\n",
              "            <tr>\n",
              "                        <th id=\"T_e41cb876_4dd2_11ea_a491_0242ac1c0002level0_row10\" class=\"row_heading level0 row10\" >Doc10</th>\n",
              "                        <td id=\"T_e41cb876_4dd2_11ea_a491_0242ac1c0002row10_col0\" class=\"data row10 col0\" >0.99</td>\n",
              "                        <td id=\"T_e41cb876_4dd2_11ea_a491_0242ac1c0002row10_col1\" class=\"data row10 col1\" >0</td>\n",
              "                        <td id=\"T_e41cb876_4dd2_11ea_a491_0242ac1c0002row10_col2\" class=\"data row10 col2\" >0</td>\n",
              "                        <td id=\"T_e41cb876_4dd2_11ea_a491_0242ac1c0002row10_col3\" class=\"data row10 col3\" >0</td>\n",
              "                        <td id=\"T_e41cb876_4dd2_11ea_a491_0242ac1c0002row10_col4\" class=\"data row10 col4\" >0</td>\n",
              "                        <td id=\"T_e41cb876_4dd2_11ea_a491_0242ac1c0002row10_col5\" class=\"data row10 col5\" >0</td>\n",
              "            </tr>\n",
              "            <tr>\n",
              "                        <th id=\"T_e41cb876_4dd2_11ea_a491_0242ac1c0002level0_row11\" class=\"row_heading level0 row11\" >Doc11</th>\n",
              "                        <td id=\"T_e41cb876_4dd2_11ea_a491_0242ac1c0002row11_col0\" class=\"data row11 col0\" >0.88</td>\n",
              "                        <td id=\"T_e41cb876_4dd2_11ea_a491_0242ac1c0002row11_col1\" class=\"data row11 col1\" >0</td>\n",
              "                        <td id=\"T_e41cb876_4dd2_11ea_a491_0242ac1c0002row11_col2\" class=\"data row11 col2\" >0.11</td>\n",
              "                        <td id=\"T_e41cb876_4dd2_11ea_a491_0242ac1c0002row11_col3\" class=\"data row11 col3\" >0</td>\n",
              "                        <td id=\"T_e41cb876_4dd2_11ea_a491_0242ac1c0002row11_col4\" class=\"data row11 col4\" >0</td>\n",
              "                        <td id=\"T_e41cb876_4dd2_11ea_a491_0242ac1c0002row11_col5\" class=\"data row11 col5\" >0</td>\n",
              "            </tr>\n",
              "            <tr>\n",
              "                        <th id=\"T_e41cb876_4dd2_11ea_a491_0242ac1c0002level0_row12\" class=\"row_heading level0 row12\" >Doc12</th>\n",
              "                        <td id=\"T_e41cb876_4dd2_11ea_a491_0242ac1c0002row12_col0\" class=\"data row12 col0\" >0.81</td>\n",
              "                        <td id=\"T_e41cb876_4dd2_11ea_a491_0242ac1c0002row12_col1\" class=\"data row12 col1\" >0</td>\n",
              "                        <td id=\"T_e41cb876_4dd2_11ea_a491_0242ac1c0002row12_col2\" class=\"data row12 col2\" >0</td>\n",
              "                        <td id=\"T_e41cb876_4dd2_11ea_a491_0242ac1c0002row12_col3\" class=\"data row12 col3\" >0</td>\n",
              "                        <td id=\"T_e41cb876_4dd2_11ea_a491_0242ac1c0002row12_col4\" class=\"data row12 col4\" >0.17</td>\n",
              "                        <td id=\"T_e41cb876_4dd2_11ea_a491_0242ac1c0002row12_col5\" class=\"data row12 col5\" >0</td>\n",
              "            </tr>\n",
              "            <tr>\n",
              "                        <th id=\"T_e41cb876_4dd2_11ea_a491_0242ac1c0002level0_row13\" class=\"row_heading level0 row13\" >Doc13</th>\n",
              "                        <td id=\"T_e41cb876_4dd2_11ea_a491_0242ac1c0002row13_col0\" class=\"data row13 col0\" >0.12</td>\n",
              "                        <td id=\"T_e41cb876_4dd2_11ea_a491_0242ac1c0002row13_col1\" class=\"data row13 col1\" >0</td>\n",
              "                        <td id=\"T_e41cb876_4dd2_11ea_a491_0242ac1c0002row13_col2\" class=\"data row13 col2\" >0.87</td>\n",
              "                        <td id=\"T_e41cb876_4dd2_11ea_a491_0242ac1c0002row13_col3\" class=\"data row13 col3\" >0</td>\n",
              "                        <td id=\"T_e41cb876_4dd2_11ea_a491_0242ac1c0002row13_col4\" class=\"data row13 col4\" >0</td>\n",
              "                        <td id=\"T_e41cb876_4dd2_11ea_a491_0242ac1c0002row13_col5\" class=\"data row13 col5\" >2</td>\n",
              "            </tr>\n",
              "            <tr>\n",
              "                        <th id=\"T_e41cb876_4dd2_11ea_a491_0242ac1c0002level0_row14\" class=\"row_heading level0 row14\" >Doc14</th>\n",
              "                        <td id=\"T_e41cb876_4dd2_11ea_a491_0242ac1c0002row14_col0\" class=\"data row14 col0\" >0.99</td>\n",
              "                        <td id=\"T_e41cb876_4dd2_11ea_a491_0242ac1c0002row14_col1\" class=\"data row14 col1\" >0</td>\n",
              "                        <td id=\"T_e41cb876_4dd2_11ea_a491_0242ac1c0002row14_col2\" class=\"data row14 col2\" >0</td>\n",
              "                        <td id=\"T_e41cb876_4dd2_11ea_a491_0242ac1c0002row14_col3\" class=\"data row14 col3\" >0</td>\n",
              "                        <td id=\"T_e41cb876_4dd2_11ea_a491_0242ac1c0002row14_col4\" class=\"data row14 col4\" >0</td>\n",
              "                        <td id=\"T_e41cb876_4dd2_11ea_a491_0242ac1c0002row14_col5\" class=\"data row14 col5\" >0</td>\n",
              "            </tr>\n",
              "    </tbody></table>"
            ],
            "text/plain": [
              "<pandas.io.formats.style.Styler at 0x7f2eeaa10d30>"
            ]
          },
          "metadata": {
            "tags": []
          },
          "execution_count": 115
        }
      ]
    },
    {
      "cell_type": "markdown",
      "metadata": {
        "id": "IfKPSqwPAR2p",
        "colab_type": "text"
      },
      "source": [
        "Distribucion de temas en el texto"
      ]
    },
    {
      "cell_type": "code",
      "metadata": {
        "id": "7tKkuK8BANGC",
        "colab_type": "code",
        "colab": {}
      },
      "source": [
        "# Topic-Keyword Matrix\n",
        "df_topic_keywords = pd.DataFrame(best_lda_model.components_)"
      ],
      "execution_count": 0,
      "outputs": []
    },
    {
      "cell_type": "code",
      "metadata": {
        "id": "oEcqNHDsAV8m",
        "colab_type": "code",
        "colab": {}
      },
      "source": [
        "# Assign Column and Index\n",
        "df_topic_keywords.columns = vectorizer.get_feature_names()\n",
        "df_topic_keywords.index = topicnames"
      ],
      "execution_count": 0,
      "outputs": []
    },
    {
      "cell_type": "code",
      "metadata": {
        "id": "z3qDEP6pAfDy",
        "colab_type": "code",
        "colab": {
          "base_uri": "https://localhost:8080/",
          "height": 253
        },
        "outputId": "6f7c6b9f-384d-4dee-f304-0b29bbbab7ac"
      },
      "source": [
        "# View\n",
        "df_topic_keywords.head()"
      ],
      "execution_count": 121,
      "outputs": [
        {
          "output_type": "execute_result",
          "data": {
            "text/html": [
              "<div>\n",
              "<style scoped>\n",
              "    .dataframe tbody tr th:only-of-type {\n",
              "        vertical-align: middle;\n",
              "    }\n",
              "\n",
              "    .dataframe tbody tr th {\n",
              "        vertical-align: top;\n",
              "    }\n",
              "\n",
              "    .dataframe thead th {\n",
              "        text-align: right;\n",
              "    }\n",
              "</style>\n",
              "<table border=\"1\" class=\"dataframe\">\n",
              "  <thead>\n",
              "    <tr style=\"text-align: right;\">\n",
              "      <th></th>\n",
              "      <th>aaalllooohhhaa</th>\n",
              "      <th>aacc</th>\n",
              "      <th>aalt</th>\n",
              "      <th>aaron</th>\n",
              "      <th>abad</th>\n",
              "      <th>abaj</th>\n",
              "      <th>abal</th>\n",
              "      <th>abalanz</th>\n",
              "      <th>abander</th>\n",
              "      <th>abandon</th>\n",
              "      <th>abanic</th>\n",
              "      <th>abar</th>\n",
              "      <th>abarc</th>\n",
              "      <th>abarrot</th>\n",
              "      <th>abast</th>\n",
              "      <th>abastec</th>\n",
              "      <th>abat</th>\n",
              "      <th>abccordob</th>\n",
              "      <th>abdal</th>\n",
              "      <th>abdel</th>\n",
              "      <th>abderrahm</th>\n",
              "      <th>abdo</th>\n",
              "      <th>abdom</th>\n",
              "      <th>abdominal</th>\n",
              "      <th>abdominoplasti</th>\n",
              "      <th>abdon</th>\n",
              "      <th>abeb</th>\n",
              "      <th>abeci</th>\n",
              "      <th>abel</th>\n",
              "      <th>abelard</th>\n",
              "      <th>aberr</th>\n",
              "      <th>abert</th>\n",
              "      <th>abertis</th>\n",
              "      <th>abet</th>\n",
              "      <th>abiert</th>\n",
              "      <th>abigail</th>\n",
              "      <th>abiot</th>\n",
              "      <th>abism</th>\n",
              "      <th>abismal</th>\n",
              "      <th>abneg</th>\n",
              "      <th>...</th>\n",
              "      <th>ñeng</th>\n",
              "      <th>ñiguez</th>\n",
              "      <th>ölünc</th>\n",
              "      <th>østberg</th>\n",
              "      <th>ýspany</th>\n",
              "      <th>ăąre</th>\n",
              "      <th>ăşltim</th>\n",
              "      <th>ăşnic</th>\n",
              "      <th>škod</th>\n",
              "      <th>ťalgun</th>\n",
              "      <th>ťbobby</th>\n",
              "      <th>ťborn</th>\n",
              "      <th>ťcaf</th>\n",
              "      <th>ťcuart</th>\n",
              "      <th>ťhol</th>\n",
              "      <th>ťlos</th>\n",
              "      <th>ťmemec</th>\n",
              "      <th>ťnew</th>\n",
              "      <th>ťorbit</th>\n",
              "      <th>ťosti</th>\n",
              "      <th>ťser</th>\n",
              "      <th>ťsnowdenť</th>\n",
              "      <th>ťthe</th>\n",
              "      <th>ťtod</th>\n",
              "      <th>ťvuelv</th>\n",
              "      <th>żcom</th>\n",
              "      <th>żcon</th>\n",
              "      <th>żconsider</th>\n",
              "      <th>żconsult</th>\n",
              "      <th>żer</th>\n",
              "      <th>żles</th>\n",
              "      <th>żlos</th>\n",
              "      <th>żpor</th>\n",
              "      <th>żqu</th>\n",
              "      <th>żresult</th>\n",
              "      <th>żson</th>\n",
              "      <th>żtus</th>\n",
              "      <th>żťla</th>\n",
              "      <th>ſeptiembr</th>\n",
              "      <th>йstos</th>\n",
              "    </tr>\n",
              "  </thead>\n",
              "  <tbody>\n",
              "    <tr>\n",
              "      <th>Topic0</th>\n",
              "      <td>0.200000</td>\n",
              "      <td>0.2</td>\n",
              "      <td>0.200000</td>\n",
              "      <td>3.993990</td>\n",
              "      <td>3.187471</td>\n",
              "      <td>6.188587</td>\n",
              "      <td>1.199998</td>\n",
              "      <td>1.191325</td>\n",
              "      <td>0.201763</td>\n",
              "      <td>14.952723</td>\n",
              "      <td>0.200000</td>\n",
              "      <td>0.200001</td>\n",
              "      <td>0.202900</td>\n",
              "      <td>1.199999</td>\n",
              "      <td>0.200001</td>\n",
              "      <td>1.172334</td>\n",
              "      <td>1.463672</td>\n",
              "      <td>0.218553</td>\n",
              "      <td>0.200000</td>\n",
              "      <td>0.200000</td>\n",
              "      <td>2.022998</td>\n",
              "      <td>0.200000</td>\n",
              "      <td>2.196154</td>\n",
              "      <td>0.200939</td>\n",
              "      <td>0.200000</td>\n",
              "      <td>0.200001</td>\n",
              "      <td>0.200000</td>\n",
              "      <td>1.195436</td>\n",
              "      <td>1.199948</td>\n",
              "      <td>0.200000</td>\n",
              "      <td>0.200172</td>\n",
              "      <td>1.199997</td>\n",
              "      <td>3.198933</td>\n",
              "      <td>0.211825</td>\n",
              "      <td>3.199453</td>\n",
              "      <td>0.2</td>\n",
              "      <td>0.200000</td>\n",
              "      <td>2.199963</td>\n",
              "      <td>0.200109</td>\n",
              "      <td>0.201674</td>\n",
              "      <td>...</td>\n",
              "      <td>0.2</td>\n",
              "      <td>0.2</td>\n",
              "      <td>0.200000</td>\n",
              "      <td>2.199999</td>\n",
              "      <td>1.199992</td>\n",
              "      <td>0.200000</td>\n",
              "      <td>0.200001</td>\n",
              "      <td>0.200000</td>\n",
              "      <td>1.199999</td>\n",
              "      <td>0.200000</td>\n",
              "      <td>0.2</td>\n",
              "      <td>0.2</td>\n",
              "      <td>0.2</td>\n",
              "      <td>0.200000</td>\n",
              "      <td>0.2</td>\n",
              "      <td>0.2</td>\n",
              "      <td>0.200000</td>\n",
              "      <td>0.2</td>\n",
              "      <td>0.200000</td>\n",
              "      <td>0.2</td>\n",
              "      <td>0.2</td>\n",
              "      <td>0.2</td>\n",
              "      <td>0.2</td>\n",
              "      <td>0.2</td>\n",
              "      <td>0.2</td>\n",
              "      <td>0.200000</td>\n",
              "      <td>0.2</td>\n",
              "      <td>0.2</td>\n",
              "      <td>0.2</td>\n",
              "      <td>0.2</td>\n",
              "      <td>0.2</td>\n",
              "      <td>0.2</td>\n",
              "      <td>0.2</td>\n",
              "      <td>0.2</td>\n",
              "      <td>0.2</td>\n",
              "      <td>0.2</td>\n",
              "      <td>0.2</td>\n",
              "      <td>0.2</td>\n",
              "      <td>0.200001</td>\n",
              "      <td>0.200000</td>\n",
              "    </tr>\n",
              "    <tr>\n",
              "      <th>Topic1</th>\n",
              "      <td>0.200000</td>\n",
              "      <td>0.2</td>\n",
              "      <td>0.200000</td>\n",
              "      <td>0.200315</td>\n",
              "      <td>0.200000</td>\n",
              "      <td>2.029693</td>\n",
              "      <td>0.200000</td>\n",
              "      <td>0.208672</td>\n",
              "      <td>0.200000</td>\n",
              "      <td>19.628490</td>\n",
              "      <td>0.200000</td>\n",
              "      <td>2.196518</td>\n",
              "      <td>6.425298</td>\n",
              "      <td>0.200000</td>\n",
              "      <td>1.199996</td>\n",
              "      <td>0.228435</td>\n",
              "      <td>0.200007</td>\n",
              "      <td>0.200001</td>\n",
              "      <td>0.200329</td>\n",
              "      <td>0.202046</td>\n",
              "      <td>0.200001</td>\n",
              "      <td>0.200329</td>\n",
              "      <td>0.200001</td>\n",
              "      <td>0.210880</td>\n",
              "      <td>0.200000</td>\n",
              "      <td>0.225863</td>\n",
              "      <td>4.199998</td>\n",
              "      <td>0.200000</td>\n",
              "      <td>0.200000</td>\n",
              "      <td>0.200000</td>\n",
              "      <td>0.200864</td>\n",
              "      <td>0.200000</td>\n",
              "      <td>0.201065</td>\n",
              "      <td>0.200609</td>\n",
              "      <td>0.200000</td>\n",
              "      <td>0.2</td>\n",
              "      <td>0.200314</td>\n",
              "      <td>0.200000</td>\n",
              "      <td>2.196751</td>\n",
              "      <td>1.196969</td>\n",
              "      <td>...</td>\n",
              "      <td>0.2</td>\n",
              "      <td>0.2</td>\n",
              "      <td>0.200000</td>\n",
              "      <td>0.200000</td>\n",
              "      <td>0.200001</td>\n",
              "      <td>1.187459</td>\n",
              "      <td>2.197045</td>\n",
              "      <td>1.198899</td>\n",
              "      <td>0.200000</td>\n",
              "      <td>1.199998</td>\n",
              "      <td>0.2</td>\n",
              "      <td>0.2</td>\n",
              "      <td>0.2</td>\n",
              "      <td>3.199998</td>\n",
              "      <td>0.2</td>\n",
              "      <td>0.2</td>\n",
              "      <td>1.199998</td>\n",
              "      <td>0.2</td>\n",
              "      <td>3.199998</td>\n",
              "      <td>0.2</td>\n",
              "      <td>0.2</td>\n",
              "      <td>0.2</td>\n",
              "      <td>0.2</td>\n",
              "      <td>0.2</td>\n",
              "      <td>0.2</td>\n",
              "      <td>1.199968</td>\n",
              "      <td>0.2</td>\n",
              "      <td>0.2</td>\n",
              "      <td>0.2</td>\n",
              "      <td>0.2</td>\n",
              "      <td>0.2</td>\n",
              "      <td>0.2</td>\n",
              "      <td>0.2</td>\n",
              "      <td>0.2</td>\n",
              "      <td>0.2</td>\n",
              "      <td>0.2</td>\n",
              "      <td>0.2</td>\n",
              "      <td>0.2</td>\n",
              "      <td>0.200001</td>\n",
              "      <td>0.200504</td>\n",
              "    </tr>\n",
              "    <tr>\n",
              "      <th>Topic2</th>\n",
              "      <td>0.200000</td>\n",
              "      <td>2.2</td>\n",
              "      <td>0.200000</td>\n",
              "      <td>0.200001</td>\n",
              "      <td>0.200000</td>\n",
              "      <td>1.211167</td>\n",
              "      <td>0.200001</td>\n",
              "      <td>0.200001</td>\n",
              "      <td>0.200000</td>\n",
              "      <td>0.925776</td>\n",
              "      <td>2.199999</td>\n",
              "      <td>0.210590</td>\n",
              "      <td>0.200280</td>\n",
              "      <td>0.200000</td>\n",
              "      <td>0.200001</td>\n",
              "      <td>1.199227</td>\n",
              "      <td>0.200001</td>\n",
              "      <td>0.200002</td>\n",
              "      <td>0.200001</td>\n",
              "      <td>1.195745</td>\n",
              "      <td>0.200003</td>\n",
              "      <td>0.200001</td>\n",
              "      <td>1.200224</td>\n",
              "      <td>0.200001</td>\n",
              "      <td>0.200000</td>\n",
              "      <td>0.200002</td>\n",
              "      <td>0.200001</td>\n",
              "      <td>0.200000</td>\n",
              "      <td>1.200051</td>\n",
              "      <td>0.200000</td>\n",
              "      <td>0.200000</td>\n",
              "      <td>0.200001</td>\n",
              "      <td>0.200001</td>\n",
              "      <td>0.200001</td>\n",
              "      <td>0.200000</td>\n",
              "      <td>0.2</td>\n",
              "      <td>0.200000</td>\n",
              "      <td>1.200036</td>\n",
              "      <td>0.200000</td>\n",
              "      <td>0.200000</td>\n",
              "      <td>...</td>\n",
              "      <td>0.2</td>\n",
              "      <td>1.2</td>\n",
              "      <td>1.199999</td>\n",
              "      <td>0.200000</td>\n",
              "      <td>0.200002</td>\n",
              "      <td>0.212538</td>\n",
              "      <td>0.200950</td>\n",
              "      <td>0.201099</td>\n",
              "      <td>0.200000</td>\n",
              "      <td>0.200001</td>\n",
              "      <td>0.2</td>\n",
              "      <td>0.2</td>\n",
              "      <td>0.2</td>\n",
              "      <td>0.200001</td>\n",
              "      <td>0.2</td>\n",
              "      <td>0.2</td>\n",
              "      <td>0.200001</td>\n",
              "      <td>0.2</td>\n",
              "      <td>0.200001</td>\n",
              "      <td>0.2</td>\n",
              "      <td>0.2</td>\n",
              "      <td>0.2</td>\n",
              "      <td>0.2</td>\n",
              "      <td>0.2</td>\n",
              "      <td>0.2</td>\n",
              "      <td>0.200000</td>\n",
              "      <td>0.2</td>\n",
              "      <td>0.2</td>\n",
              "      <td>0.2</td>\n",
              "      <td>0.2</td>\n",
              "      <td>0.2</td>\n",
              "      <td>0.2</td>\n",
              "      <td>0.2</td>\n",
              "      <td>0.2</td>\n",
              "      <td>0.2</td>\n",
              "      <td>0.2</td>\n",
              "      <td>0.2</td>\n",
              "      <td>0.2</td>\n",
              "      <td>1.199995</td>\n",
              "      <td>0.200000</td>\n",
              "    </tr>\n",
              "    <tr>\n",
              "      <th>Topic3</th>\n",
              "      <td>1.199999</td>\n",
              "      <td>0.2</td>\n",
              "      <td>0.200000</td>\n",
              "      <td>0.200002</td>\n",
              "      <td>0.212528</td>\n",
              "      <td>0.200546</td>\n",
              "      <td>0.200001</td>\n",
              "      <td>0.200001</td>\n",
              "      <td>0.200000</td>\n",
              "      <td>1.264787</td>\n",
              "      <td>0.200000</td>\n",
              "      <td>1.191743</td>\n",
              "      <td>1.971521</td>\n",
              "      <td>0.200000</td>\n",
              "      <td>0.200001</td>\n",
              "      <td>0.200002</td>\n",
              "      <td>4.200312</td>\n",
              "      <td>1.181267</td>\n",
              "      <td>0.200001</td>\n",
              "      <td>0.200000</td>\n",
              "      <td>0.200003</td>\n",
              "      <td>0.200001</td>\n",
              "      <td>0.200002</td>\n",
              "      <td>1.199825</td>\n",
              "      <td>0.200000</td>\n",
              "      <td>0.200002</td>\n",
              "      <td>0.200001</td>\n",
              "      <td>0.204563</td>\n",
              "      <td>0.200001</td>\n",
              "      <td>0.200000</td>\n",
              "      <td>0.200000</td>\n",
              "      <td>0.200001</td>\n",
              "      <td>0.200001</td>\n",
              "      <td>1.170791</td>\n",
              "      <td>0.200000</td>\n",
              "      <td>1.2</td>\n",
              "      <td>0.200000</td>\n",
              "      <td>0.200001</td>\n",
              "      <td>0.203139</td>\n",
              "      <td>0.200000</td>\n",
              "      <td>...</td>\n",
              "      <td>0.2</td>\n",
              "      <td>0.2</td>\n",
              "      <td>0.200000</td>\n",
              "      <td>0.200000</td>\n",
              "      <td>0.200003</td>\n",
              "      <td>0.200001</td>\n",
              "      <td>0.200001</td>\n",
              "      <td>0.200001</td>\n",
              "      <td>0.200000</td>\n",
              "      <td>0.200001</td>\n",
              "      <td>0.2</td>\n",
              "      <td>0.2</td>\n",
              "      <td>0.2</td>\n",
              "      <td>0.200001</td>\n",
              "      <td>0.2</td>\n",
              "      <td>0.2</td>\n",
              "      <td>0.200001</td>\n",
              "      <td>0.2</td>\n",
              "      <td>0.200001</td>\n",
              "      <td>0.2</td>\n",
              "      <td>0.2</td>\n",
              "      <td>0.2</td>\n",
              "      <td>0.2</td>\n",
              "      <td>0.2</td>\n",
              "      <td>0.2</td>\n",
              "      <td>0.200000</td>\n",
              "      <td>0.2</td>\n",
              "      <td>0.2</td>\n",
              "      <td>0.2</td>\n",
              "      <td>0.2</td>\n",
              "      <td>0.2</td>\n",
              "      <td>0.2</td>\n",
              "      <td>0.2</td>\n",
              "      <td>0.2</td>\n",
              "      <td>0.2</td>\n",
              "      <td>0.2</td>\n",
              "      <td>0.2</td>\n",
              "      <td>0.2</td>\n",
              "      <td>0.200002</td>\n",
              "      <td>1.198996</td>\n",
              "    </tr>\n",
              "    <tr>\n",
              "      <th>Topic4</th>\n",
              "      <td>0.200000</td>\n",
              "      <td>0.2</td>\n",
              "      <td>1.199999</td>\n",
              "      <td>1.405692</td>\n",
              "      <td>0.200000</td>\n",
              "      <td>4.370007</td>\n",
              "      <td>0.200000</td>\n",
              "      <td>0.200001</td>\n",
              "      <td>1.198236</td>\n",
              "      <td>20.228224</td>\n",
              "      <td>0.200000</td>\n",
              "      <td>0.201149</td>\n",
              "      <td>0.200001</td>\n",
              "      <td>0.200000</td>\n",
              "      <td>0.200001</td>\n",
              "      <td>0.200001</td>\n",
              "      <td>2.936008</td>\n",
              "      <td>1.200176</td>\n",
              "      <td>1.199669</td>\n",
              "      <td>0.202208</td>\n",
              "      <td>0.376996</td>\n",
              "      <td>1.199669</td>\n",
              "      <td>0.203618</td>\n",
              "      <td>7.188356</td>\n",
              "      <td>1.199999</td>\n",
              "      <td>1.174133</td>\n",
              "      <td>0.200000</td>\n",
              "      <td>0.200000</td>\n",
              "      <td>0.200000</td>\n",
              "      <td>1.199999</td>\n",
              "      <td>1.198963</td>\n",
              "      <td>0.200001</td>\n",
              "      <td>0.200001</td>\n",
              "      <td>0.216774</td>\n",
              "      <td>0.200546</td>\n",
              "      <td>0.2</td>\n",
              "      <td>1.199686</td>\n",
              "      <td>0.200000</td>\n",
              "      <td>0.200000</td>\n",
              "      <td>0.201356</td>\n",
              "      <td>...</td>\n",
              "      <td>1.2</td>\n",
              "      <td>0.2</td>\n",
              "      <td>0.200000</td>\n",
              "      <td>0.200000</td>\n",
              "      <td>0.200002</td>\n",
              "      <td>0.200001</td>\n",
              "      <td>0.202003</td>\n",
              "      <td>0.200001</td>\n",
              "      <td>0.200000</td>\n",
              "      <td>0.200001</td>\n",
              "      <td>1.2</td>\n",
              "      <td>1.2</td>\n",
              "      <td>1.2</td>\n",
              "      <td>0.200000</td>\n",
              "      <td>1.2</td>\n",
              "      <td>1.2</td>\n",
              "      <td>0.200001</td>\n",
              "      <td>1.2</td>\n",
              "      <td>0.200000</td>\n",
              "      <td>2.2</td>\n",
              "      <td>1.2</td>\n",
              "      <td>1.2</td>\n",
              "      <td>1.2</td>\n",
              "      <td>1.2</td>\n",
              "      <td>1.2</td>\n",
              "      <td>1.200031</td>\n",
              "      <td>1.2</td>\n",
              "      <td>1.2</td>\n",
              "      <td>1.2</td>\n",
              "      <td>1.2</td>\n",
              "      <td>1.2</td>\n",
              "      <td>1.2</td>\n",
              "      <td>1.2</td>\n",
              "      <td>7.2</td>\n",
              "      <td>1.2</td>\n",
              "      <td>1.2</td>\n",
              "      <td>1.2</td>\n",
              "      <td>1.2</td>\n",
              "      <td>0.200001</td>\n",
              "      <td>0.200500</td>\n",
              "    </tr>\n",
              "  </tbody>\n",
              "</table>\n",
              "<p>5 rows × 15136 columns</p>\n",
              "</div>"
            ],
            "text/plain": [
              "        aaalllooohhhaa  aacc      aalt  ...  żťla  ſeptiembr     йstos\n",
              "Topic0        0.200000   0.2  0.200000  ...   0.2   0.200001  0.200000\n",
              "Topic1        0.200000   0.2  0.200000  ...   0.2   0.200001  0.200504\n",
              "Topic2        0.200000   2.2  0.200000  ...   0.2   1.199995  0.200000\n",
              "Topic3        1.199999   0.2  0.200000  ...   0.2   0.200002  1.198996\n",
              "Topic4        0.200000   0.2  1.199999  ...   1.2   0.200001  0.200500\n",
              "\n",
              "[5 rows x 15136 columns]"
            ]
          },
          "metadata": {
            "tags": []
          },
          "execution_count": 121
        }
      ]
    },
    {
      "cell_type": "code",
      "metadata": {
        "id": "oCwMvvxFBI6N",
        "colab_type": "code",
        "colab": {
          "base_uri": "https://localhost:8080/",
          "height": 204
        },
        "outputId": "c346b74b-92e5-4cc6-c2f2-b670f790bf16"
      },
      "source": [
        "# Show top n keywords for each topic\n",
        "def show_topics(cv=vectorizer, lda_model=best_lda_model, n_words=20):\n",
        "    keywords = np.array(cv.get_feature_names())\n",
        "    topic_keywords = []\n",
        "    for topic_weights in lda_model.components_:\n",
        "        top_keyword_locs = (-topic_weights).argsort()[:n_words]\n",
        "        topic_keywords.append(keywords.take(top_keyword_locs))\n",
        "    return topic_keywords\n",
        "\n",
        "topic_keywords = show_topics(cv=vectorizer, lda_model=best_lda_model, n_words=15)        \n",
        "\n",
        "# Topic - Keywords Dataframe\n",
        "df_topic_keywords = pd.DataFrame(topic_keywords)\n",
        "df_topic_keywords.columns = ['Word '+str(i) for i in range(df_topic_keywords.shape[1])]\n",
        "df_topic_keywords.index = ['Topic '+str(i) for i in range(df_topic_keywords.shape[0])]\n",
        "df_topic_keywords"
      ],
      "execution_count": 123,
      "outputs": [
        {
          "output_type": "execute_result",
          "data": {
            "text/html": [
              "<div>\n",
              "<style scoped>\n",
              "    .dataframe tbody tr th:only-of-type {\n",
              "        vertical-align: middle;\n",
              "    }\n",
              "\n",
              "    .dataframe tbody tr th {\n",
              "        vertical-align: top;\n",
              "    }\n",
              "\n",
              "    .dataframe thead th {\n",
              "        text-align: right;\n",
              "    }\n",
              "</style>\n",
              "<table border=\"1\" class=\"dataframe\">\n",
              "  <thead>\n",
              "    <tr style=\"text-align: right;\">\n",
              "      <th></th>\n",
              "      <th>Word 0</th>\n",
              "      <th>Word 1</th>\n",
              "      <th>Word 2</th>\n",
              "      <th>Word 3</th>\n",
              "      <th>Word 4</th>\n",
              "      <th>Word 5</th>\n",
              "      <th>Word 6</th>\n",
              "      <th>Word 7</th>\n",
              "      <th>Word 8</th>\n",
              "      <th>Word 9</th>\n",
              "      <th>Word 10</th>\n",
              "      <th>Word 11</th>\n",
              "      <th>Word 12</th>\n",
              "      <th>Word 13</th>\n",
              "      <th>Word 14</th>\n",
              "    </tr>\n",
              "  </thead>\n",
              "  <tbody>\n",
              "    <tr>\n",
              "      <th>Topic 0</th>\n",
              "      <td>part</td>\n",
              "      <td>public</td>\n",
              "      <td>pso</td>\n",
              "      <td>gobern</td>\n",
              "      <td>madr</td>\n",
              "      <td>polit</td>\n",
              "      <td>social</td>\n",
              "      <td>sanchez</td>\n",
              "      <td>jug</td>\n",
              "      <td>pas</td>\n",
              "      <td>equip</td>\n",
              "      <td>conten</td>\n",
              "      <td>president</td>\n",
              "      <td>vot</td>\n",
              "      <td>comit</td>\n",
              "    </tr>\n",
              "    <tr>\n",
              "      <th>Topic 1</th>\n",
              "      <td>millon</td>\n",
              "      <td>public</td>\n",
              "      <td>gobern</td>\n",
              "      <td>inform</td>\n",
              "      <td>nacional</td>\n",
              "      <td>eur</td>\n",
              "      <td>cas</td>\n",
              "      <td>pag</td>\n",
              "      <td>person</td>\n",
              "      <td>econom</td>\n",
              "      <td>centr</td>\n",
              "      <td>octubr</td>\n",
              "      <td>empres</td>\n",
              "      <td>comun</td>\n",
              "      <td>septiembr</td>\n",
              "    </tr>\n",
              "    <tr>\n",
              "      <th>Topic 2</th>\n",
              "      <td>seleccion</td>\n",
              "      <td>part</td>\n",
              "      <td>jugador</td>\n",
              "      <td>public</td>\n",
              "      <td>cas</td>\n",
              "      <td>argentin</td>\n",
              "      <td>jug</td>\n",
              "      <td>marc</td>\n",
              "      <td>present</td>\n",
              "      <td>lleg</td>\n",
              "      <td>ingres</td>\n",
              "      <td>equip</td>\n",
              "      <td>fot</td>\n",
              "      <td>nacional</td>\n",
              "      <td>octubr</td>\n",
              "    </tr>\n",
              "    <tr>\n",
              "      <th>Topic 3</th>\n",
              "      <td>telefon</td>\n",
              "      <td>vehicul</td>\n",
              "      <td>seri</td>\n",
              "      <td>anunci</td>\n",
              "      <td>garant</td>\n",
              "      <td>mes</td>\n",
              "      <td>libr</td>\n",
              "      <td>equip</td>\n",
              "      <td>color</td>\n",
              "      <td>deport</td>\n",
              "      <td>email</td>\n",
              "      <td>cambi</td>\n",
              "      <td>comentari</td>\n",
              "      <td>preci</td>\n",
              "      <td>hij</td>\n",
              "    </tr>\n",
              "    <tr>\n",
              "      <th>Topic 4</th>\n",
              "      <td>sant</td>\n",
              "      <td>sal</td>\n",
              "      <td>person</td>\n",
              "      <td>ciud</td>\n",
              "      <td>pod</td>\n",
              "      <td>encontr</td>\n",
              "      <td>cas</td>\n",
              "      <td>gobern</td>\n",
              "      <td>public</td>\n",
              "      <td>president</td>\n",
              "      <td>sent</td>\n",
              "      <td>pas</td>\n",
              "      <td>dec</td>\n",
              "      <td>famili</td>\n",
              "      <td>dej</td>\n",
              "    </tr>\n",
              "  </tbody>\n",
              "</table>\n",
              "</div>"
            ],
            "text/plain": [
              "            Word 0   Word 1   Word 2  ...    Word 12   Word 13    Word 14\n",
              "Topic 0       part   public      pso  ...  president       vot      comit\n",
              "Topic 1     millon   public   gobern  ...     empres     comun  septiembr\n",
              "Topic 2  seleccion     part  jugador  ...        fot  nacional     octubr\n",
              "Topic 3    telefon  vehicul     seri  ...  comentari     preci        hij\n",
              "Topic 4       sant      sal   person  ...        dec    famili        dej\n",
              "\n",
              "[5 rows x 15 columns]"
            ]
          },
          "metadata": {
            "tags": []
          },
          "execution_count": 123
        }
      ]
    },
    {
      "cell_type": "markdown",
      "metadata": {
        "id": "zEwKbkgZB7R5",
        "colab_type": "text"
      },
      "source": [
        "Captar las palabras de mayor probabilidad por tema"
      ]
    },
    {
      "cell_type": "code",
      "metadata": {
        "id": "mjyz_jfiBbvx",
        "colab_type": "code",
        "colab": {
          "base_uri": "https://localhost:8080/",
          "height": 527
        },
        "outputId": "09b0f725-247f-4123-90fd-829d1484af6d"
      },
      "source": [
        "for index,topic in enumerate(best_lda_model.components_):\n",
        "    print(f'Las principales 15 palabras del tema #(index)')\n",
        "    print([vectorizer.get_feature_names()[index] for index in topic.argsort()[-15:]])\n",
        "    print('\\n')\n",
        "    print('\\n')"
      ],
      "execution_count": 125,
      "outputs": [
        {
          "output_type": "stream",
          "text": [
            "Las principales 15 palabras del tema #(index)\n",
            "['comit', 'vot', 'president', 'conten', 'equip', 'pas', 'jug', 'sanchez', 'social', 'polit', 'madr', 'gobern', 'pso', 'public', 'part']\n",
            "\n",
            "\n",
            "\n",
            "\n",
            "Las principales 15 palabras del tema #(index)\n",
            "['septiembr', 'comun', 'empres', 'octubr', 'centr', 'econom', 'person', 'pag', 'cas', 'eur', 'nacional', 'inform', 'gobern', 'public', 'millon']\n",
            "\n",
            "\n",
            "\n",
            "\n",
            "Las principales 15 palabras del tema #(index)\n",
            "['octubr', 'nacional', 'fot', 'equip', 'ingres', 'lleg', 'present', 'marc', 'jug', 'argentin', 'cas', 'public', 'jugador', 'part', 'seleccion']\n",
            "\n",
            "\n",
            "\n",
            "\n",
            "Las principales 15 palabras del tema #(index)\n",
            "['hij', 'preci', 'comentari', 'cambi', 'email', 'deport', 'color', 'equip', 'libr', 'mes', 'garant', 'anunci', 'seri', 'vehicul', 'telefon']\n",
            "\n",
            "\n",
            "\n",
            "\n",
            "Las principales 15 palabras del tema #(index)\n",
            "['dej', 'famili', 'dec', 'pas', 'sent', 'president', 'public', 'gobern', 'cas', 'encontr', 'pod', 'ciud', 'person', 'sal', 'sant']\n",
            "\n",
            "\n",
            "\n",
            "\n"
          ],
          "name": "stdout"
        }
      ]
    },
    {
      "cell_type": "markdown",
      "metadata": {
        "id": "CrLean-wCase",
        "colab_type": "text"
      },
      "source": [
        "SOM"
      ]
    },
    {
      "cell_type": "code",
      "metadata": {
        "id": "kGlxubD2C3eO",
        "colab_type": "code",
        "colab": {
          "base_uri": "https://localhost:8080/",
          "height": 51
        },
        "outputId": "f8df0c54-f431-4c64-daa0-f487bec063c7"
      },
      "source": [
        "!pip install sompy"
      ],
      "execution_count": 132,
      "outputs": [
        {
          "output_type": "stream",
          "text": [
            "Requirement already satisfied: sompy in /usr/local/lib/python3.6/dist-packages (0.1.1)\n",
            "Requirement already satisfied: numpy in /usr/local/lib/python3.6/dist-packages (from sompy) (1.17.5)\n"
          ],
          "name": "stdout"
        }
      ]
    },
    {
      "cell_type": "code",
      "metadata": {
        "id": "J4FF5Iq-DsaL",
        "colab_type": "code",
        "colab": {
          "base_uri": "https://localhost:8080/",
          "height": 323
        },
        "outputId": "2c7340d6-6e37-4753-e6d1-8ece5defd59b"
      },
      "source": [
        "!pip install git+https://github.com/sevamoo/SOMPY"
      ],
      "execution_count": 136,
      "outputs": [
        {
          "output_type": "stream",
          "text": [
            "Collecting git+https://github.com/sevamoo/SOMPY\n",
            "  Cloning https://github.com/sevamoo/SOMPY to /tmp/pip-req-build-tmr6hfcp\n",
            "  Running command git clone -q https://github.com/sevamoo/SOMPY /tmp/pip-req-build-tmr6hfcp\n",
            "Requirement already satisfied: numpy>=1.7 in /usr/local/lib/python3.6/dist-packages (from SOMPY==1.1) (1.17.5)\n",
            "Requirement already satisfied: scipy>=0.9 in /usr/local/lib/python3.6/dist-packages (from SOMPY==1.1) (1.4.1)\n",
            "Requirement already satisfied: scikit-learn>=0.21 in /usr/local/lib/python3.6/dist-packages (from SOMPY==1.1) (0.22.1)\n",
            "Requirement already satisfied: numexpr>=2.5 in /usr/local/lib/python3.6/dist-packages (from SOMPY==1.1) (2.7.1)\n",
            "Requirement already satisfied: joblib>=0.11 in /usr/local/lib/python3.6/dist-packages (from scikit-learn>=0.21->SOMPY==1.1) (0.14.1)\n",
            "Building wheels for collected packages: SOMPY\n",
            "  Building wheel for SOMPY (setup.py) ... \u001b[?25l\u001b[?25hdone\n",
            "  Created wheel for SOMPY: filename=SOMPY-1.1-cp36-none-any.whl size=28117 sha256=3d240d06a158d95afd049ee7fc71e57e297b75fcb769723b544c0ca0cffdc1f2\n",
            "  Stored in directory: /tmp/pip-ephem-wheel-cache-dzq0la_o/wheels/89/eb/f9/61aa37e7c35ddc5fdaeb57dae54241a1a80bdd472cce3024fa\n",
            "Successfully built SOMPY\n",
            "Installing collected packages: SOMPY\n",
            "  Found existing installation: sompy 0.1.1\n",
            "    Uninstalling sompy-0.1.1:\n",
            "      Successfully uninstalled sompy-0.1.1\n",
            "Successfully installed SOMPY-1.1\n"
          ],
          "name": "stdout"
        }
      ]
    },
    {
      "cell_type": "code",
      "metadata": {
        "id": "g-FtotLZFYI_",
        "colab_type": "code",
        "colab": {}
      },
      "source": [
        "from sompy import SOMFactory"
      ],
      "execution_count": 0,
      "outputs": []
    },
    {
      "cell_type": "code",
      "metadata": {
        "id": "KEEugMkyCCGR",
        "colab_type": "code",
        "colab": {}
      },
      "source": [
        "%matplotlib inline\n",
        "import numpy as np\n",
        "from matplotlib import pyplot as plt\n",
        "from sklearn.datasets import fetch_california_housing"
      ],
      "execution_count": 0,
      "outputs": []
    },
    {
      "cell_type": "code",
      "metadata": {
        "id": "b6ccONNECc9y",
        "colab_type": "code",
        "colab": {}
      },
      "source": [
        "name=['Tech','Economy','Sport','Entertainment','Business']"
      ],
      "execution_count": 0,
      "outputs": []
    },
    {
      "cell_type": "code",
      "metadata": {
        "id": "Az91JIzwCwUj",
        "colab_type": "code",
        "colab": {}
      },
      "source": [
        "#msz = calculate_msz(data)\n",
        "sm = SOMFactory().build(lda_output, normalization = 'var', initialization='random', component_names=name)\n",
        "sm.train(n_job=1, verbose=False, train_rough_len=2, train_finetune_len=5)"
      ],
      "execution_count": 0,
      "outputs": []
    },
    {
      "cell_type": "code",
      "metadata": {
        "id": "Iy7s4DMwFdI7",
        "colab_type": "code",
        "colab": {
          "base_uri": "https://localhost:8080/",
          "height": 34
        },
        "outputId": "912e858a-e1b9-422e-cb40-f45bb64f4bc0"
      },
      "source": [
        "topographic_error = sm.calculate_topographic_error()\n",
        "quantization_error = np.mean(sm._bmu[1])\n",
        "print (\"Topographic error = %s; Quantization error = %s\" % (topographic_error, quantization_error))"
      ],
      "execution_count": 142,
      "outputs": [
        {
          "output_type": "stream",
          "text": [
            "Topographic error = 0.183; Quantization error = 0.1719133920716132\n"
          ],
          "name": "stdout"
        }
      ]
    },
    {
      "cell_type": "code",
      "metadata": {
        "id": "acd6dIFrGIXD",
        "colab_type": "code",
        "colab": {
          "base_uri": "https://localhost:8080/",
          "height": 452
        },
        "outputId": "f5d0ede8-2458-4c35-d0b7-18bc7b2750d0"
      },
      "source": [
        "from sompy.visualization.mapview import View2D\n",
        "view2D  = View2D(10,10,\"rand data\",text_size=10)\n",
        "view2D.show(sm, col_sz=4, which_dim=\"all\", denormalize=True)"
      ],
      "execution_count": 143,
      "outputs": [
        {
          "output_type": "display_data",
          "data": {
            "image/png": "[encoded data removed]",
            "text/plain": [
              "<Figure size 1152x531.692 with 10 Axes>"
            ]
          },
          "metadata": {
            "tags": []
          }
        }
      ]
    },
    {
      "cell_type": "code",
      "metadata": {
        "id": "gS2hLbedGNAR",
        "colab_type": "code",
        "colab": {
          "base_uri": "https://localhost:8080/",
          "height": 594
        },
        "outputId": "73cbf60c-4d01-4127-b751-54e2aa2c6576"
      },
      "source": [
        "from sompy.visualization.bmuhits import BmuHitsView\n",
        "\n",
        "vhts  = BmuHitsView(10,10,\"Hits Map\",text_size=7)\n",
        "vhts.show(sm, anotate=True, onlyzeros=False, labelsize=10, cmap=\"autumn\", logaritmic=False)\n",
        "plt.show()\n",
        "#cmap=\"Greys\""
      ],
      "execution_count": 144,
      "outputs": [
        {
          "output_type": "display_data",
          "data": {
            "image/png": "[encoded data removed]",
            "text/plain": [
              "<Figure size 720x720 with 2 Axes>"
            ]
          },
          "metadata": {
            "tags": []
          }
        }
      ]
    },
    {
      "cell_type": "code",
      "metadata": {
        "id": "ODdf1tFfGSts",
        "colab_type": "code",
        "colab": {
          "base_uri": "https://localhost:8080/",
          "height": 613
        },
        "outputId": "a7cf67a4-d092-4543-ad65-39a0132d1479"
      },
      "source": [
        "from sompy.visualization.hitmap import HitMapView\n",
        "sm.cluster(5)\n",
        "hits  = HitMapView(10,10,\"Clustering\",text_size=7)\n",
        "a=hits.show(sm, labelsize=12)"
      ],
      "execution_count": 145,
      "outputs": [
        {
          "output_type": "stream",
          "text": [
            "/usr/local/lib/python3.6/dist-packages/sompy/visualization/hitmap.py:37: MatplotlibDeprecationWarning: Adding an axes using the same arguments as a previous axes currently reuses the earlier instance.  In a future version, a new instance will always be created and returned.  Meanwhile, this warning can be suppressed, and the future behavior ensured, by passing a unique label to each axes instance.\n",
            "  ax = self._fig.add_subplot(111)\n"
          ],
          "name": "stderr"
        },
        {
          "output_type": "display_data",
          "data": {
            "image/png": "[encoded data removed]",
            "text/plain": [
              "<Figure size 720x720 with 1 Axes>"
            ]
          },
          "metadata": {
            "tags": []
          }
        }
      ]
    },
    {
      "cell_type": "code",
      "metadata": {
        "id": "ZHkGl-YTGWhp",
        "colab_type": "code",
        "colab": {}
      },
      "source": [
        ""
      ],
      "execution_count": 0,
      "outputs": []
    }
  ]
}