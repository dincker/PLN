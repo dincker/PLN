{
 "cells": [
  {
   "cell_type": "code",
   "execution_count": 2,
   "metadata": {},
   "outputs": [],
   "source": [
    "import pandas as pd\n"
   ]
  },
  {
   "cell_type": "markdown",
   "metadata": {},
   "source": [
    "Abrir dataset con las noticias a trabajar"
   ]
  },
  {
   "cell_type": "code",
   "execution_count": 3,
   "metadata": {},
   "outputs": [],
   "source": [
    "npr = pd.read_csv(\"C:\\\\Users\\\\fabia\\\\Desktop\\\\PLN\\\\NewsF.csv\", sep=';')"
   ]
  },
  {
   "cell_type": "code",
   "execution_count": 4,
   "metadata": {},
   "outputs": [
    {
     "data": {
      "text/html": [
       "<div>\n",
       "<style scoped>\n",
       "    .dataframe tbody tr th:only-of-type {\n",
       "        vertical-align: middle;\n",
       "    }\n",
       "\n",
       "    .dataframe tbody tr th {\n",
       "        vertical-align: top;\n",
       "    }\n",
       "\n",
       "    .dataframe thead th {\n",
       "        text-align: right;\n",
       "    }\n",
       "</style>\n",
       "<table border=\"1\" class=\"dataframe\">\n",
       "  <thead>\n",
       "    <tr style=\"text-align: right;\">\n",
       "      <th></th>\n",
       "      <th>Unnamed: 0</th>\n",
       "      <th>Type</th>\n",
       "      <th>News</th>\n",
       "    </tr>\n",
       "  </thead>\n",
       "  <tbody>\n",
       "    <tr>\n",
       "      <th>0</th>\n",
       "      <td>0</td>\n",
       "      <td>Business</td>\n",
       "      <td>Ad sales boost Time Warner profit\\n\\nQuarterly...</td>\n",
       "    </tr>\n",
       "    <tr>\n",
       "      <th>1</th>\n",
       "      <td>1</td>\n",
       "      <td>Business</td>\n",
       "      <td>Dollar gains on Greenspan speech\\n\\nThe dollar...</td>\n",
       "    </tr>\n",
       "    <tr>\n",
       "      <th>2</th>\n",
       "      <td>2</td>\n",
       "      <td>Business</td>\n",
       "      <td>Yukos unit buyer faces loan claim\\n\\nThe owner...</td>\n",
       "    </tr>\n",
       "    <tr>\n",
       "      <th>3</th>\n",
       "      <td>3</td>\n",
       "      <td>Business</td>\n",
       "      <td>High fuel prices hit BA's profits\\n\\nBritish A...</td>\n",
       "    </tr>\n",
       "    <tr>\n",
       "      <th>4</th>\n",
       "      <td>4</td>\n",
       "      <td>Business</td>\n",
       "      <td>Pernod takeover talk lifts Domecq\\n\\nShares in...</td>\n",
       "    </tr>\n",
       "  </tbody>\n",
       "</table>\n",
       "</div>"
      ],
      "text/plain": [
       "   Unnamed: 0      Type                                               News\n",
       "0           0  Business  Ad sales boost Time Warner profit\\n\\nQuarterly...\n",
       "1           1  Business  Dollar gains on Greenspan speech\\n\\nThe dollar...\n",
       "2           2  Business  Yukos unit buyer faces loan claim\\n\\nThe owner...\n",
       "3           3  Business  High fuel prices hit BA's profits\\n\\nBritish A...\n",
       "4           4  Business  Pernod takeover talk lifts Domecq\\n\\nShares in..."
      ]
     },
     "execution_count": 4,
     "metadata": {},
     "output_type": "execute_result"
    }
   ],
   "source": [
    "npr.head()"
   ]
  },
  {
   "cell_type": "markdown",
   "metadata": {},
   "source": [
    "# Aplicacion latenete de Thursay (LDA)"
   ]
  },
  {
   "cell_type": "markdown",
   "metadata": {},
   "source": [
    "Preprocesamiento"
   ]
  },
  {
   "cell_type": "code",
   "execution_count": 5,
   "metadata": {},
   "outputs": [],
   "source": [
    "#Vectorizacion"
   ]
  },
  {
   "cell_type": "code",
   "execution_count": 6,
   "metadata": {},
   "outputs": [],
   "source": [
    "from sklearn.feature_extraction.text import CountVectorizer"
   ]
  },
  {
   "cell_type": "code",
   "execution_count": 7,
   "metadata": {},
   "outputs": [],
   "source": [
    "cv = CountVectorizer(max_df=0.9,min_df=2,stop_words='english')\n",
    "#max_df: Elimina los terminos que se repiten en gran parte de los documentos y se indica la probabilidad de frecuencia de los terminos a eliminar\n",
    "#min_df: Elimina los terminos que aparecen con muy poca frecuencia en los documentos y se indica la frecuenci minima con un numero de apariciones\n",
    "#stop_words: Elimina las palabras innecesarias como los conectores, espacios, etc. Se indica el idioma."
   ]
  },
  {
   "cell_type": "code",
   "execution_count": 8,
   "metadata": {},
   "outputs": [],
   "source": [
    "#Creacion de matris con las modificaciones o transformaciones correspondientes"
   ]
  },
  {
   "cell_type": "code",
   "execution_count": 9,
   "metadata": {},
   "outputs": [],
   "source": [
    "dtm = cv.fit_transform(npr['News'])"
   ]
  },
  {
   "cell_type": "code",
   "execution_count": 10,
   "metadata": {},
   "outputs": [
    {
     "data": {
      "text/plain": [
       "<2225x17473 sparse matrix of type '<class 'numpy.int64'>'\n",
       "\twith 310493 stored elements in Compressed Sparse Row format>"
      ]
     },
     "execution_count": 10,
     "metadata": {},
     "output_type": "execute_result"
    }
   ],
   "source": [
    "dtm"
   ]
  },
  {
   "cell_type": "markdown",
   "metadata": {},
   "source": [
    "Realizar latente"
   ]
  },
  {
   "cell_type": "code",
   "execution_count": 11,
   "metadata": {},
   "outputs": [],
   "source": [
    "from sklearn.decomposition import LatentDirichletAllocation"
   ]
  },
  {
   "cell_type": "code",
   "execution_count": 12,
   "metadata": {},
   "outputs": [],
   "source": [
    "LDA = LatentDirichletAllocation(n_components=5,random_state=42)\n",
    "#n_components: Numero de temas en el documento\n",
    "#random_state: "
   ]
  },
  {
   "cell_type": "markdown",
   "metadata": {},
   "source": [
    "Ajustar LDA respecto a la matriz de giro de documentos"
   ]
  },
  {
   "cell_type": "code",
   "execution_count": 13,
   "metadata": {},
   "outputs": [
    {
     "data": {
      "text/plain": [
       "LatentDirichletAllocation(batch_size=128, doc_topic_prior=None,\n",
       "             evaluate_every=-1, learning_decay=0.7,\n",
       "             learning_method='batch', learning_offset=10.0,\n",
       "             max_doc_update_iter=100, max_iter=10, mean_change_tol=0.001,\n",
       "             n_components=5, n_jobs=None, n_topics=None, perp_tol=0.1,\n",
       "             random_state=42, topic_word_prior=None,\n",
       "             total_samples=1000000.0, verbose=0)"
      ]
     },
     "execution_count": 13,
     "metadata": {},
     "output_type": "execute_result"
    }
   ],
   "source": [
    "LDA.fit(dtm)"
   ]
  },
  {
   "cell_type": "markdown",
   "metadata": {},
   "source": [
    "Captr el vocabulario de palabras"
   ]
  },
  {
   "cell_type": "code",
   "execution_count": 14,
   "metadata": {},
   "outputs": [
    {
     "data": {
      "text/plain": [
       "17473"
      ]
     },
     "execution_count": 14,
     "metadata": {},
     "output_type": "execute_result"
    }
   ],
   "source": [
    "len(cv.get_feature_names())"
   ]
  },
  {
   "cell_type": "code",
   "execution_count": 15,
   "metadata": {},
   "outputs": [
    {
     "data": {
      "text/plain": [
       "list"
      ]
     },
     "execution_count": 15,
     "metadata": {},
     "output_type": "execute_result"
    }
   ],
   "source": [
    "#Lista de palabras de todos los documentos\n",
    "type(cv.get_feature_names())"
   ]
  },
  {
   "cell_type": "code",
   "execution_count": 16,
   "metadata": {},
   "outputs": [
    {
     "data": {
      "text/plain": [
       "'mathieu'"
      ]
     },
     "execution_count": 16,
     "metadata": {},
     "output_type": "execute_result"
    }
   ],
   "source": [
    "#Seleccionar palabras\n",
    "cv.get_feature_names()[10000]"
   ]
  },
  {
   "cell_type": "code",
   "execution_count": 17,
   "metadata": {},
   "outputs": [
    {
     "data": {
      "text/plain": [
       "'fiorina'"
      ]
     },
     "execution_count": 17,
     "metadata": {},
     "output_type": "execute_result"
    }
   ],
   "source": [
    "#Seleccion de palabras aleatorias\n",
    "import random\n",
    "random_word_id = random.randint(0,17473)\n",
    "cv.get_feature_names()[random_word_id]"
   ]
  },
  {
   "cell_type": "markdown",
   "metadata": {},
   "source": [
    "Captar los temas"
   ]
  },
  {
   "cell_type": "code",
   "execution_count": 18,
   "metadata": {},
   "outputs": [
    {
     "data": {
      "text/plain": [
       "5"
      ]
     },
     "execution_count": 18,
     "metadata": {},
     "output_type": "execute_result"
    }
   ],
   "source": [
    "len(LDA.components_)"
   ]
  },
  {
   "cell_type": "code",
   "execution_count": 19,
   "metadata": {},
   "outputs": [
    {
     "data": {
      "text/plain": [
       "numpy.ndarray"
      ]
     },
     "execution_count": 19,
     "metadata": {},
     "output_type": "execute_result"
    }
   ],
   "source": [
    "#Matriz de py que contiene probabilidades para cada palabra\n",
    "type(LDA.components_)"
   ]
  },
  {
   "cell_type": "code",
   "execution_count": 20,
   "metadata": {},
   "outputs": [
    {
     "data": {
      "text/plain": [
       "(5, 17473)"
      ]
     },
     "execution_count": 20,
     "metadata": {},
     "output_type": "execute_result"
    }
   ],
   "source": [
    "#Forma de la matriz\n",
    "LDA.components_.shape"
   ]
  },
  {
   "cell_type": "code",
   "execution_count": 21,
   "metadata": {},
   "outputs": [
    {
     "data": {
      "text/plain": [
       "array([[2.26622616e+00, 3.45874966e+01, 4.11999271e+01, ...,\n",
       "        7.60895727e+00, 2.00828990e-01, 2.19989596e+00],\n",
       "       [2.02700090e+00, 2.76161223e+02, 2.00016493e-01, ...,\n",
       "        2.01501593e-01, 2.00000069e-01, 2.00000240e-01],\n",
       "       [2.00000712e-01, 1.72652911e+01, 2.00000364e-01, ...,\n",
       "        2.34155988e+00, 4.19917067e+00, 2.00000479e-01],\n",
       "       [2.00679049e-01, 1.50195674e+02, 2.00005970e-01, ...,\n",
       "        2.00611652e-01, 2.00000155e-01, 2.00103024e-01],\n",
       "       [2.30609318e+00, 3.26790316e+02, 2.00050024e-01, ...,\n",
       "        4.64736960e+00, 2.00000113e-01, 2.00000294e-01]])"
      ]
     },
     "execution_count": 21,
     "metadata": {},
     "output_type": "execute_result"
    }
   ],
   "source": [
    "#Vista de componentes\n",
    "LDA.components_"
   ]
  },
  {
   "cell_type": "markdown",
   "metadata": {},
   "source": [
    "Diagnosticar el rendimiento del modelo con perplejidad y probabilidad de registro"
   ]
  },
  {
   "cell_type": "code",
   "execution_count": 22,
   "metadata": {},
   "outputs": [
    {
     "data": {
      "text/plain": [
       "-3669456.25617339"
      ]
     },
     "execution_count": 22,
     "metadata": {},
     "output_type": "execute_result"
    }
   ],
   "source": [
    "LDA.score(dtm)"
   ]
  },
  {
   "cell_type": "code",
   "execution_count": 23,
   "metadata": {},
   "outputs": [
    {
     "data": {
      "text/plain": [
       "4069.6829388229417"
      ]
     },
     "execution_count": 23,
     "metadata": {},
     "output_type": "execute_result"
    }
   ],
   "source": [
    "LDA.perplexity(dtm)"
   ]
  },
  {
   "cell_type": "code",
   "execution_count": 24,
   "metadata": {},
   "outputs": [
    {
     "data": {
      "text/plain": [
       "{'batch_size': 128,\n",
       " 'doc_topic_prior': None,\n",
       " 'evaluate_every': -1,\n",
       " 'learning_decay': 0.7,\n",
       " 'learning_method': 'batch',\n",
       " 'learning_offset': 10.0,\n",
       " 'max_doc_update_iter': 100,\n",
       " 'max_iter': 10,\n",
       " 'mean_change_tol': 0.001,\n",
       " 'n_components': 5,\n",
       " 'n_jobs': None,\n",
       " 'n_topics': None,\n",
       " 'perp_tol': 0.1,\n",
       " 'random_state': 42,\n",
       " 'topic_word_prior': None,\n",
       " 'total_samples': 1000000.0,\n",
       " 'verbose': 0}"
      ]
     },
     "execution_count": 24,
     "metadata": {},
     "output_type": "execute_result"
    }
   ],
   "source": [
    "LDA.get_params()"
   ]
  },
  {
   "cell_type": "markdown",
   "metadata": {},
   "source": [
    "GridSearch"
   ]
  },
  {
   "cell_type": "code",
   "execution_count": 29,
   "metadata": {},
   "outputs": [],
   "source": [
    "#DEFINIENDO LOS PARAMETROS DE BUSQUEDA\n",
    "search_params = {'n_components':[5,10,15],'learning_decay':[.5,.7,.9],'n_jobs':[-1]}"
   ]
  },
  {
   "cell_type": "code",
   "execution_count": 30,
   "metadata": {},
   "outputs": [],
   "source": [
    "#INICIANDO EL MODELO\n",
    "ldaa= LatentDirichletAllocation()"
   ]
  },
  {
   "cell_type": "code",
   "execution_count": 31,
   "metadata": {},
   "outputs": [],
   "source": [
    "from sklearn.model_selection import GridSearchCV\n",
    "#INICIANDO LA CLASE GRID SEARCH\n",
    "model = GridSearchCV(ldaa,param_grid=search_params)"
   ]
  },
  {
   "cell_type": "code",
   "execution_count": 32,
   "metadata": {},
   "outputs": [
    {
     "data": {
      "text/plain": [
       "GridSearchCV(cv='warn', error_score='raise-deprecating',\n",
       "       estimator=LatentDirichletAllocation(batch_size=128, doc_topic_prior=None,\n",
       "             evaluate_every=-1, learning_decay=0.7,\n",
       "             learning_method='batch', learning_offset=10.0,\n",
       "             max_doc_update_iter=100, max_iter=10, mean_change_tol=0.001,\n",
       "             n_components=10, n_jobs=None, n_topics=None, perp_tol=0.1,\n",
       "             random_state=None, topic_word_prior=None,\n",
       "             total_samples=1000000.0, verbose=0),\n",
       "       fit_params=None, iid='warn', n_jobs=None,\n",
       "       param_grid={'n_components': [5, 10, 15], 'learning_decay': [0.5, 0.7, 0.9], 'n_jobs': [-1]},\n",
       "       pre_dispatch='2*n_jobs', refit=True, return_train_score='warn',\n",
       "       scoring=None, verbose=0)"
      ]
     },
     "execution_count": 32,
     "metadata": {},
     "output_type": "execute_result"
    }
   ],
   "source": [
    "#HACER UNA BUSQUEDA DE CUADRIC\n",
    "model.fit(dtm)\n"
   ]
  },
  {
   "cell_type": "code",
   "execution_count": 33,
   "metadata": {},
   "outputs": [],
   "source": [
    "#Mejor modelo\n",
    "best_lda_model=model.best_estimator_"
   ]
  },
  {
   "cell_type": "code",
   "execution_count": 34,
   "metadata": {},
   "outputs": [
    {
     "name": "stdout",
     "output_type": "stream",
     "text": [
      "Best Model's Params:  {'learning_decay': 0.9, 'n_components': 5, 'n_jobs': -1}\n"
     ]
    }
   ],
   "source": [
    "#Paramtros modelo\n",
    "print(\"Best Model's Params: \",model.best_params_)"
   ]
  },
  {
   "cell_type": "code",
   "execution_count": 35,
   "metadata": {},
   "outputs": [
    {
     "name": "stdout",
     "output_type": "stream",
     "text": [
      "Mejor puntaje de probabilidad:  -1425321.7161894084\n"
     ]
    }
   ],
   "source": [
    "#REgistro ed puntaje de probabilidad\n",
    "print(\"Mejor puntaje de probabilidad: \",model.best_score_)"
   ]
  },
  {
   "cell_type": "code",
   "execution_count": 36,
   "metadata": {},
   "outputs": [
    {
     "name": "stdout",
     "output_type": "stream",
     "text": [
      "Modelo prerplejidad:  3910.268575329605\n"
     ]
    }
   ],
   "source": [
    "#Perplejidad\n",
    "print(\"Modelo prerplejidad: \", best_lda_model.perplexity(dtm))"
   ]
  },
  {
   "cell_type": "code",
   "execution_count": 37,
   "metadata": {},
   "outputs": [
    {
     "name": "stdout",
     "output_type": "stream",
     "text": [
      "[-1426834.6039571923, -1504948.933489343, -1576466.805601462]\n"
     ]
    }
   ],
   "source": [
    "#for gscore in model.cv_results_:\n",
    "#    print(gscore)\n",
    "lista=[]\n",
    "gscore = model.cv_results_['mean_test_score']\n",
    "params = model.cv_results_['param_learning_decay']\n",
    "for gscore,params in zip(gscore,params): \n",
    "    if params==0.5:\n",
    "        lista.append(gscore)\n",
    "        \n",
    "print(lista)"
   ]
  },
  {
   "cell_type": "code",
   "execution_count": 40,
   "metadata": {},
   "outputs": [
    {
     "data": {
      "image/png": "[encoded data removed]",
      "text/plain": [
       "<Figure size 864x576 with 1 Axes>"
      ]
     },
     "metadata": {
      "needs_background": "light"
     },
     "output_type": "display_data"
    }
   ],
   "source": [
    "import matplotlib.pyplot as plt\n",
    "# Obtenga probabilidades de registro de la salida de búsqueda de cuadrícula\n",
    "n_topics=[5,10,15]\n",
    "#model.cv_results_['mean_test_score'],model.cv_results_['param_learning_decay']\n",
    "gscore = model.cv_results_['mean_test_score']\n",
    "params = model.cv_results_['param_learning_decay']\n",
    "Log_likelyoods_5=[]\n",
    "Log_likelyoods_7=[]\n",
    "Log_likelyoods_9=[]\n",
    "for gscore,params in zip(gscore,params):\n",
    "    if params==0.5:\n",
    "        Log_likelyoods_5.append(round(gscore))\n",
    "    if params==0.7:\n",
    "        Log_likelyoods_7.append(round(gscore))\n",
    "    if params==0.9:\n",
    "        Log_likelyoods_9.append(round(gscore))\n",
    "\n",
    "#Log_likelyoods_5 = [round (mean) for mean,param in zip(means,params) if params==0.5]\n",
    "#Log_likelyoods_7 = [round (mean) for mean,param in zip(means,params) if params==0.7]\n",
    "#Log_likelyoods_9 = [round (mean) for mean,param in zip(means,params) if params==0.9]\n",
    "#Log_likelyoods_5 = [for gscore,param in zip(gscore,params): if params==0.5: round(gscore)]\n",
    "#Log_likelyoods_7 = [round(gscore.mean_validation_score) for gscore in model if gscore.parameters['learning_decay']==0.7]\n",
    "#Log_likelyoods_9 = [round(gscore.mean_validation_score) for gscore in model if gscore.parameters['learning_decay']==0.9]\n",
    "\n",
    "# Show graph\n",
    "plt.figure(figsize=(12, 8))\n",
    "plt.plot(n_topics, Log_likelyoods_5, label='0.5')\n",
    "plt.plot(n_topics, Log_likelyoods_7, label='0.7')\n",
    "plt.plot(n_topics, Log_likelyoods_9, label='0.9')\n",
    "plt.title(\"Choosing Optimal LDA Model\")\n",
    "plt.xlabel(\"Num Topics\")\n",
    "plt.ylabel(\"Log Likelyhood Scores\")\n",
    "plt.legend(title='Learning decay', loc='best')\n",
    "plt.show()\n"
   ]
  },
  {
   "cell_type": "code",
   "execution_count": 41,
   "metadata": {},
   "outputs": [],
   "source": [
    "##Tema dominante por documento"
   ]
  },
  {
   "cell_type": "code",
   "execution_count": 42,
   "metadata": {},
   "outputs": [],
   "source": [
    "#Crear documentos- Matriz de temas\n",
    "lda_output = best_lda_model.transform(dtm)"
   ]
  },
  {
   "cell_type": "code",
   "execution_count": 43,
   "metadata": {},
   "outputs": [
    {
     "data": {
      "text/plain": [
       "LatentDirichletAllocation(batch_size=128, doc_topic_prior=None,\n",
       "             evaluate_every=-1, learning_decay=0.9,\n",
       "             learning_method='batch', learning_offset=10.0,\n",
       "             max_doc_update_iter=100, max_iter=10, mean_change_tol=0.001,\n",
       "             n_components=5, n_jobs=-1, n_topics=None, perp_tol=0.1,\n",
       "             random_state=None, topic_word_prior=None,\n",
       "             total_samples=1000000.0, verbose=0)"
      ]
     },
     "execution_count": 43,
     "metadata": {},
     "output_type": "execute_result"
    }
   ],
   "source": [
    "best_lda_model"
   ]
  },
  {
   "cell_type": "code",
   "execution_count": 44,
   "metadata": {},
   "outputs": [],
   "source": [
    "#Nombre de columnas\n",
    "topicnames = []\n",
    "for i in range(int(best_lda_model.n_components)):\n",
    "    name='Topic'+str(i)\n",
    "    topicnames.append(name)"
   ]
  },
  {
   "cell_type": "code",
   "execution_count": 45,
   "metadata": {},
   "outputs": [],
   "source": [
    "#nombre de indices\n",
    "docnames = []\n",
    "#for i in range(len(cv.get_feature_names())):\n",
    "for i in range(2225):\n",
    "    docnames.append('Doc'+str(i))"
   ]
  },
  {
   "cell_type": "code",
   "execution_count": 48,
   "metadata": {},
   "outputs": [],
   "source": [
    "import numpy as np\n",
    "#Creando un dataframe en pandas\n",
    "df_document_topic=pd.DataFrame(np.round(lda_output,2),columns=topicnames,index=docnames)"
   ]
  },
  {
   "cell_type": "code",
   "execution_count": 49,
   "metadata": {},
   "outputs": [],
   "source": [
    "# Obtener tema dominante para cada documento\n",
    "dominant_topic=np.argmax(df_document_topic.values,axis=1)\n",
    "df_document_topic['dominant_topic']=dominant_topic"
   ]
  },
  {
   "cell_type": "code",
   "execution_count": 50,
   "metadata": {},
   "outputs": [],
   "source": [
    "#Estilando\n",
    "def color_green(val):\n",
    "    color = 'green' if val > .1 else 'black'\n",
    "    return 'color: {col}'.format(col=color)\n",
    "\n",
    "def make_bold(val):\n",
    "    weight = 700 if val > .1 else 400\n",
    "    return 'font-weight: {weight}'.format(weight=weight)"
   ]
  },
  {
   "cell_type": "code",
   "execution_count": 51,
   "metadata": {},
   "outputs": [
    {
     "data": {
      "text/html": [
       "<style  type=\"text/css\" >\n",
       "    #T_ca3d0d9e_4127_11ea_a34d_24b6fd067b28row0_col0 {\n",
       "            color:  black;\n",
       "            font-weight:  400;\n",
       "        }    #T_ca3d0d9e_4127_11ea_a34d_24b6fd067b28row0_col1 {\n",
       "            color:  black;\n",
       "            font-weight:  400;\n",
       "        }    #T_ca3d0d9e_4127_11ea_a34d_24b6fd067b28row0_col2 {\n",
       "            color:  black;\n",
       "            font-weight:  400;\n",
       "        }    #T_ca3d0d9e_4127_11ea_a34d_24b6fd067b28row0_col3 {\n",
       "            color:  green;\n",
       "            font-weight:  700;\n",
       "        }    #T_ca3d0d9e_4127_11ea_a34d_24b6fd067b28row0_col4 {\n",
       "            color:  black;\n",
       "            font-weight:  400;\n",
       "        }    #T_ca3d0d9e_4127_11ea_a34d_24b6fd067b28row0_col5 {\n",
       "            color:  green;\n",
       "            font-weight:  700;\n",
       "        }    #T_ca3d0d9e_4127_11ea_a34d_24b6fd067b28row1_col0 {\n",
       "            color:  black;\n",
       "            font-weight:  400;\n",
       "        }    #T_ca3d0d9e_4127_11ea_a34d_24b6fd067b28row1_col1 {\n",
       "            color:  green;\n",
       "            font-weight:  700;\n",
       "        }    #T_ca3d0d9e_4127_11ea_a34d_24b6fd067b28row1_col2 {\n",
       "            color:  black;\n",
       "            font-weight:  400;\n",
       "        }    #T_ca3d0d9e_4127_11ea_a34d_24b6fd067b28row1_col3 {\n",
       "            color:  green;\n",
       "            font-weight:  700;\n",
       "        }    #T_ca3d0d9e_4127_11ea_a34d_24b6fd067b28row1_col4 {\n",
       "            color:  black;\n",
       "            font-weight:  400;\n",
       "        }    #T_ca3d0d9e_4127_11ea_a34d_24b6fd067b28row1_col5 {\n",
       "            color:  green;\n",
       "            font-weight:  700;\n",
       "        }    #T_ca3d0d9e_4127_11ea_a34d_24b6fd067b28row2_col0 {\n",
       "            color:  black;\n",
       "            font-weight:  400;\n",
       "        }    #T_ca3d0d9e_4127_11ea_a34d_24b6fd067b28row2_col1 {\n",
       "            color:  green;\n",
       "            font-weight:  700;\n",
       "        }    #T_ca3d0d9e_4127_11ea_a34d_24b6fd067b28row2_col2 {\n",
       "            color:  black;\n",
       "            font-weight:  400;\n",
       "        }    #T_ca3d0d9e_4127_11ea_a34d_24b6fd067b28row2_col3 {\n",
       "            color:  green;\n",
       "            font-weight:  700;\n",
       "        }    #T_ca3d0d9e_4127_11ea_a34d_24b6fd067b28row2_col4 {\n",
       "            color:  green;\n",
       "            font-weight:  700;\n",
       "        }    #T_ca3d0d9e_4127_11ea_a34d_24b6fd067b28row2_col5 {\n",
       "            color:  green;\n",
       "            font-weight:  700;\n",
       "        }    #T_ca3d0d9e_4127_11ea_a34d_24b6fd067b28row3_col0 {\n",
       "            color:  black;\n",
       "            font-weight:  400;\n",
       "        }    #T_ca3d0d9e_4127_11ea_a34d_24b6fd067b28row3_col1 {\n",
       "            color:  black;\n",
       "            font-weight:  400;\n",
       "        }    #T_ca3d0d9e_4127_11ea_a34d_24b6fd067b28row3_col2 {\n",
       "            color:  black;\n",
       "            font-weight:  400;\n",
       "        }    #T_ca3d0d9e_4127_11ea_a34d_24b6fd067b28row3_col3 {\n",
       "            color:  green;\n",
       "            font-weight:  700;\n",
       "        }    #T_ca3d0d9e_4127_11ea_a34d_24b6fd067b28row3_col4 {\n",
       "            color:  black;\n",
       "            font-weight:  400;\n",
       "        }    #T_ca3d0d9e_4127_11ea_a34d_24b6fd067b28row3_col5 {\n",
       "            color:  green;\n",
       "            font-weight:  700;\n",
       "        }    #T_ca3d0d9e_4127_11ea_a34d_24b6fd067b28row4_col0 {\n",
       "            color:  green;\n",
       "            font-weight:  700;\n",
       "        }    #T_ca3d0d9e_4127_11ea_a34d_24b6fd067b28row4_col1 {\n",
       "            color:  black;\n",
       "            font-weight:  400;\n",
       "        }    #T_ca3d0d9e_4127_11ea_a34d_24b6fd067b28row4_col2 {\n",
       "            color:  black;\n",
       "            font-weight:  400;\n",
       "        }    #T_ca3d0d9e_4127_11ea_a34d_24b6fd067b28row4_col3 {\n",
       "            color:  green;\n",
       "            font-weight:  700;\n",
       "        }    #T_ca3d0d9e_4127_11ea_a34d_24b6fd067b28row4_col4 {\n",
       "            color:  black;\n",
       "            font-weight:  400;\n",
       "        }    #T_ca3d0d9e_4127_11ea_a34d_24b6fd067b28row4_col5 {\n",
       "            color:  green;\n",
       "            font-weight:  700;\n",
       "        }    #T_ca3d0d9e_4127_11ea_a34d_24b6fd067b28row5_col0 {\n",
       "            color:  black;\n",
       "            font-weight:  400;\n",
       "        }    #T_ca3d0d9e_4127_11ea_a34d_24b6fd067b28row5_col1 {\n",
       "            color:  green;\n",
       "            font-weight:  700;\n",
       "        }    #T_ca3d0d9e_4127_11ea_a34d_24b6fd067b28row5_col2 {\n",
       "            color:  black;\n",
       "            font-weight:  400;\n",
       "        }    #T_ca3d0d9e_4127_11ea_a34d_24b6fd067b28row5_col3 {\n",
       "            color:  green;\n",
       "            font-weight:  700;\n",
       "        }    #T_ca3d0d9e_4127_11ea_a34d_24b6fd067b28row5_col4 {\n",
       "            color:  black;\n",
       "            font-weight:  400;\n",
       "        }    #T_ca3d0d9e_4127_11ea_a34d_24b6fd067b28row5_col5 {\n",
       "            color:  green;\n",
       "            font-weight:  700;\n",
       "        }    #T_ca3d0d9e_4127_11ea_a34d_24b6fd067b28row6_col0 {\n",
       "            color:  black;\n",
       "            font-weight:  400;\n",
       "        }    #T_ca3d0d9e_4127_11ea_a34d_24b6fd067b28row6_col1 {\n",
       "            color:  green;\n",
       "            font-weight:  700;\n",
       "        }    #T_ca3d0d9e_4127_11ea_a34d_24b6fd067b28row6_col2 {\n",
       "            color:  black;\n",
       "            font-weight:  400;\n",
       "        }    #T_ca3d0d9e_4127_11ea_a34d_24b6fd067b28row6_col3 {\n",
       "            color:  green;\n",
       "            font-weight:  700;\n",
       "        }    #T_ca3d0d9e_4127_11ea_a34d_24b6fd067b28row6_col4 {\n",
       "            color:  black;\n",
       "            font-weight:  400;\n",
       "        }    #T_ca3d0d9e_4127_11ea_a34d_24b6fd067b28row6_col5 {\n",
       "            color:  green;\n",
       "            font-weight:  700;\n",
       "        }    #T_ca3d0d9e_4127_11ea_a34d_24b6fd067b28row7_col0 {\n",
       "            color:  black;\n",
       "            font-weight:  400;\n",
       "        }    #T_ca3d0d9e_4127_11ea_a34d_24b6fd067b28row7_col1 {\n",
       "            color:  green;\n",
       "            font-weight:  700;\n",
       "        }    #T_ca3d0d9e_4127_11ea_a34d_24b6fd067b28row7_col2 {\n",
       "            color:  black;\n",
       "            font-weight:  400;\n",
       "        }    #T_ca3d0d9e_4127_11ea_a34d_24b6fd067b28row7_col3 {\n",
       "            color:  green;\n",
       "            font-weight:  700;\n",
       "        }    #T_ca3d0d9e_4127_11ea_a34d_24b6fd067b28row7_col4 {\n",
       "            color:  black;\n",
       "            font-weight:  400;\n",
       "        }    #T_ca3d0d9e_4127_11ea_a34d_24b6fd067b28row7_col5 {\n",
       "            color:  green;\n",
       "            font-weight:  700;\n",
       "        }    #T_ca3d0d9e_4127_11ea_a34d_24b6fd067b28row8_col0 {\n",
       "            color:  black;\n",
       "            font-weight:  400;\n",
       "        }    #T_ca3d0d9e_4127_11ea_a34d_24b6fd067b28row8_col1 {\n",
       "            color:  green;\n",
       "            font-weight:  700;\n",
       "        }    #T_ca3d0d9e_4127_11ea_a34d_24b6fd067b28row8_col2 {\n",
       "            color:  black;\n",
       "            font-weight:  400;\n",
       "        }    #T_ca3d0d9e_4127_11ea_a34d_24b6fd067b28row8_col3 {\n",
       "            color:  green;\n",
       "            font-weight:  700;\n",
       "        }    #T_ca3d0d9e_4127_11ea_a34d_24b6fd067b28row8_col4 {\n",
       "            color:  black;\n",
       "            font-weight:  400;\n",
       "        }    #T_ca3d0d9e_4127_11ea_a34d_24b6fd067b28row8_col5 {\n",
       "            color:  green;\n",
       "            font-weight:  700;\n",
       "        }    #T_ca3d0d9e_4127_11ea_a34d_24b6fd067b28row9_col0 {\n",
       "            color:  black;\n",
       "            font-weight:  400;\n",
       "        }    #T_ca3d0d9e_4127_11ea_a34d_24b6fd067b28row9_col1 {\n",
       "            color:  green;\n",
       "            font-weight:  700;\n",
       "        }    #T_ca3d0d9e_4127_11ea_a34d_24b6fd067b28row9_col2 {\n",
       "            color:  black;\n",
       "            font-weight:  400;\n",
       "        }    #T_ca3d0d9e_4127_11ea_a34d_24b6fd067b28row9_col3 {\n",
       "            color:  green;\n",
       "            font-weight:  700;\n",
       "        }    #T_ca3d0d9e_4127_11ea_a34d_24b6fd067b28row9_col4 {\n",
       "            color:  green;\n",
       "            font-weight:  700;\n",
       "        }    #T_ca3d0d9e_4127_11ea_a34d_24b6fd067b28row9_col5 {\n",
       "            color:  green;\n",
       "            font-weight:  700;\n",
       "        }    #T_ca3d0d9e_4127_11ea_a34d_24b6fd067b28row10_col0 {\n",
       "            color:  black;\n",
       "            font-weight:  400;\n",
       "        }    #T_ca3d0d9e_4127_11ea_a34d_24b6fd067b28row10_col1 {\n",
       "            color:  black;\n",
       "            font-weight:  400;\n",
       "        }    #T_ca3d0d9e_4127_11ea_a34d_24b6fd067b28row10_col2 {\n",
       "            color:  black;\n",
       "            font-weight:  400;\n",
       "        }    #T_ca3d0d9e_4127_11ea_a34d_24b6fd067b28row10_col3 {\n",
       "            color:  green;\n",
       "            font-weight:  700;\n",
       "        }    #T_ca3d0d9e_4127_11ea_a34d_24b6fd067b28row10_col4 {\n",
       "            color:  green;\n",
       "            font-weight:  700;\n",
       "        }    #T_ca3d0d9e_4127_11ea_a34d_24b6fd067b28row10_col5 {\n",
       "            color:  green;\n",
       "            font-weight:  700;\n",
       "        }    #T_ca3d0d9e_4127_11ea_a34d_24b6fd067b28row11_col0 {\n",
       "            color:  black;\n",
       "            font-weight:  400;\n",
       "        }    #T_ca3d0d9e_4127_11ea_a34d_24b6fd067b28row11_col1 {\n",
       "            color:  green;\n",
       "            font-weight:  700;\n",
       "        }    #T_ca3d0d9e_4127_11ea_a34d_24b6fd067b28row11_col2 {\n",
       "            color:  black;\n",
       "            font-weight:  400;\n",
       "        }    #T_ca3d0d9e_4127_11ea_a34d_24b6fd067b28row11_col3 {\n",
       "            color:  green;\n",
       "            font-weight:  700;\n",
       "        }    #T_ca3d0d9e_4127_11ea_a34d_24b6fd067b28row11_col4 {\n",
       "            color:  black;\n",
       "            font-weight:  400;\n",
       "        }    #T_ca3d0d9e_4127_11ea_a34d_24b6fd067b28row11_col5 {\n",
       "            color:  green;\n",
       "            font-weight:  700;\n",
       "        }    #T_ca3d0d9e_4127_11ea_a34d_24b6fd067b28row12_col0 {\n",
       "            color:  black;\n",
       "            font-weight:  400;\n",
       "        }    #T_ca3d0d9e_4127_11ea_a34d_24b6fd067b28row12_col1 {\n",
       "            color:  black;\n",
       "            font-weight:  400;\n",
       "        }    #T_ca3d0d9e_4127_11ea_a34d_24b6fd067b28row12_col2 {\n",
       "            color:  black;\n",
       "            font-weight:  400;\n",
       "        }    #T_ca3d0d9e_4127_11ea_a34d_24b6fd067b28row12_col3 {\n",
       "            color:  green;\n",
       "            font-weight:  700;\n",
       "        }    #T_ca3d0d9e_4127_11ea_a34d_24b6fd067b28row12_col4 {\n",
       "            color:  black;\n",
       "            font-weight:  400;\n",
       "        }    #T_ca3d0d9e_4127_11ea_a34d_24b6fd067b28row12_col5 {\n",
       "            color:  green;\n",
       "            font-weight:  700;\n",
       "        }    #T_ca3d0d9e_4127_11ea_a34d_24b6fd067b28row13_col0 {\n",
       "            color:  black;\n",
       "            font-weight:  400;\n",
       "        }    #T_ca3d0d9e_4127_11ea_a34d_24b6fd067b28row13_col1 {\n",
       "            color:  green;\n",
       "            font-weight:  700;\n",
       "        }    #T_ca3d0d9e_4127_11ea_a34d_24b6fd067b28row13_col2 {\n",
       "            color:  green;\n",
       "            font-weight:  700;\n",
       "        }    #T_ca3d0d9e_4127_11ea_a34d_24b6fd067b28row13_col3 {\n",
       "            color:  green;\n",
       "            font-weight:  700;\n",
       "        }    #T_ca3d0d9e_4127_11ea_a34d_24b6fd067b28row13_col4 {\n",
       "            color:  green;\n",
       "            font-weight:  700;\n",
       "        }    #T_ca3d0d9e_4127_11ea_a34d_24b6fd067b28row13_col5 {\n",
       "            color:  green;\n",
       "            font-weight:  700;\n",
       "        }    #T_ca3d0d9e_4127_11ea_a34d_24b6fd067b28row14_col0 {\n",
       "            color:  black;\n",
       "            font-weight:  400;\n",
       "        }    #T_ca3d0d9e_4127_11ea_a34d_24b6fd067b28row14_col1 {\n",
       "            color:  green;\n",
       "            font-weight:  700;\n",
       "        }    #T_ca3d0d9e_4127_11ea_a34d_24b6fd067b28row14_col2 {\n",
       "            color:  black;\n",
       "            font-weight:  400;\n",
       "        }    #T_ca3d0d9e_4127_11ea_a34d_24b6fd067b28row14_col3 {\n",
       "            color:  green;\n",
       "            font-weight:  700;\n",
       "        }    #T_ca3d0d9e_4127_11ea_a34d_24b6fd067b28row14_col4 {\n",
       "            color:  black;\n",
       "            font-weight:  400;\n",
       "        }    #T_ca3d0d9e_4127_11ea_a34d_24b6fd067b28row14_col5 {\n",
       "            color:  green;\n",
       "            font-weight:  700;\n",
       "        }</style><table id=\"T_ca3d0d9e_4127_11ea_a34d_24b6fd067b28\" ><thead>    <tr>        <th class=\"blank level0\" ></th>        <th class=\"col_heading level0 col0\" >Topic0</th>        <th class=\"col_heading level0 col1\" >Topic1</th>        <th class=\"col_heading level0 col2\" >Topic2</th>        <th class=\"col_heading level0 col3\" >Topic3</th>        <th class=\"col_heading level0 col4\" >Topic4</th>        <th class=\"col_heading level0 col5\" >dominant_topic</th>    </tr></thead><tbody>\n",
       "                <tr>\n",
       "                        <th id=\"T_ca3d0d9e_4127_11ea_a34d_24b6fd067b28level0_row0\" class=\"row_heading level0 row0\" >Doc0</th>\n",
       "                        <td id=\"T_ca3d0d9e_4127_11ea_a34d_24b6fd067b28row0_col0\" class=\"data row0 col0\" >0</td>\n",
       "                        <td id=\"T_ca3d0d9e_4127_11ea_a34d_24b6fd067b28row0_col1\" class=\"data row0 col1\" >0</td>\n",
       "                        <td id=\"T_ca3d0d9e_4127_11ea_a34d_24b6fd067b28row0_col2\" class=\"data row0 col2\" >0</td>\n",
       "                        <td id=\"T_ca3d0d9e_4127_11ea_a34d_24b6fd067b28row0_col3\" class=\"data row0 col3\" >0.9</td>\n",
       "                        <td id=\"T_ca3d0d9e_4127_11ea_a34d_24b6fd067b28row0_col4\" class=\"data row0 col4\" >0.09</td>\n",
       "                        <td id=\"T_ca3d0d9e_4127_11ea_a34d_24b6fd067b28row0_col5\" class=\"data row0 col5\" >3</td>\n",
       "            </tr>\n",
       "            <tr>\n",
       "                        <th id=\"T_ca3d0d9e_4127_11ea_a34d_24b6fd067b28level0_row1\" class=\"row_heading level0 row1\" >Doc1</th>\n",
       "                        <td id=\"T_ca3d0d9e_4127_11ea_a34d_24b6fd067b28row1_col0\" class=\"data row1 col0\" >0</td>\n",
       "                        <td id=\"T_ca3d0d9e_4127_11ea_a34d_24b6fd067b28row1_col1\" class=\"data row1 col1\" >0.69</td>\n",
       "                        <td id=\"T_ca3d0d9e_4127_11ea_a34d_24b6fd067b28row1_col2\" class=\"data row1 col2\" >0</td>\n",
       "                        <td id=\"T_ca3d0d9e_4127_11ea_a34d_24b6fd067b28row1_col3\" class=\"data row1 col3\" >0.31</td>\n",
       "                        <td id=\"T_ca3d0d9e_4127_11ea_a34d_24b6fd067b28row1_col4\" class=\"data row1 col4\" >0</td>\n",
       "                        <td id=\"T_ca3d0d9e_4127_11ea_a34d_24b6fd067b28row1_col5\" class=\"data row1 col5\" >1</td>\n",
       "            </tr>\n",
       "            <tr>\n",
       "                        <th id=\"T_ca3d0d9e_4127_11ea_a34d_24b6fd067b28level0_row2\" class=\"row_heading level0 row2\" >Doc2</th>\n",
       "                        <td id=\"T_ca3d0d9e_4127_11ea_a34d_24b6fd067b28row2_col0\" class=\"data row2 col0\" >0</td>\n",
       "                        <td id=\"T_ca3d0d9e_4127_11ea_a34d_24b6fd067b28row2_col1\" class=\"data row2 col1\" >0.14</td>\n",
       "                        <td id=\"T_ca3d0d9e_4127_11ea_a34d_24b6fd067b28row2_col2\" class=\"data row2 col2\" >0</td>\n",
       "                        <td id=\"T_ca3d0d9e_4127_11ea_a34d_24b6fd067b28row2_col3\" class=\"data row2 col3\" >0.29</td>\n",
       "                        <td id=\"T_ca3d0d9e_4127_11ea_a34d_24b6fd067b28row2_col4\" class=\"data row2 col4\" >0.57</td>\n",
       "                        <td id=\"T_ca3d0d9e_4127_11ea_a34d_24b6fd067b28row2_col5\" class=\"data row2 col5\" >4</td>\n",
       "            </tr>\n",
       "            <tr>\n",
       "                        <th id=\"T_ca3d0d9e_4127_11ea_a34d_24b6fd067b28level0_row3\" class=\"row_heading level0 row3\" >Doc3</th>\n",
       "                        <td id=\"T_ca3d0d9e_4127_11ea_a34d_24b6fd067b28row3_col0\" class=\"data row3 col0\" >0.03</td>\n",
       "                        <td id=\"T_ca3d0d9e_4127_11ea_a34d_24b6fd067b28row3_col1\" class=\"data row3 col1\" >0.02</td>\n",
       "                        <td id=\"T_ca3d0d9e_4127_11ea_a34d_24b6fd067b28row3_col2\" class=\"data row3 col2\" >0</td>\n",
       "                        <td id=\"T_ca3d0d9e_4127_11ea_a34d_24b6fd067b28row3_col3\" class=\"data row3 col3\" >0.95</td>\n",
       "                        <td id=\"T_ca3d0d9e_4127_11ea_a34d_24b6fd067b28row3_col4\" class=\"data row3 col4\" >0</td>\n",
       "                        <td id=\"T_ca3d0d9e_4127_11ea_a34d_24b6fd067b28row3_col5\" class=\"data row3 col5\" >3</td>\n",
       "            </tr>\n",
       "            <tr>\n",
       "                        <th id=\"T_ca3d0d9e_4127_11ea_a34d_24b6fd067b28level0_row4\" class=\"row_heading level0 row4\" >Doc4</th>\n",
       "                        <td id=\"T_ca3d0d9e_4127_11ea_a34d_24b6fd067b28row4_col0\" class=\"data row4 col0\" >0.28</td>\n",
       "                        <td id=\"T_ca3d0d9e_4127_11ea_a34d_24b6fd067b28row4_col1\" class=\"data row4 col1\" >0</td>\n",
       "                        <td id=\"T_ca3d0d9e_4127_11ea_a34d_24b6fd067b28row4_col2\" class=\"data row4 col2\" >0</td>\n",
       "                        <td id=\"T_ca3d0d9e_4127_11ea_a34d_24b6fd067b28row4_col3\" class=\"data row4 col3\" >0.71</td>\n",
       "                        <td id=\"T_ca3d0d9e_4127_11ea_a34d_24b6fd067b28row4_col4\" class=\"data row4 col4\" >0</td>\n",
       "                        <td id=\"T_ca3d0d9e_4127_11ea_a34d_24b6fd067b28row4_col5\" class=\"data row4 col5\" >3</td>\n",
       "            </tr>\n",
       "            <tr>\n",
       "                        <th id=\"T_ca3d0d9e_4127_11ea_a34d_24b6fd067b28level0_row5\" class=\"row_heading level0 row5\" >Doc5</th>\n",
       "                        <td id=\"T_ca3d0d9e_4127_11ea_a34d_24b6fd067b28row5_col0\" class=\"data row5 col0\" >0</td>\n",
       "                        <td id=\"T_ca3d0d9e_4127_11ea_a34d_24b6fd067b28row5_col1\" class=\"data row5 col1\" >0.51</td>\n",
       "                        <td id=\"T_ca3d0d9e_4127_11ea_a34d_24b6fd067b28row5_col2\" class=\"data row5 col2\" >0</td>\n",
       "                        <td id=\"T_ca3d0d9e_4127_11ea_a34d_24b6fd067b28row5_col3\" class=\"data row5 col3\" >0.44</td>\n",
       "                        <td id=\"T_ca3d0d9e_4127_11ea_a34d_24b6fd067b28row5_col4\" class=\"data row5 col4\" >0.05</td>\n",
       "                        <td id=\"T_ca3d0d9e_4127_11ea_a34d_24b6fd067b28row5_col5\" class=\"data row5 col5\" >1</td>\n",
       "            </tr>\n",
       "            <tr>\n",
       "                        <th id=\"T_ca3d0d9e_4127_11ea_a34d_24b6fd067b28level0_row6\" class=\"row_heading level0 row6\" >Doc6</th>\n",
       "                        <td id=\"T_ca3d0d9e_4127_11ea_a34d_24b6fd067b28row6_col0\" class=\"data row6 col0\" >0</td>\n",
       "                        <td id=\"T_ca3d0d9e_4127_11ea_a34d_24b6fd067b28row6_col1\" class=\"data row6 col1\" >0.48</td>\n",
       "                        <td id=\"T_ca3d0d9e_4127_11ea_a34d_24b6fd067b28row6_col2\" class=\"data row6 col2\" >0</td>\n",
       "                        <td id=\"T_ca3d0d9e_4127_11ea_a34d_24b6fd067b28row6_col3\" class=\"data row6 col3\" >0.51</td>\n",
       "                        <td id=\"T_ca3d0d9e_4127_11ea_a34d_24b6fd067b28row6_col4\" class=\"data row6 col4\" >0</td>\n",
       "                        <td id=\"T_ca3d0d9e_4127_11ea_a34d_24b6fd067b28row6_col5\" class=\"data row6 col5\" >3</td>\n",
       "            </tr>\n",
       "            <tr>\n",
       "                        <th id=\"T_ca3d0d9e_4127_11ea_a34d_24b6fd067b28level0_row7\" class=\"row_heading level0 row7\" >Doc7</th>\n",
       "                        <td id=\"T_ca3d0d9e_4127_11ea_a34d_24b6fd067b28row7_col0\" class=\"data row7 col0\" >0</td>\n",
       "                        <td id=\"T_ca3d0d9e_4127_11ea_a34d_24b6fd067b28row7_col1\" class=\"data row7 col1\" >0.76</td>\n",
       "                        <td id=\"T_ca3d0d9e_4127_11ea_a34d_24b6fd067b28row7_col2\" class=\"data row7 col2\" >0</td>\n",
       "                        <td id=\"T_ca3d0d9e_4127_11ea_a34d_24b6fd067b28row7_col3\" class=\"data row7 col3\" >0.23</td>\n",
       "                        <td id=\"T_ca3d0d9e_4127_11ea_a34d_24b6fd067b28row7_col4\" class=\"data row7 col4\" >0</td>\n",
       "                        <td id=\"T_ca3d0d9e_4127_11ea_a34d_24b6fd067b28row7_col5\" class=\"data row7 col5\" >1</td>\n",
       "            </tr>\n",
       "            <tr>\n",
       "                        <th id=\"T_ca3d0d9e_4127_11ea_a34d_24b6fd067b28level0_row8\" class=\"row_heading level0 row8\" >Doc8</th>\n",
       "                        <td id=\"T_ca3d0d9e_4127_11ea_a34d_24b6fd067b28row8_col0\" class=\"data row8 col0\" >0</td>\n",
       "                        <td id=\"T_ca3d0d9e_4127_11ea_a34d_24b6fd067b28row8_col1\" class=\"data row8 col1\" >0.38</td>\n",
       "                        <td id=\"T_ca3d0d9e_4127_11ea_a34d_24b6fd067b28row8_col2\" class=\"data row8 col2\" >0</td>\n",
       "                        <td id=\"T_ca3d0d9e_4127_11ea_a34d_24b6fd067b28row8_col3\" class=\"data row8 col3\" >0.62</td>\n",
       "                        <td id=\"T_ca3d0d9e_4127_11ea_a34d_24b6fd067b28row8_col4\" class=\"data row8 col4\" >0</td>\n",
       "                        <td id=\"T_ca3d0d9e_4127_11ea_a34d_24b6fd067b28row8_col5\" class=\"data row8 col5\" >3</td>\n",
       "            </tr>\n",
       "            <tr>\n",
       "                        <th id=\"T_ca3d0d9e_4127_11ea_a34d_24b6fd067b28level0_row9\" class=\"row_heading level0 row9\" >Doc9</th>\n",
       "                        <td id=\"T_ca3d0d9e_4127_11ea_a34d_24b6fd067b28row9_col0\" class=\"data row9 col0\" >0</td>\n",
       "                        <td id=\"T_ca3d0d9e_4127_11ea_a34d_24b6fd067b28row9_col1\" class=\"data row9 col1\" >0.32</td>\n",
       "                        <td id=\"T_ca3d0d9e_4127_11ea_a34d_24b6fd067b28row9_col2\" class=\"data row9 col2\" >0</td>\n",
       "                        <td id=\"T_ca3d0d9e_4127_11ea_a34d_24b6fd067b28row9_col3\" class=\"data row9 col3\" >0.23</td>\n",
       "                        <td id=\"T_ca3d0d9e_4127_11ea_a34d_24b6fd067b28row9_col4\" class=\"data row9 col4\" >0.45</td>\n",
       "                        <td id=\"T_ca3d0d9e_4127_11ea_a34d_24b6fd067b28row9_col5\" class=\"data row9 col5\" >4</td>\n",
       "            </tr>\n",
       "            <tr>\n",
       "                        <th id=\"T_ca3d0d9e_4127_11ea_a34d_24b6fd067b28level0_row10\" class=\"row_heading level0 row10\" >Doc10</th>\n",
       "                        <td id=\"T_ca3d0d9e_4127_11ea_a34d_24b6fd067b28row10_col0\" class=\"data row10 col0\" >0</td>\n",
       "                        <td id=\"T_ca3d0d9e_4127_11ea_a34d_24b6fd067b28row10_col1\" class=\"data row10 col1\" >0</td>\n",
       "                        <td id=\"T_ca3d0d9e_4127_11ea_a34d_24b6fd067b28row10_col2\" class=\"data row10 col2\" >0</td>\n",
       "                        <td id=\"T_ca3d0d9e_4127_11ea_a34d_24b6fd067b28row10_col3\" class=\"data row10 col3\" >0.65</td>\n",
       "                        <td id=\"T_ca3d0d9e_4127_11ea_a34d_24b6fd067b28row10_col4\" class=\"data row10 col4\" >0.34</td>\n",
       "                        <td id=\"T_ca3d0d9e_4127_11ea_a34d_24b6fd067b28row10_col5\" class=\"data row10 col5\" >3</td>\n",
       "            </tr>\n",
       "            <tr>\n",
       "                        <th id=\"T_ca3d0d9e_4127_11ea_a34d_24b6fd067b28level0_row11\" class=\"row_heading level0 row11\" >Doc11</th>\n",
       "                        <td id=\"T_ca3d0d9e_4127_11ea_a34d_24b6fd067b28row11_col0\" class=\"data row11 col0\" >0</td>\n",
       "                        <td id=\"T_ca3d0d9e_4127_11ea_a34d_24b6fd067b28row11_col1\" class=\"data row11 col1\" >0.61</td>\n",
       "                        <td id=\"T_ca3d0d9e_4127_11ea_a34d_24b6fd067b28row11_col2\" class=\"data row11 col2\" >0</td>\n",
       "                        <td id=\"T_ca3d0d9e_4127_11ea_a34d_24b6fd067b28row11_col3\" class=\"data row11 col3\" >0.39</td>\n",
       "                        <td id=\"T_ca3d0d9e_4127_11ea_a34d_24b6fd067b28row11_col4\" class=\"data row11 col4\" >0</td>\n",
       "                        <td id=\"T_ca3d0d9e_4127_11ea_a34d_24b6fd067b28row11_col5\" class=\"data row11 col5\" >1</td>\n",
       "            </tr>\n",
       "            <tr>\n",
       "                        <th id=\"T_ca3d0d9e_4127_11ea_a34d_24b6fd067b28level0_row12\" class=\"row_heading level0 row12\" >Doc12</th>\n",
       "                        <td id=\"T_ca3d0d9e_4127_11ea_a34d_24b6fd067b28row12_col0\" class=\"data row12 col0\" >0</td>\n",
       "                        <td id=\"T_ca3d0d9e_4127_11ea_a34d_24b6fd067b28row12_col1\" class=\"data row12 col1\" >0</td>\n",
       "                        <td id=\"T_ca3d0d9e_4127_11ea_a34d_24b6fd067b28row12_col2\" class=\"data row12 col2\" >0</td>\n",
       "                        <td id=\"T_ca3d0d9e_4127_11ea_a34d_24b6fd067b28row12_col3\" class=\"data row12 col3\" >1</td>\n",
       "                        <td id=\"T_ca3d0d9e_4127_11ea_a34d_24b6fd067b28row12_col4\" class=\"data row12 col4\" >0</td>\n",
       "                        <td id=\"T_ca3d0d9e_4127_11ea_a34d_24b6fd067b28row12_col5\" class=\"data row12 col5\" >3</td>\n",
       "            </tr>\n",
       "            <tr>\n",
       "                        <th id=\"T_ca3d0d9e_4127_11ea_a34d_24b6fd067b28level0_row13\" class=\"row_heading level0 row13\" >Doc13</th>\n",
       "                        <td id=\"T_ca3d0d9e_4127_11ea_a34d_24b6fd067b28row13_col0\" class=\"data row13 col0\" >0</td>\n",
       "                        <td id=\"T_ca3d0d9e_4127_11ea_a34d_24b6fd067b28row13_col1\" class=\"data row13 col1\" >0.22</td>\n",
       "                        <td id=\"T_ca3d0d9e_4127_11ea_a34d_24b6fd067b28row13_col2\" class=\"data row13 col2\" >0.26</td>\n",
       "                        <td id=\"T_ca3d0d9e_4127_11ea_a34d_24b6fd067b28row13_col3\" class=\"data row13 col3\" >0.36</td>\n",
       "                        <td id=\"T_ca3d0d9e_4127_11ea_a34d_24b6fd067b28row13_col4\" class=\"data row13 col4\" >0.16</td>\n",
       "                        <td id=\"T_ca3d0d9e_4127_11ea_a34d_24b6fd067b28row13_col5\" class=\"data row13 col5\" >3</td>\n",
       "            </tr>\n",
       "            <tr>\n",
       "                        <th id=\"T_ca3d0d9e_4127_11ea_a34d_24b6fd067b28level0_row14\" class=\"row_heading level0 row14\" >Doc14</th>\n",
       "                        <td id=\"T_ca3d0d9e_4127_11ea_a34d_24b6fd067b28row14_col0\" class=\"data row14 col0\" >0</td>\n",
       "                        <td id=\"T_ca3d0d9e_4127_11ea_a34d_24b6fd067b28row14_col1\" class=\"data row14 col1\" >0.38</td>\n",
       "                        <td id=\"T_ca3d0d9e_4127_11ea_a34d_24b6fd067b28row14_col2\" class=\"data row14 col2\" >0.06</td>\n",
       "                        <td id=\"T_ca3d0d9e_4127_11ea_a34d_24b6fd067b28row14_col3\" class=\"data row14 col3\" >0.51</td>\n",
       "                        <td id=\"T_ca3d0d9e_4127_11ea_a34d_24b6fd067b28row14_col4\" class=\"data row14 col4\" >0.05</td>\n",
       "                        <td id=\"T_ca3d0d9e_4127_11ea_a34d_24b6fd067b28row14_col5\" class=\"data row14 col5\" >3</td>\n",
       "            </tr>\n",
       "    </tbody></table>"
      ],
      "text/plain": [
       "<pandas.io.formats.style.Styler at 0x201a876b6d8>"
      ]
     },
     "execution_count": 51,
     "metadata": {},
     "output_type": "execute_result"
    }
   ],
   "source": [
    "#Aplicando estilo\n",
    "df_document_topic=df_document_topic.head(15).style.applymap(color_green).applymap(make_bold)\n",
    "df_document_topic"
   ]
  },
  {
   "cell_type": "code",
   "execution_count": 52,
   "metadata": {},
   "outputs": [],
   "source": [
    "#Distribucion de temas entre documentos"
   ]
  },
  {
   "cell_type": "code",
   "execution_count": 53,
   "metadata": {},
   "outputs": [
    {
     "ename": "TypeError",
     "evalue": "'Styler' object is not subscriptable",
     "output_type": "error",
     "traceback": [
      "\u001b[1;31m---------------------------------------------------------------------------\u001b[0m",
      "\u001b[1;31mTypeError\u001b[0m                                 Traceback (most recent call last)",
      "\u001b[1;32m<ipython-input-53-f33200c076ea>\u001b[0m in \u001b[0;36m<module>\u001b[1;34m\u001b[0m\n\u001b[1;32m----> 1\u001b[1;33m \u001b[0mdf_topic_distribution\u001b[0m \u001b[1;33m=\u001b[0m \u001b[0mdf_document_topic\u001b[0m\u001b[1;33m[\u001b[0m\u001b[1;34m'dominant_topic'\u001b[0m\u001b[1;33m]\u001b[0m\u001b[1;33m.\u001b[0m\u001b[0mvalue_counts\u001b[0m\u001b[1;33m(\u001b[0m\u001b[1;33m)\u001b[0m\u001b[1;33m.\u001b[0m\u001b[0mreset_index\u001b[0m\u001b[1;33m(\u001b[0m\u001b[0mname\u001b[0m\u001b[1;33m=\u001b[0m\u001b[1;34m\"Num Documents\"\u001b[0m\u001b[1;33m)\u001b[0m\u001b[1;33m\u001b[0m\u001b[1;33m\u001b[0m\u001b[0m\n\u001b[0m\u001b[0;32m      2\u001b[0m \u001b[0mdf_topic_distribution\u001b[0m\u001b[1;33m.\u001b[0m\u001b[0mcolumns\u001b[0m \u001b[1;33m=\u001b[0m \u001b[1;33m[\u001b[0m\u001b[1;34m'Topic Num'\u001b[0m\u001b[1;33m,\u001b[0m \u001b[1;34m'Num Documents'\u001b[0m\u001b[1;33m]\u001b[0m\u001b[1;33m\u001b[0m\u001b[1;33m\u001b[0m\u001b[0m\n\u001b[0;32m      3\u001b[0m \u001b[0mdf_topic_distribution\u001b[0m\u001b[1;33m\u001b[0m\u001b[1;33m\u001b[0m\u001b[0m\n",
      "\u001b[1;31mTypeError\u001b[0m: 'Styler' object is not subscriptable"
     ]
    }
   ],
   "source": [
    "df_topic_distribution = df_document_topic['dominant_topic'].value_counts().reset_index(name=\"Num Documents\")\n",
    "df_topic_distribution.columns = ['Topic Num', 'Num Documents']\n",
    "df_topic_distribution"
   ]
  },
  {
   "cell_type": "code",
   "execution_count": 54,
   "metadata": {},
   "outputs": [
    {
     "ename": "ModuleNotFoundError",
     "evalue": "No module named 'pyLDAvis'",
     "output_type": "error",
     "traceback": [
      "\u001b[1;31m---------------------------------------------------------------------------\u001b[0m",
      "\u001b[1;31mModuleNotFoundError\u001b[0m                       Traceback (most recent call last)",
      "\u001b[1;32m<ipython-input-54-240010b0364f>\u001b[0m in \u001b[0;36m<module>\u001b[1;34m\u001b[0m\n\u001b[0;32m      1\u001b[0m \u001b[1;31m#Visualizacion pyLDAVIS\u001b[0m\u001b[1;33m\u001b[0m\u001b[1;33m\u001b[0m\u001b[1;33m\u001b[0m\u001b[0m\n\u001b[0;32m      2\u001b[0m \u001b[1;31m# Plotting tools\u001b[0m\u001b[1;33m\u001b[0m\u001b[1;33m\u001b[0m\u001b[1;33m\u001b[0m\u001b[0m\n\u001b[1;32m----> 3\u001b[1;33m \u001b[1;32mimport\u001b[0m \u001b[0mpyLDAvis\u001b[0m\u001b[1;33m\u001b[0m\u001b[1;33m\u001b[0m\u001b[0m\n\u001b[0m\u001b[0;32m      4\u001b[0m \u001b[1;32mimport\u001b[0m \u001b[0mpyLDAvis\u001b[0m\u001b[1;33m.\u001b[0m\u001b[0msklearn\u001b[0m\u001b[1;33m\u001b[0m\u001b[1;33m\u001b[0m\u001b[0m\n\u001b[0;32m      5\u001b[0m \u001b[1;32mimport\u001b[0m \u001b[0mmatplotlib\u001b[0m\u001b[1;33m.\u001b[0m\u001b[0mpyplot\u001b[0m \u001b[1;32mas\u001b[0m \u001b[0mplt\u001b[0m\u001b[1;33m\u001b[0m\u001b[1;33m\u001b[0m\u001b[0m\n",
      "\u001b[1;31mModuleNotFoundError\u001b[0m: No module named 'pyLDAvis'"
     ]
    }
   ],
   "source": [
    "#Visualizacion pyLDAVIS\n",
    "# Plotting tools\n",
    "import pyLDAvis\n",
    "import pyLDAvis.sklearn\n",
    "import matplotlib.pyplot as plt"
   ]
  },
  {
   "cell_type": "code",
   "execution_count": 87,
   "metadata": {},
   "outputs": [
    {
     "data": {
      "text/html": [
       "<div>\n",
       "<style scoped>\n",
       "    .dataframe tbody tr th:only-of-type {\n",
       "        vertical-align: middle;\n",
       "    }\n",
       "\n",
       "    .dataframe tbody tr th {\n",
       "        vertical-align: top;\n",
       "    }\n",
       "\n",
       "    .dataframe thead th {\n",
       "        text-align: right;\n",
       "    }\n",
       "</style>\n",
       "<table border=\"1\" class=\"dataframe\">\n",
       "  <thead>\n",
       "    <tr style=\"text-align: right;\">\n",
       "      <th></th>\n",
       "      <th>00</th>\n",
       "      <th>000</th>\n",
       "      <th>000m</th>\n",
       "      <th>000th</th>\n",
       "      <th>007</th>\n",
       "      <th>01</th>\n",
       "      <th>0100</th>\n",
       "      <th>011</th>\n",
       "      <th>0130</th>\n",
       "      <th>02</th>\n",
       "      <th>...</th>\n",
       "      <th>zola</th>\n",
       "      <th>zombie</th>\n",
       "      <th>zombies</th>\n",
       "      <th>zone</th>\n",
       "      <th>zones</th>\n",
       "      <th>zoom</th>\n",
       "      <th>zooms</th>\n",
       "      <th>zurich</th>\n",
       "      <th>zvonareva</th>\n",
       "      <th>zvyagintsev</th>\n",
       "    </tr>\n",
       "  </thead>\n",
       "  <tbody>\n",
       "    <tr>\n",
       "      <th>Topic0</th>\n",
       "      <td>0.285951</td>\n",
       "      <td>19.931993</td>\n",
       "      <td>0.305484</td>\n",
       "      <td>0.200116</td>\n",
       "      <td>0.202285</td>\n",
       "      <td>0.207768</td>\n",
       "      <td>0.201347</td>\n",
       "      <td>0.200000</td>\n",
       "      <td>0.200010</td>\n",
       "      <td>0.252381</td>\n",
       "      <td>...</td>\n",
       "      <td>3.134788</td>\n",
       "      <td>5.120490</td>\n",
       "      <td>0.212882</td>\n",
       "      <td>6.865694</td>\n",
       "      <td>0.206722</td>\n",
       "      <td>0.200000</td>\n",
       "      <td>0.366897</td>\n",
       "      <td>9.130289</td>\n",
       "      <td>0.223056</td>\n",
       "      <td>0.200000</td>\n",
       "    </tr>\n",
       "    <tr>\n",
       "      <th>Topic1</th>\n",
       "      <td>1.878621</td>\n",
       "      <td>232.869193</td>\n",
       "      <td>6.681289</td>\n",
       "      <td>0.200000</td>\n",
       "      <td>0.200000</td>\n",
       "      <td>3.292713</td>\n",
       "      <td>0.200000</td>\n",
       "      <td>0.374142</td>\n",
       "      <td>0.200000</td>\n",
       "      <td>2.145200</td>\n",
       "      <td>...</td>\n",
       "      <td>0.200001</td>\n",
       "      <td>0.202592</td>\n",
       "      <td>0.200000</td>\n",
       "      <td>9.227519</td>\n",
       "      <td>0.204367</td>\n",
       "      <td>0.200065</td>\n",
       "      <td>0.200001</td>\n",
       "      <td>0.201850</td>\n",
       "      <td>0.200000</td>\n",
       "      <td>0.200000</td>\n",
       "    </tr>\n",
       "    <tr>\n",
       "      <th>Topic2</th>\n",
       "      <td>0.203906</td>\n",
       "      <td>80.864149</td>\n",
       "      <td>0.201781</td>\n",
       "      <td>0.205082</td>\n",
       "      <td>0.234274</td>\n",
       "      <td>0.201549</td>\n",
       "      <td>2.197704</td>\n",
       "      <td>0.200000</td>\n",
       "      <td>2.199758</td>\n",
       "      <td>0.200001</td>\n",
       "      <td>...</td>\n",
       "      <td>0.229500</td>\n",
       "      <td>1.200036</td>\n",
       "      <td>0.200028</td>\n",
       "      <td>1.164489</td>\n",
       "      <td>0.200281</td>\n",
       "      <td>0.200000</td>\n",
       "      <td>0.200001</td>\n",
       "      <td>0.203852</td>\n",
       "      <td>0.200686</td>\n",
       "      <td>2.199999</td>\n",
       "    </tr>\n",
       "    <tr>\n",
       "      <th>Topic3</th>\n",
       "      <td>4.426732</td>\n",
       "      <td>337.762933</td>\n",
       "      <td>34.611444</td>\n",
       "      <td>5.194504</td>\n",
       "      <td>5.160990</td>\n",
       "      <td>4.096250</td>\n",
       "      <td>0.200152</td>\n",
       "      <td>2.025856</td>\n",
       "      <td>0.200152</td>\n",
       "      <td>0.202417</td>\n",
       "      <td>...</td>\n",
       "      <td>0.235710</td>\n",
       "      <td>0.214165</td>\n",
       "      <td>1.663134</td>\n",
       "      <td>2.377541</td>\n",
       "      <td>5.178821</td>\n",
       "      <td>0.200000</td>\n",
       "      <td>0.213024</td>\n",
       "      <td>5.081972</td>\n",
       "      <td>0.200001</td>\n",
       "      <td>0.200000</td>\n",
       "    </tr>\n",
       "    <tr>\n",
       "      <th>Topic4</th>\n",
       "      <td>0.204790</td>\n",
       "      <td>133.571732</td>\n",
       "      <td>0.200001</td>\n",
       "      <td>0.200297</td>\n",
       "      <td>0.202451</td>\n",
       "      <td>0.201720</td>\n",
       "      <td>0.200796</td>\n",
       "      <td>0.200000</td>\n",
       "      <td>0.200080</td>\n",
       "      <td>0.200001</td>\n",
       "      <td>...</td>\n",
       "      <td>0.200001</td>\n",
       "      <td>0.262717</td>\n",
       "      <td>6.723956</td>\n",
       "      <td>1.364758</td>\n",
       "      <td>0.209809</td>\n",
       "      <td>3.199935</td>\n",
       "      <td>2.020078</td>\n",
       "      <td>0.382037</td>\n",
       "      <td>4.176257</td>\n",
       "      <td>0.200000</td>\n",
       "    </tr>\n",
       "  </tbody>\n",
       "</table>\n",
       "<p>5 rows × 17473 columns</p>\n",
       "</div>"
      ],
      "text/plain": [
       "              00         000       000m     000th       007        01  \\\n",
       "Topic0  0.285951   19.931993   0.305484  0.200116  0.202285  0.207768   \n",
       "Topic1  1.878621  232.869193   6.681289  0.200000  0.200000  3.292713   \n",
       "Topic2  0.203906   80.864149   0.201781  0.205082  0.234274  0.201549   \n",
       "Topic3  4.426732  337.762933  34.611444  5.194504  5.160990  4.096250   \n",
       "Topic4  0.204790  133.571732   0.200001  0.200297  0.202451  0.201720   \n",
       "\n",
       "            0100       011      0130        02  ...      zola    zombie  \\\n",
       "Topic0  0.201347  0.200000  0.200010  0.252381  ...  3.134788  5.120490   \n",
       "Topic1  0.200000  0.374142  0.200000  2.145200  ...  0.200001  0.202592   \n",
       "Topic2  2.197704  0.200000  2.199758  0.200001  ...  0.229500  1.200036   \n",
       "Topic3  0.200152  2.025856  0.200152  0.202417  ...  0.235710  0.214165   \n",
       "Topic4  0.200796  0.200000  0.200080  0.200001  ...  0.200001  0.262717   \n",
       "\n",
       "         zombies      zone     zones      zoom     zooms    zurich  zvonareva  \\\n",
       "Topic0  0.212882  6.865694  0.206722  0.200000  0.366897  9.130289   0.223056   \n",
       "Topic1  0.200000  9.227519  0.204367  0.200065  0.200001  0.201850   0.200000   \n",
       "Topic2  0.200028  1.164489  0.200281  0.200000  0.200001  0.203852   0.200686   \n",
       "Topic3  1.663134  2.377541  5.178821  0.200000  0.213024  5.081972   0.200001   \n",
       "Topic4  6.723956  1.364758  0.209809  3.199935  2.020078  0.382037   4.176257   \n",
       "\n",
       "        zvyagintsev  \n",
       "Topic0     0.200000  \n",
       "Topic1     0.200000  \n",
       "Topic2     2.199999  \n",
       "Topic3     0.200000  \n",
       "Topic4     0.200000  \n",
       "\n",
       "[5 rows x 17473 columns]"
      ]
     },
     "execution_count": 87,
     "metadata": {},
     "output_type": "execute_result"
    }
   ],
   "source": [
    "# Topic-Keyword Matrix\n",
    "df_topic_keywords = pd.DataFrame(best_lda_model.components_)\n",
    "\n",
    "# Assign Column and Index\n",
    "df_topic_keywords.columns = cv.get_feature_names()\n",
    "df_topic_keywords.index = topicnames\n",
    "\n",
    "# View\n",
    "df_topic_keywords.head()"
   ]
  },
  {
   "cell_type": "code",
   "execution_count": 88,
   "metadata": {},
   "outputs": [
    {
     "data": {
      "text/html": [
       "<div>\n",
       "<style scoped>\n",
       "    .dataframe tbody tr th:only-of-type {\n",
       "        vertical-align: middle;\n",
       "    }\n",
       "\n",
       "    .dataframe tbody tr th {\n",
       "        vertical-align: top;\n",
       "    }\n",
       "\n",
       "    .dataframe thead th {\n",
       "        text-align: right;\n",
       "    }\n",
       "</style>\n",
       "<table border=\"1\" class=\"dataframe\">\n",
       "  <thead>\n",
       "    <tr style=\"text-align: right;\">\n",
       "      <th></th>\n",
       "      <th>Word 0</th>\n",
       "      <th>Word 1</th>\n",
       "      <th>Word 2</th>\n",
       "      <th>Word 3</th>\n",
       "      <th>Word 4</th>\n",
       "      <th>Word 5</th>\n",
       "      <th>Word 6</th>\n",
       "      <th>Word 7</th>\n",
       "      <th>Word 8</th>\n",
       "      <th>Word 9</th>\n",
       "      <th>Word 10</th>\n",
       "      <th>Word 11</th>\n",
       "      <th>Word 12</th>\n",
       "      <th>Word 13</th>\n",
       "      <th>Word 14</th>\n",
       "    </tr>\n",
       "  </thead>\n",
       "  <tbody>\n",
       "    <tr>\n",
       "      <th>Topic 0</th>\n",
       "      <td>said</td>\n",
       "      <td>game</td>\n",
       "      <td>time</td>\n",
       "      <td>england</td>\n",
       "      <td>win</td>\n",
       "      <td>year</td>\n",
       "      <td>world</td>\n",
       "      <td>play</td>\n",
       "      <td>players</td>\n",
       "      <td>club</td>\n",
       "      <td>just</td>\n",
       "      <td>team</td>\n",
       "      <td>half</td>\n",
       "      <td>second</td>\n",
       "      <td>wales</td>\n",
       "    </tr>\n",
       "    <tr>\n",
       "      <th>Topic 1</th>\n",
       "      <td>said</td>\n",
       "      <td>mr</td>\n",
       "      <td>government</td>\n",
       "      <td>labour</td>\n",
       "      <td>people</td>\n",
       "      <td>election</td>\n",
       "      <td>party</td>\n",
       "      <td>blair</td>\n",
       "      <td>minister</td>\n",
       "      <td>new</td>\n",
       "      <td>tax</td>\n",
       "      <td>brown</td>\n",
       "      <td>told</td>\n",
       "      <td>public</td>\n",
       "      <td>uk</td>\n",
       "    </tr>\n",
       "    <tr>\n",
       "      <th>Topic 2</th>\n",
       "      <td>said</td>\n",
       "      <td>film</td>\n",
       "      <td>best</td>\n",
       "      <td>mr</td>\n",
       "      <td>year</td>\n",
       "      <td>music</td>\n",
       "      <td>awards</td>\n",
       "      <td>won</td>\n",
       "      <td>award</td>\n",
       "      <td>years</td>\n",
       "      <td>new</td>\n",
       "      <td>star</td>\n",
       "      <td>bbc</td>\n",
       "      <td>director</td>\n",
       "      <td>british</td>\n",
       "    </tr>\n",
       "    <tr>\n",
       "      <th>Topic 3</th>\n",
       "      <td>said</td>\n",
       "      <td>year</td>\n",
       "      <td>new</td>\n",
       "      <td>market</td>\n",
       "      <td>sales</td>\n",
       "      <td>company</td>\n",
       "      <td>2004</td>\n",
       "      <td>uk</td>\n",
       "      <td>firm</td>\n",
       "      <td>000</td>\n",
       "      <td>shares</td>\n",
       "      <td>oil</td>\n",
       "      <td>number</td>\n",
       "      <td>prices</td>\n",
       "      <td>china</td>\n",
       "    </tr>\n",
       "    <tr>\n",
       "      <th>Topic 4</th>\n",
       "      <td>said</td>\n",
       "      <td>people</td>\n",
       "      <td>mobile</td>\n",
       "      <td>technology</td>\n",
       "      <td>music</td>\n",
       "      <td>mr</td>\n",
       "      <td>use</td>\n",
       "      <td>users</td>\n",
       "      <td>digital</td>\n",
       "      <td>new</td>\n",
       "      <td>software</td>\n",
       "      <td>net</td>\n",
       "      <td>phone</td>\n",
       "      <td>games</td>\n",
       "      <td>like</td>\n",
       "    </tr>\n",
       "  </tbody>\n",
       "</table>\n",
       "</div>"
      ],
      "text/plain": [
       "        Word 0  Word 1      Word 2      Word 3  Word 4    Word 5  Word 6  \\\n",
       "Topic 0   said    game        time     england     win      year   world   \n",
       "Topic 1   said      mr  government      labour  people  election   party   \n",
       "Topic 2   said    film        best          mr    year     music  awards   \n",
       "Topic 3   said    year         new      market   sales   company    2004   \n",
       "Topic 4   said  people      mobile  technology   music        mr     use   \n",
       "\n",
       "        Word 7    Word 8 Word 9   Word 10 Word 11 Word 12   Word 13  Word 14  \n",
       "Topic 0   play   players   club      just    team    half    second    wales  \n",
       "Topic 1  blair  minister    new       tax   brown    told    public       uk  \n",
       "Topic 2    won     award  years       new    star     bbc  director  british  \n",
       "Topic 3     uk      firm    000    shares     oil  number    prices    china  \n",
       "Topic 4  users   digital    new  software     net   phone     games     like  "
      ]
     },
     "execution_count": 88,
     "metadata": {},
     "output_type": "execute_result"
    }
   ],
   "source": [
    "# Show top n keywords for each topic\n",
    "def show_topics(cv=cv, lda_model=lda_model, n_words=20):\n",
    "    keywords = np.array(cv.get_feature_names())\n",
    "    topic_keywords = []\n",
    "    for topic_weights in lda_model.components_:\n",
    "        top_keyword_locs = (-topic_weights).argsort()[:n_words]\n",
    "        topic_keywords.append(keywords.take(top_keyword_locs))\n",
    "    return topic_keywords\n",
    "\n",
    "topic_keywords = show_topics(cv=cv, lda_model=best_lda_model, n_words=15)        \n",
    "\n",
    "# Topic - Keywords Dataframe\n",
    "df_topic_keywords = pd.DataFrame(topic_keywords)\n",
    "df_topic_keywords.columns = ['Word '+str(i) for i in range(df_topic_keywords.shape[1])]\n",
    "df_topic_keywords.index = ['Topic '+str(i) for i in range(df_topic_keywords.shape[0])]\n",
    "df_topic_keywords"
   ]
  },
  {
   "cell_type": "code",
   "execution_count": 55,
   "metadata": {},
   "outputs": [],
   "source": [
    "#Trabajando con un tema\n",
    "single_topic = LDA.components_[0]"
   ]
  },
  {
   "cell_type": "code",
   "execution_count": 56,
   "metadata": {},
   "outputs": [
    {
     "data": {
      "text/plain": [
       "array([13214,  5925,  1602, ..., 13725,  2177,  6422], dtype=int64)"
      ]
     },
     "execution_count": 56,
     "metadata": {},
     "output_type": "execute_result"
    }
   ],
   "source": [
    "#Ordenar los indices de la matriz de la mas baja a la mas alta\n",
    "single_topic.argsort()"
   ]
  },
  {
   "cell_type": "code",
   "execution_count": 57,
   "metadata": {},
   "outputs": [
    {
     "data": {
      "text/plain": [
       "array([2, 0, 1], dtype=int64)"
      ]
     },
     "execution_count": 57,
     "metadata": {},
     "output_type": "execute_result"
    }
   ],
   "source": [
    "import numpy as np\n",
    "#Ejemplo\n",
    "arr = np.array([10,200,3])\n",
    "arr.argsort()"
   ]
  },
  {
   "cell_type": "code",
   "execution_count": 58,
   "metadata": {},
   "outputs": [
    {
     "data": {
      "text/plain": [
       "array([ 5758, 17251, 15909, 10773, 17292,  6920, 17387, 13725,  2177,\n",
       "        6422], dtype=int64)"
      ]
     },
     "execution_count": 58,
     "metadata": {},
     "output_type": "execute_result"
    }
   ],
   "source": [
    "#10 palabras mas frecuentes en el tema 1\n",
    "single_topic.argsort()[-10:]"
   ]
  },
  {
   "cell_type": "code",
   "execution_count": 59,
   "metadata": {},
   "outputs": [],
   "source": [
    "top_ten_words = single_topic.argsort()[-10:]"
   ]
  },
  {
   "cell_type": "code",
   "execution_count": 60,
   "metadata": {},
   "outputs": [
    {
     "name": "stdout",
     "output_type": "stream",
     "text": [
      "england\n",
      "won\n",
      "time\n",
      "new\n",
      "world\n",
      "game\n",
      "year\n",
      "said\n",
      "best\n",
      "film\n"
     ]
    }
   ],
   "source": [
    "for index in top_ten_words:\n",
    "    print(cv.get_feature_names()[index])"
   ]
  },
  {
   "cell_type": "code",
   "execution_count": 61,
   "metadata": {},
   "outputs": [],
   "source": [
    "#Captar las palabras de mayor probabilidad por tema"
   ]
  },
  {
   "cell_type": "code",
   "execution_count": 62,
   "metadata": {},
   "outputs": [
    {
     "name": "stdout",
     "output_type": "stream",
     "text": [
      "Las principales 15 palabras del tema #(index)\n",
      "['win', 'just', 'awards', 'years', 'games', 'england', 'won', 'time', 'new', 'world', 'game', 'year', 'said', 'best', 'film']\n",
      "\n",
      "\n",
      "\n",
      "\n",
      "Las principales 15 palabras del tema #(index)\n",
      "['brown', 'told', 'minister', 'music', 'mobile', 'uk', 'blair', 'party', 'election', 'new', 'labour', 'government', 'people', 'mr', 'said']\n",
      "\n",
      "\n",
      "\n",
      "\n",
      "Las principales 15 palabras del tema #(index)\n",
      "['good', 'cup', 'players', 'year', 'league', 'open', 'play', 'match', 'chelsea', 'united', 'time', 'win', 'game', 'club', 'said']\n",
      "\n",
      "\n",
      "\n",
      "\n",
      "Las principales 15 palabras del tema #(index)\n",
      "['microsoft', 'information', 'computer', 'search', 'use', 'security', 'china', 'world', 'new', 'net', 'users', 'mr', 'software', 'people', 'said']\n",
      "\n",
      "\n",
      "\n",
      "\n",
      "Las principales 15 palabras del tema #(index)\n",
      "['years', 'economic', '000', 'uk', 'firm', 'mr', 'economy', '2004', 'growth', 'market', 'new', 'sales', 'company', 'year', 'said']\n",
      "\n",
      "\n",
      "\n",
      "\n"
     ]
    }
   ],
   "source": [
    "for index,topic in enumerate(LDA.components_):\n",
    "    print(f'Las principales 15 palabras del tema #(index)')\n",
    "    print([cv.get_feature_names()[index] for index in topic.argsort()[-15:]])\n",
    "    print('\\n')\n",
    "    print('\\n')"
   ]
  },
  {
   "cell_type": "code",
   "execution_count": 63,
   "metadata": {},
   "outputs": [
    {
     "data": {
      "text/plain": [
       "<2225x17473 sparse matrix of type '<class 'numpy.int64'>'\n",
       "\twith 310493 stored elements in Compressed Sparse Row format>"
      ]
     },
     "execution_count": 63,
     "metadata": {},
     "output_type": "execute_result"
    }
   ],
   "source": [
    "#Documento original convertido en matriz\n",
    "dtm"
   ]
  },
  {
   "cell_type": "code",
   "execution_count": 64,
   "metadata": {},
   "outputs": [
    {
     "data": {
      "text/html": [
       "<div>\n",
       "<style scoped>\n",
       "    .dataframe tbody tr th:only-of-type {\n",
       "        vertical-align: middle;\n",
       "    }\n",
       "\n",
       "    .dataframe tbody tr th {\n",
       "        vertical-align: top;\n",
       "    }\n",
       "\n",
       "    .dataframe thead th {\n",
       "        text-align: right;\n",
       "    }\n",
       "</style>\n",
       "<table border=\"1\" class=\"dataframe\">\n",
       "  <thead>\n",
       "    <tr style=\"text-align: right;\">\n",
       "      <th></th>\n",
       "      <th>Unnamed: 0</th>\n",
       "      <th>Type</th>\n",
       "      <th>News</th>\n",
       "    </tr>\n",
       "  </thead>\n",
       "  <tbody>\n",
       "    <tr>\n",
       "      <th>0</th>\n",
       "      <td>0</td>\n",
       "      <td>Business</td>\n",
       "      <td>Ad sales boost Time Warner profit\\n\\nQuarterly...</td>\n",
       "    </tr>\n",
       "    <tr>\n",
       "      <th>1</th>\n",
       "      <td>1</td>\n",
       "      <td>Business</td>\n",
       "      <td>Dollar gains on Greenspan speech\\n\\nThe dollar...</td>\n",
       "    </tr>\n",
       "    <tr>\n",
       "      <th>2</th>\n",
       "      <td>2</td>\n",
       "      <td>Business</td>\n",
       "      <td>Yukos unit buyer faces loan claim\\n\\nThe owner...</td>\n",
       "    </tr>\n",
       "    <tr>\n",
       "      <th>3</th>\n",
       "      <td>3</td>\n",
       "      <td>Business</td>\n",
       "      <td>High fuel prices hit BA's profits\\n\\nBritish A...</td>\n",
       "    </tr>\n",
       "    <tr>\n",
       "      <th>4</th>\n",
       "      <td>4</td>\n",
       "      <td>Business</td>\n",
       "      <td>Pernod takeover talk lifts Domecq\\n\\nShares in...</td>\n",
       "    </tr>\n",
       "  </tbody>\n",
       "</table>\n",
       "</div>"
      ],
      "text/plain": [
       "   Unnamed: 0      Type                                               News\n",
       "0           0  Business  Ad sales boost Time Warner profit\\n\\nQuarterly...\n",
       "1           1  Business  Dollar gains on Greenspan speech\\n\\nThe dollar...\n",
       "2           2  Business  Yukos unit buyer faces loan claim\\n\\nThe owner...\n",
       "3           3  Business  High fuel prices hit BA's profits\\n\\nBritish A...\n",
       "4           4  Business  Pernod takeover talk lifts Domecq\\n\\nShares in..."
      ]
     },
     "execution_count": 64,
     "metadata": {},
     "output_type": "execute_result"
    }
   ],
   "source": [
    "#Datos\n",
    "npr.head()"
   ]
  },
  {
   "cell_type": "code",
   "execution_count": 65,
   "metadata": {},
   "outputs": [],
   "source": [
    "#Agregar analisis a conjunto de datos con el titulo e cada tema"
   ]
  },
  {
   "cell_type": "code",
   "execution_count": 66,
   "metadata": {},
   "outputs": [],
   "source": [
    "#Crear lista con temas reales de la matriz dtm\n",
    "topic_result = LDA.transform(dtm)"
   ]
  },
  {
   "cell_type": "code",
   "execution_count": 67,
   "metadata": {},
   "outputs": [
    {
     "data": {
      "text/plain": [
       "(2225, 5)"
      ]
     },
     "execution_count": 67,
     "metadata": {},
     "output_type": "execute_result"
    }
   ],
   "source": [
    "#Matrizcon los temas\n",
    "topic_result.shape"
   ]
  },
  {
   "cell_type": "code",
   "execution_count": 68,
   "metadata": {},
   "outputs": [
    {
     "data": {
      "text/plain": [
       "array([0.04, 0.  , 0.  , 0.18, 0.78])"
      ]
     },
     "execution_count": 68,
     "metadata": {},
     "output_type": "execute_result"
    }
   ],
   "source": [
    "#provavilidades de pertenecer a un tema en particular redondeado\n",
    "topic_result[0].round(2)"
   ]
  },
  {
   "cell_type": "code",
   "execution_count": 69,
   "metadata": {},
   "outputs": [
    {
     "data": {
      "text/plain": [
       "4"
      ]
     },
     "execution_count": 69,
     "metadata": {},
     "output_type": "execute_result"
    }
   ],
   "source": [
    "#Tema al que pertenece cada articulo\n",
    "topic_result[0].argmax()"
   ]
  },
  {
   "cell_type": "code",
   "execution_count": 70,
   "metadata": {},
   "outputs": [],
   "source": [
    "npr['Tema_LDA'] = topic_result.argmax(axis=1)"
   ]
  },
  {
   "cell_type": "code",
   "execution_count": 71,
   "metadata": {},
   "outputs": [
    {
     "data": {
      "text/html": [
       "<div>\n",
       "<style scoped>\n",
       "    .dataframe tbody tr th:only-of-type {\n",
       "        vertical-align: middle;\n",
       "    }\n",
       "\n",
       "    .dataframe tbody tr th {\n",
       "        vertical-align: top;\n",
       "    }\n",
       "\n",
       "    .dataframe thead th {\n",
       "        text-align: right;\n",
       "    }\n",
       "</style>\n",
       "<table border=\"1\" class=\"dataframe\">\n",
       "  <thead>\n",
       "    <tr style=\"text-align: right;\">\n",
       "      <th></th>\n",
       "      <th>Unnamed: 0</th>\n",
       "      <th>Type</th>\n",
       "      <th>News</th>\n",
       "      <th>Tema_LDA</th>\n",
       "    </tr>\n",
       "  </thead>\n",
       "  <tbody>\n",
       "    <tr>\n",
       "      <th>0</th>\n",
       "      <td>0</td>\n",
       "      <td>Business</td>\n",
       "      <td>Ad sales boost Time Warner profit\\n\\nQuarterly...</td>\n",
       "      <td>4</td>\n",
       "    </tr>\n",
       "    <tr>\n",
       "      <th>1</th>\n",
       "      <td>1</td>\n",
       "      <td>Business</td>\n",
       "      <td>Dollar gains on Greenspan speech\\n\\nThe dollar...</td>\n",
       "      <td>4</td>\n",
       "    </tr>\n",
       "    <tr>\n",
       "      <th>2</th>\n",
       "      <td>2</td>\n",
       "      <td>Business</td>\n",
       "      <td>Yukos unit buyer faces loan claim\\n\\nThe owner...</td>\n",
       "      <td>3</td>\n",
       "    </tr>\n",
       "    <tr>\n",
       "      <th>3</th>\n",
       "      <td>3</td>\n",
       "      <td>Business</td>\n",
       "      <td>High fuel prices hit BA's profits\\n\\nBritish A...</td>\n",
       "      <td>4</td>\n",
       "    </tr>\n",
       "    <tr>\n",
       "      <th>4</th>\n",
       "      <td>4</td>\n",
       "      <td>Business</td>\n",
       "      <td>Pernod takeover talk lifts Domecq\\n\\nShares in...</td>\n",
       "      <td>4</td>\n",
       "    </tr>\n",
       "  </tbody>\n",
       "</table>\n",
       "</div>"
      ],
      "text/plain": [
       "   Unnamed: 0      Type                                               News  \\\n",
       "0           0  Business  Ad sales boost Time Warner profit\\n\\nQuarterly...   \n",
       "1           1  Business  Dollar gains on Greenspan speech\\n\\nThe dollar...   \n",
       "2           2  Business  Yukos unit buyer faces loan claim\\n\\nThe owner...   \n",
       "3           3  Business  High fuel prices hit BA's profits\\n\\nBritish A...   \n",
       "4           4  Business  Pernod takeover talk lifts Domecq\\n\\nShares in...   \n",
       "\n",
       "   Tema_LDA  \n",
       "0         4  \n",
       "1         4  \n",
       "2         3  \n",
       "3         4  \n",
       "4         4  "
      ]
     },
     "execution_count": 71,
     "metadata": {},
     "output_type": "execute_result"
    }
   ],
   "source": [
    "npr.head()"
   ]
  },
  {
   "cell_type": "markdown",
   "metadata": {},
   "source": [
    "# SOM 2"
   ]
  },
  {
   "cell_type": "code",
   "execution_count": 72,
   "metadata": {},
   "outputs": [],
   "source": [
    "%matplotlib inline\n",
    "import numpy as np\n",
    "from matplotlib import pyplot as plt\n",
    "from sompy.sompy import SOMFactory\n",
    "from sklearn.datasets import fetch_california_housing"
   ]
  },
  {
   "cell_type": "code",
   "execution_count": 73,
   "metadata": {},
   "outputs": [
    {
     "name": "stdout",
     "output_type": "stream",
     "text": [
      ".. _california_housing_dataset:\n",
      "\n",
      "California Housing dataset\n",
      "--------------------------\n",
      "\n",
      "**Data Set Characteristics:**\n",
      "\n",
      "    :Number of Instances: 20640\n",
      "\n",
      "    :Number of Attributes: 8 numeric, predictive attributes and the target\n",
      "\n",
      "    :Attribute Information:\n",
      "        - MedInc        median income in block\n",
      "        - HouseAge      median house age in block\n",
      "        - AveRooms      average number of rooms\n",
      "        - AveBedrms     average number of bedrooms\n",
      "        - Population    block population\n",
      "        - AveOccup      average house occupancy\n",
      "        - Latitude      house block latitude\n",
      "        - Longitude     house block longitude\n",
      "\n",
      "    :Missing Attribute Values: None\n",
      "\n",
      "This dataset was obtained from the StatLib repository.\n",
      "http://lib.stat.cmu.edu/datasets/\n",
      "\n",
      "The target variable is the median house value for California districts.\n",
      "\n",
      "This dataset was derived from the 1990 U.S. census, using one row per census\n",
      "block group. A block group is the smallest geographical unit for which the U.S.\n",
      "Census Bureau publishes sample data (a block group typically has a population\n",
      "of 600 to 3,000 people).\n",
      "\n",
      "It can be downloaded/loaded using the\n",
      ":func:`sklearn.datasets.fetch_california_housing` function.\n",
      "\n",
      ".. topic:: References\n",
      "\n",
      "    - Pace, R. Kelley and Ronald Barry, Sparse Spatial Autoregressions,\n",
      "      Statistics and Probability Letters, 33 (1997) 291-297\n",
      "\n",
      "FEATURES:  MedInc, HouseAge, AveRooms, AveBedrms, Population, AveOccup, Latitude, Longitude, HouseValue\n"
     ]
    }
   ],
   "source": [
    "data = fetch_california_housing()\n",
    "descr = data.DESCR\n",
    "names = fetch_california_housing().feature_names+[\"HouseValue\"]\n",
    "\n",
    "data = np.column_stack([data.data, data.target])\n",
    "print(descr)\n",
    "print( \"FEATURES: \", \", \".join(names))"
   ]
  },
  {
   "cell_type": "code",
   "execution_count": 74,
   "metadata": {},
   "outputs": [
    {
     "data": {
      "text/plain": [
       "array([[   8.3252    ,   41.        ,    6.98412698, ...,   37.88      ,\n",
       "        -122.23      ,    4.526     ],\n",
       "       [   8.3014    ,   21.        ,    6.23813708, ...,   37.86      ,\n",
       "        -122.22      ,    3.585     ],\n",
       "       [   7.2574    ,   52.        ,    8.28813559, ...,   37.85      ,\n",
       "        -122.24      ,    3.521     ],\n",
       "       ...,\n",
       "       [   1.7       ,   17.        ,    5.20554273, ...,   39.43      ,\n",
       "        -121.22      ,    0.923     ],\n",
       "       [   1.8672    ,   18.        ,    5.32951289, ...,   39.43      ,\n",
       "        -121.32      ,    0.847     ],\n",
       "       [   2.3886    ,   16.        ,    5.25471698, ...,   39.37      ,\n",
       "        -121.24      ,    0.894     ]])"
      ]
     },
     "execution_count": 74,
     "metadata": {},
     "output_type": "execute_result"
    }
   ],
   "source": [
    "data"
   ]
  },
  {
   "cell_type": "code",
   "execution_count": 75,
   "metadata": {},
   "outputs": [
    {
     "data": {
      "text/plain": [
       "array([[4.28742950e-02, 8.77403585e-04, 8.66898790e-04, 1.79950296e-01,\n",
       "        7.75431107e-01],\n",
       "       [1.01653153e-03, 1.01805057e-03, 1.00879532e-03, 3.32824709e-01,\n",
       "        6.64131914e-01],\n",
       "       [1.01007744e-02, 1.32976869e-03, 1.32541489e-03, 9.21209754e-01,\n",
       "        6.60342883e-02],\n",
       "       ...,\n",
       "       [4.33759552e-04, 2.61964670e-01, 4.33784356e-04, 7.36734446e-01,\n",
       "        4.33340178e-04],\n",
       "       [1.05941996e-03, 1.06768389e-03, 1.06207233e-03, 9.95748587e-01,\n",
       "        1.06223663e-03],\n",
       "       [6.02622424e-01, 3.54209525e-01, 1.67465868e-04, 4.28334814e-02,\n",
       "        1.67103597e-04]])"
      ]
     },
     "execution_count": 75,
     "metadata": {},
     "output_type": "execute_result"
    }
   ],
   "source": [
    "topic_result"
   ]
  },
  {
   "cell_type": "code",
   "execution_count": 76,
   "metadata": {},
   "outputs": [
    {
     "data": {
      "text/plain": [
       "(2225, 5)"
      ]
     },
     "execution_count": 76,
     "metadata": {},
     "output_type": "execute_result"
    }
   ],
   "source": [
    "topic_result.shape"
   ]
  },
  {
   "cell_type": "markdown",
   "metadata": {},
   "source": [
    "# Visualizacion"
   ]
  },
  {
   "cell_type": "code",
   "execution_count": 77,
   "metadata": {},
   "outputs": [],
   "source": [
    "name=['Tech','Economy','Sport','Entertainment','Business']"
   ]
  },
  {
   "cell_type": "code",
   "execution_count": 78,
   "metadata": {},
   "outputs": [
    {
     "data": {
      "text/plain": [
       "['Tech', 'Economy', 'Sport', 'Entertainment', 'Business']"
      ]
     },
     "execution_count": 78,
     "metadata": {},
     "output_type": "execute_result"
    }
   ],
   "source": [
    "name"
   ]
  },
  {
   "cell_type": "code",
   "execution_count": 79,
   "metadata": {},
   "outputs": [],
   "source": [
    "#msz = calculate_msz(data)\n",
    "sm = SOMFactory().build(topic_result, normalization = 'var', initialization='random', component_names=name)\n",
    "sm.train(n_job=1, verbose=False, train_rough_len=2, train_finetune_len=5)"
   ]
  },
  {
   "cell_type": "code",
   "execution_count": 80,
   "metadata": {},
   "outputs": [
    {
     "name": "stdout",
     "output_type": "stream",
     "text": [
      "Topographic error = 0.4750561797752809; Quantization error = 0.19970313005500695\n"
     ]
    }
   ],
   "source": [
    "topographic_error = sm.calculate_topographic_error()\n",
    "quantization_error = np.mean(sm._bmu[1])\n",
    "print (\"Topographic error = %s; Quantization error = %s\" % (topographic_error, quantization_error))"
   ]
  },
  {
   "cell_type": "markdown",
   "metadata": {},
   "source": [
    "Components mmap"
   ]
  },
  {
   "cell_type": "code",
   "execution_count": 81,
   "metadata": {},
   "outputs": [
    {
     "data": {
      "image/png": "[encoded data removed]",
      "text/plain": [
       "<Figure size 1152x540 with 10 Axes>"
      ]
     },
     "metadata": {},
     "output_type": "display_data"
    }
   ],
   "source": [
    "from sompy.visualization.mapview import View2D\n",
    "view2D  = View2D(10,10,\"rand data\",text_size=10)\n",
    "view2D.show(sm, col_sz=4, which_dim=\"all\", denormalize=True)"
   ]
  },
  {
   "cell_type": "markdown",
   "metadata": {},
   "source": [
    "Hist map"
   ]
  },
  {
   "cell_type": "code",
   "execution_count": 82,
   "metadata": {},
   "outputs": [
    {
     "data": {
      "image/png": "[encoded data removed]",
      "text/plain": [
       "<Figure size 720x720 with 2 Axes>"
      ]
     },
     "metadata": {},
     "output_type": "display_data"
    }
   ],
   "source": [
    "from sompy.visualization.bmuhits import BmuHitsView\n",
    "\n",
    "vhts  = BmuHitsView(10,10,\"Hits Map\",text_size=7)\n",
    "vhts.show(sm, anotate=True, onlyzeros=False, labelsize=10, cmap=\"autumn\", logaritmic=False)\n",
    "plt.show()\n",
    "#cmap=\"Greys\""
   ]
  },
  {
   "cell_type": "markdown",
   "metadata": {},
   "source": [
    "K-Means clustering"
   ]
  },
  {
   "cell_type": "code",
   "execution_count": 83,
   "metadata": {},
   "outputs": [
    {
     "name": "stderr",
     "output_type": "stream",
     "text": [
      "C:\\ProgramData\\Anaconda3\\lib\\site-packages\\sompy\\visualization\\hitmap.py:37: MatplotlibDeprecationWarning: Adding an axes using the same arguments as a previous axes currently reuses the earlier instance.  In a future version, a new instance will always be created and returned.  Meanwhile, this warning can be suppressed, and the future behavior ensured, by passing a unique label to each axes instance.\n",
      "  ax = self._fig.add_subplot(111)\n"
     ]
    },
    {
     "data": {
      "image/png": "[encoded data removed]",
      "text/plain": [
       "<Figure size 720x720 with 1 Axes>"
      ]
     },
     "metadata": {},
     "output_type": "display_data"
    }
   ],
   "source": [
    "from sompy.visualization.hitmap import HitMapView\n",
    "sm.cluster(5)\n",
    "hits  = HitMapView(10,10,\"Clustering\",text_size=7)\n",
    "a=hits.show(sm, labelsize=12)"
   ]
  },
  {
   "cell_type": "markdown",
   "metadata": {},
   "source": [
    "Perplejidad"
   ]
  },
  {
   "cell_type": "code",
   "execution_count": 84,
   "metadata": {},
   "outputs": [],
   "source": [
    "from nltk.lm.preprocessing import padded_everygram_pipeline\n",
    "from nltk.lm import MLE\n",
    "from nltk.lm import Vocabulary"
   ]
  },
  {
   "cell_type": "code",
   "execution_count": 85,
   "metadata": {},
   "outputs": [],
   "source": [
    "lda_model = LatentDirichletAllocation(n_topics=20,               # Number of topics\n",
    "                                      max_iter=10,               # Max learning iterations\n",
    "                                      learning_method='online',   \n",
    "                                      random_state=100,          # Random state\n",
    "                                      batch_size=128,            # n docs in each learning iter\n",
    "                                      evaluate_every = -1,       # compute perplexity every n iters, default: Don't\n",
    "                                      n_jobs = -1,               # Use all available CPUs\n",
    "                                     )"
   ]
  },
  {
   "cell_type": "code",
   "execution_count": null,
   "metadata": {},
   "outputs": [],
   "source": []
  },
  {
   "cell_type": "code",
   "execution_count": null,
   "metadata": {},
   "outputs": [],
   "source": []
  },
  {
   "cell_type": "code",
   "execution_count": null,
   "metadata": {},
   "outputs": [],
   "source": []
  },
  {
   "cell_type": "code",
   "execution_count": null,
   "metadata": {},
   "outputs": [],
   "source": []
  },
  {
   "cell_type": "code",
   "execution_count": null,
   "metadata": {},
   "outputs": [],
   "source": []
  },
  {
   "cell_type": "code",
   "execution_count": null,
   "metadata": {},
   "outputs": [],
   "source": []
  },
  {
   "cell_type": "code",
   "execution_count": null,
   "metadata": {},
   "outputs": [],
   "source": []
  },
  {
   "cell_type": "code",
   "execution_count": null,
   "metadata": {},
   "outputs": [],
   "source": []
  },
  {
   "cell_type": "code",
   "execution_count": null,
   "metadata": {},
   "outputs": [],
   "source": []
  },
  {
   "cell_type": "code",
   "execution_count": null,
   "metadata": {},
   "outputs": [],
   "source": []
  },
  {
   "cell_type": "code",
   "execution_count": null,
   "metadata": {},
   "outputs": [],
   "source": []
  },
  {
   "cell_type": "code",
   "execution_count": null,
   "metadata": {},
   "outputs": [],
   "source": []
  },
  {
   "cell_type": "code",
   "execution_count": null,
   "metadata": {},
   "outputs": [],
   "source": []
  },
  {
   "cell_type": "code",
   "execution_count": null,
   "metadata": {},
   "outputs": [],
   "source": []
  },
  {
   "cell_type": "code",
   "execution_count": null,
   "metadata": {},
   "outputs": [],
   "source": []
  }
 ],
 "metadata": {
  "kernelspec": {
   "display_name": "Python 3",
   "language": "python",
   "name": "python3"
  },
  "language_info": {
   "codemirror_mode": {
    "name": "ipython",
    "version": 3
   },
   "file_extension": ".py",
   "mimetype": "text/x-python",
   "name": "python",
   "nbconvert_exporter": "python",
   "pygments_lexer": "ipython3",
   "version": "3.7.3"
  }
 },
 "nbformat": 4,
 "nbformat_minor": 2
}
